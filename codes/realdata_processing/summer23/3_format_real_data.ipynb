{
 "cells": [
  {
   "cell_type": "code",
   "execution_count": 8,
   "metadata": {},
   "outputs": [],
   "source": [
    "from obspy.core import Stream, read, UTCDateTime\n",
    "import matplotlib.pyplot as plt\n",
    "import numpy as np\n",
    "import h5py\n",
    "\n",
    "stas = np.genfromtxt('/hdd/Ridgecrest/summer23/GNSS_stas.txt', usecols = [2], dtype = str)\n",
    "chans = ['e', 'n', 'u']\n",
    "eq_dates = np.genfromtxt('/hdd/Ridgecrest/summer23/GNNS_dates_w_eqs_only.txt', dtype = str)\n",
    "ns = np.arange(0,680,1)\n",
    "\n",
    "project = 'summer23'\n",
    "project_dir = '/hdd/Ridgecrest/' + project + '/'\n",
    "split_mseed_path = project_dir + 'eq_days_split_mseeds/' # Where the split data we're loading is\n",
    "\n",
    "small_test = False # Just checking to see how the code runs? If so, True\n",
    "\n",
    "if small_test:\n",
    "    \n",
    "    stas = ['BEPK', 'CCCC']\n",
    "    dates = ['20190705', '20190712']\n",
    "\n",
    "data_list = []\n",
    "k = -1\n",
    "\n",
    "sta_list = []\n",
    "date_list = []\n",
    "starttime_list = []\n",
    "endtime_list = []\n",
    "n_list = []"
   ]
  },
  {
   "cell_type": "code",
   "execution_count": 9,
   "metadata": {},
   "outputs": [
    {
     "name": "stdout",
     "output_type": "stream",
     "text": [
      "BEPK_20190705\n",
      "BEPK_20190712\n",
      "CCCC_20190705\n",
      "CCCC_20190712\n"
     ]
    }
   ],
   "source": [
    "for sta in stas:\n",
    "        \n",
    "    for date in dates:\n",
    "        \n",
    "        print(sta + '_' + date)\n",
    "\n",
    "        for n in ns:\n",
    "        \n",
    "            try:\n",
    "                \n",
    "                stN = read(split_mseed_path + sta + '/n_split_mseeds/' + date + '/' + sta + '.n.' + date + '.' + str(n) + '.mseed')\n",
    "                stE = read(split_mseed_path + sta + '/e_split_mseeds/' + date + '/' + sta + '.e.' + date + '.' + str(n) + '.mseed')\n",
    "                stZ = read(split_mseed_path + sta + '/u_split_mseeds/' + date + '/' + sta + '.u.' + date + '.' + str(n) + '.mseed')\n",
    "                \n",
    "                N_data = stN[0].data\n",
    "                E_data = stE[0].data\n",
    "                Z_data = stZ[0].data\n",
    "                \n",
    "                comb_data = np.append(N_data, E_data)\n",
    "                comb_data = np.append(comb_data, Z_data) # Order: N, E, Z\n",
    "\n",
    "                data_list.append(comb_data)\n",
    "                \n",
    "                starttime = stN[0].stats.starttime\n",
    "                endtime = stN[0].stats.endtime\n",
    "                \n",
    "                sta_list.append(sta)\n",
    "                date_list.append(date)\n",
    "                starttime_list.append(str(starttime))\n",
    "                endtime_list.append(str(endtime))\n",
    "                n_list.append(n)\n",
    "                \n",
    "                # Plot\n",
    "                \n",
    "                # print(k)\n",
    "                # if k == 678:\n",
    "        \n",
    "                #     plt.figure(figsize=(10,4), dpi=300)\n",
    "                #     plt.plot(comb_data,label='Real data')\n",
    "                #     # plt.plot(one_line_noise,label='Noise')\n",
    "                #     # plt.plot(noisy_data-0.2,label='Noisy data')\n",
    "                #     # plt.legend(loc = 'upper right')\n",
    "                    \n",
    "                #     plt.axvline(127, color = 'black') # last sample of N. E starts at 256\n",
    "                #     plt.axvline(255, color = 'black') # last sample of E. Z starts at 512\n",
    "                    \n",
    "                #     plt.text(25, -0.35, 'N', fontsize = 25, fontweight = 'bold')\n",
    "                #     plt.text(100, -0.35, 'E', fontsize = 25, fontweight = 'bold')\n",
    "                #     plt.text(175, -0.35, 'Z', fontsize = 25, fontweight = 'bold')\n",
    "                    \n",
    "                #     # plt.show()\n",
    "                #     plt.savefig('plot.png', format = 'PNG')\n",
    "                #     plt.close()\n",
    "                \n",
    "                k += 1\n",
    "                \n",
    "            except:\n",
    "                \n",
    "                print('Missing station, channel, or date')\n",
    "\n"
   ]
  },
  {
   "cell_type": "code",
   "execution_count": 10,
   "metadata": {},
   "outputs": [
    {
     "name": "stdout",
     "output_type": "stream",
     "text": [
      "Data array shape:\n",
      "(2720, 384)\n",
      "Info array shape:\n",
      "(2720, 5)\n"
     ]
    }
   ],
   "source": [
    "data_array = np.array(data_list)\n",
    "print('Data array shape:')\n",
    "print(data_array.shape) # should be something by 384\n",
    "\n",
    "info_array = np.column_stack((sta_array, date_array, starttime_array, endtime_array, n_array))\n",
    "print('Info array shape:')\n",
    "print(info_array.shape)\n",
    "\n",
    "h5f = h5py.File(project_dir + 'realdata_data.hdf5', 'w') \n",
    "h5f.create_dataset('realdata_data', data = data_array)\n",
    "h5f.close()\n",
    "\n",
    "np.save(project_dir + 'realdata_info.npy', info_array) "
   ]
  },
  {
   "cell_type": "code",
   "execution_count": null,
   "metadata": {},
   "outputs": [],
   "source": []
  }
 ],
 "metadata": {
  "kernelspec": {
   "display_name": "Python 3",
   "language": "python",
   "name": "python3"
  },
  "language_info": {
   "codemirror_mode": {
    "name": "ipython",
    "version": 3
   },
   "file_extension": ".py",
   "mimetype": "text/x-python",
   "name": "python",
   "nbconvert_exporter": "python",
   "pygments_lexer": "ipython3",
   "version": "3.8.5"
  }
 },
 "nbformat": 4,
 "nbformat_minor": 4
}
