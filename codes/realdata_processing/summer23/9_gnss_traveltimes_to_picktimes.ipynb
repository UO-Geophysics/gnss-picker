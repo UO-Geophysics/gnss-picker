{
 "cells": [
  {
   "cell_type": "code",
   "execution_count": 8,
   "metadata": {},
   "outputs": [],
   "source": [
    "import numpy as np\n",
    "from obspy.core import UTCDateTime\n",
    "\n",
    "minmag = 4.3\n",
    "\n",
    "project = 'summer23'\n",
    "project_dir = '/hdd/Ridgecrest/' + project + '/'\n",
    "\n",
    "gnss_tt_dir = project_dir + 'minM' + str(minmag) + '_gnss_traveltimes/'\n",
    "gnss_tt_p_dir = gnss_tt_dir + 'p_tts/'\n",
    "\n",
    "event_catalog = np.genfromtxt(project_dir + 'minM' + str(minmag) + '_event_catalog.txt', dtype = 'U')\n",
    "GNSS_stas = np.genfromtxt(project_dir + 'GNSS_stas.txt', dtype = 'U')\n",
    "\n",
    "small_test = True # Test code with smaller dataset?\n",
    "\n",
    "if small_test:\n",
    "    event_catalog = event_catalog[23:24,:]"
   ]
  },
  {
   "cell_type": "code",
   "execution_count": 10,
   "metadata": {},
   "outputs": [
    {
     "name": "stdout",
     "output_type": "stream",
     "text": [
      "Event 39281127 (1/1)\n"
     ]
    },
    {
     "ename": "FileNotFoundError",
     "evalue": "[Errno 2] No such file or directory: '/hdd/Ridgecrest/summer23/minM4.3_gnss_traveltimes/p_tts/39281127.npy'",
     "output_type": "error",
     "traceback": [
      "\u001b[0;31m---------------------------------------------------------------------------\u001b[0m",
      "\u001b[0;31mFileNotFoundError\u001b[0m                         Traceback (most recent call last)",
      "\u001b[0;32m<ipython-input-10-d4e5f70ad114>\u001b[0m in \u001b[0;36m<module>\u001b[0;34m\u001b[0m\n\u001b[1;32m     27\u001b[0m \u001b[0;31m#         try:\u001b[0m\u001b[0;34m\u001b[0m\u001b[0;34m\u001b[0m\u001b[0;34m\u001b[0m\u001b[0m\n\u001b[1;32m     28\u001b[0m \u001b[0;34m\u001b[0m\u001b[0m\n\u001b[0;32m---> 29\u001b[0;31m         \u001b[0mP_traveltimes\u001b[0m \u001b[0;34m=\u001b[0m \u001b[0mnp\u001b[0m\u001b[0;34m.\u001b[0m\u001b[0mload\u001b[0m\u001b[0;34m(\u001b[0m\u001b[0mgnss_tt_p_dir\u001b[0m \u001b[0;34m+\u001b[0m \u001b[0mstr\u001b[0m\u001b[0;34m(\u001b[0m\u001b[0mevent_ID\u001b[0m\u001b[0;34m)\u001b[0m \u001b[0;34m+\u001b[0m \u001b[0;34m'.npy'\u001b[0m\u001b[0;34m)\u001b[0m\u001b[0;34m\u001b[0m\u001b[0;34m\u001b[0m\u001b[0m\n\u001b[0m\u001b[1;32m     30\u001b[0m         \u001b[0mP_tt_stas\u001b[0m \u001b[0;34m=\u001b[0m \u001b[0mP_traveltimes\u001b[0m\u001b[0;34m[\u001b[0m\u001b[0;34m:\u001b[0m\u001b[0;34m,\u001b[0m\u001b[0;36m1\u001b[0m\u001b[0;34m]\u001b[0m\u001b[0;34m\u001b[0m\u001b[0;34m\u001b[0m\u001b[0m\n\u001b[1;32m     31\u001b[0m         \u001b[0mprint\u001b[0m\u001b[0;34m(\u001b[0m\u001b[0mP_traveltimes\u001b[0m\u001b[0;34m)\u001b[0m\u001b[0;34m\u001b[0m\u001b[0;34m\u001b[0m\u001b[0m\n",
      "\u001b[0;32m~/anaconda3/lib/python3.8/site-packages/numpy/lib/npyio.py\u001b[0m in \u001b[0;36mload\u001b[0;34m(file, mmap_mode, allow_pickle, fix_imports, encoding)\u001b[0m\n\u001b[1;32m    414\u001b[0m             \u001b[0mown_fid\u001b[0m \u001b[0;34m=\u001b[0m \u001b[0;32mFalse\u001b[0m\u001b[0;34m\u001b[0m\u001b[0;34m\u001b[0m\u001b[0m\n\u001b[1;32m    415\u001b[0m         \u001b[0;32melse\u001b[0m\u001b[0;34m:\u001b[0m\u001b[0;34m\u001b[0m\u001b[0;34m\u001b[0m\u001b[0m\n\u001b[0;32m--> 416\u001b[0;31m             \u001b[0mfid\u001b[0m \u001b[0;34m=\u001b[0m \u001b[0mstack\u001b[0m\u001b[0;34m.\u001b[0m\u001b[0menter_context\u001b[0m\u001b[0;34m(\u001b[0m\u001b[0mopen\u001b[0m\u001b[0;34m(\u001b[0m\u001b[0mos_fspath\u001b[0m\u001b[0;34m(\u001b[0m\u001b[0mfile\u001b[0m\u001b[0;34m)\u001b[0m\u001b[0;34m,\u001b[0m \u001b[0;34m\"rb\"\u001b[0m\u001b[0;34m)\u001b[0m\u001b[0;34m)\u001b[0m\u001b[0;34m\u001b[0m\u001b[0;34m\u001b[0m\u001b[0m\n\u001b[0m\u001b[1;32m    417\u001b[0m             \u001b[0mown_fid\u001b[0m \u001b[0;34m=\u001b[0m \u001b[0;32mTrue\u001b[0m\u001b[0;34m\u001b[0m\u001b[0;34m\u001b[0m\u001b[0m\n\u001b[1;32m    418\u001b[0m \u001b[0;34m\u001b[0m\u001b[0m\n",
      "\u001b[0;31mFileNotFoundError\u001b[0m: [Errno 2] No such file or directory: '/hdd/Ridgecrest/summer23/minM4.3_gnss_traveltimes/p_tts/39281127.npy'"
     ]
    }
   ],
   "source": [
    "event_ID_list = []\n",
    "mag_list = []\n",
    "stas_list = []\n",
    "P_arrivals_list = []\n",
    "\n",
    "counter = 0\n",
    "\n",
    "for kevent in range(len(event_catalog)):\n",
    "\n",
    "    counter += 1\n",
    "\n",
    "    event_ID = event_catalog[kevent,0]\n",
    "    magnitude = event_catalog[kevent,5]\n",
    "    origin_time = event_catalog[kevent,1]\n",
    "    origin_time = UTCDateTime(origin_time)\n",
    "    \n",
    "    print('Event ' + str(event_ID) + ' (' + str(counter) + '/' + str(len(event_catalog)) + ')')\n",
    "    \n",
    "    for ksta in range(len(GNSS_stas)):\n",
    "        \n",
    "        sta = GNSS_stas[ksta,2]\n",
    "        \n",
    "        stas_list.append(sta)\n",
    "        mag_list.append(magnitude)\n",
    "        event_ID_list.append(event_ID)\n",
    "        \n",
    "        try:\n",
    "        \n",
    "            P_traveltimes = np.load(gnss_tt_p_dir + str(event_ID) + '.npy')\n",
    "            P_tt_stas = P_traveltimes[:,1]\n",
    "#             print(P_traveltimes)\n",
    "#             print(P_tt_stas)\n",
    "\n",
    "            i = np.where(P_tt_stas == sta)[0]\n",
    "\n",
    "#             print('Origin time: ' + str(origin_time))\n",
    "\n",
    "            P_travel_time = P_traveltimes[i,2][0]\n",
    "#             print('P-wave travel time: ' + str(P_travel_time))\n",
    "\n",
    "            if P_travel_time == 'nan':\n",
    "\n",
    "                P_arrival_time = 'nan'\n",
    "#                 print('P-wave arrival time: ' + str(P_arrival_time))\n",
    "\n",
    "                P_arrivals_list.append(P_arrival_time)\n",
    "#                 print(len(P_arrivals_list))\n",
    "#                 a += 1\n",
    "#                 print('Worked! ' + str(a))\n",
    "\n",
    "            else:\n",
    "\n",
    "                P_arrival_time = origin_time + float(P_travel_time)\n",
    "#                 print('P-wave arrival time: ' + str(P_arrival_time))\n",
    "\n",
    "                P_arrivals_list.append(str(P_arrival_time))\n",
    "#                 print(len(P_arrivals_list))\n",
    "#                 a += 1\n",
    "#                 print('Worked! ' + str(a))\n",
    "                \n",
    "        except:\n",
    "            \n",
    "            P_arrivals_list.append('nan')\n",
    "#             print(len(P_arrivals_list))\n",
    "#             a += 1"
   ]
  },
  {
   "cell_type": "code",
   "execution_count": 3,
   "metadata": {},
   "outputs": [
    {
     "name": "stdout",
     "output_type": "stream",
     "text": [
      "100636\n",
      "100636\n",
      "100636\n",
      "100636\n",
      "100636\n"
     ]
    }
   ],
   "source": [
    "print(len(event_ID_list))\n",
    "print(len(mag_list))\n",
    "print(len(stas_list))\n",
    "print(len(P_arrivals_list))"
   ]
  },
  {
   "cell_type": "code",
   "execution_count": 4,
   "metadata": {},
   "outputs": [
    {
     "name": "stdout",
     "output_type": "stream",
     "text": [
      "[['37451589' '5.80' 'ACSB' 'nan' 'nan']\n",
      " ['37451589' '5.80' 'ACSX' 'nan' 'nan']\n",
      " ['37451589' '5.80' 'ANA1' 'nan' 'nan']\n",
      " ..., \n",
      " ['37419349' '5.90' 'WGPP' 'nan' 'nan']\n",
      " ['37419349' '5.90' 'WKPK' 'nan' 'nan']\n",
      " ['37419349' '5.90' 'WOMT' 'nan' 'nan']]\n"
     ]
    }
   ],
   "source": [
    "GNSS_arrival_times = np.column_stack((np.array(event_ID_list), np.array(mag_list), np.array(stas_list), np.array(P_arrivals_list))\n",
    "print(GNSS_arrival_times)\n",
    "\n",
    "np.save(project_dir + 'minM' + str(minmag) + '_gnss_arrival_times.npy', GNSS_arrival_times)\n"
   ]
  },
  {
   "cell_type": "code",
   "execution_count": null,
   "metadata": {},
   "outputs": [],
   "source": [
    "# Checking to see if it worked\n",
    "\n",
    "data = np.load(project_dir + 'minM' + str(minmag) + '_gnss_arrival_times.npy')\n",
    "print(data)\n",
    "\n",
    "# i = np.where((data[:,3] != 'error') & (data[:,3] != 'nan'))[0]\n",
    "i = np.where(data[:,3] != 'nan')[0]\n",
    "print(i)\n",
    "\n",
    "print(data[i])\n",
    "print(len(data[i]))"
   ]
  }
 ],
 "metadata": {
  "kernelspec": {
   "display_name": "Python 3",
   "language": "python",
   "name": "python3"
  },
  "language_info": {
   "codemirror_mode": {
    "name": "ipython",
    "version": 3
   },
   "file_extension": ".py",
   "mimetype": "text/x-python",
   "name": "python",
   "nbconvert_exporter": "python",
   "pygments_lexer": "ipython3",
   "version": "3.8.5"
  }
 },
 "nbformat": 4,
 "nbformat_minor": 4
}
