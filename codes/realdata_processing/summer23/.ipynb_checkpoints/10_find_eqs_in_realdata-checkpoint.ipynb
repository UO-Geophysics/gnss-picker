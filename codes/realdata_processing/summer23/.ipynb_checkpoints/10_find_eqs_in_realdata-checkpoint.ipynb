{
 "cells": [
  {
   "cell_type": "code",
   "execution_count": 1,
   "metadata": {},
   "outputs": [],
   "source": [
    "import h5py\n",
    "import numpy as np\n",
    "from obspy.core import UTCDateTime\n",
    "\n",
    "# MORE FILES (like the plots) CAN BE FOUND ON LAPTOP @ /gnss-picker/data/realdata/summer23/\n",
    "\n",
    "realdata_dir = '/home/sdybing/gnss-picker/data/realdata/summer23/'\n",
    "\n",
    "real_data = h5py.File(realdata_dir + 'demean_realdata.hdf5', 'r')\n",
    "real_data = real_data['demean_realdata'][:,:]\n",
    "real_metadata = np.load(realdata_dir + 'realdata_info.npy')\n",
    "# Need to associate each row in this with a 1 or a 0 if\n",
    "# an earthquake is supposed to be found there\n",
    "\n",
    "# real_metadata columns:\n",
    "# 0: station name\n",
    "# 1: date sample came from\n",
    "# 2: sample start time\n",
    "# 3: sample end time\n",
    "# 4: random n counter\n",
    "\n",
    "event_catalog = np.genfromtxt(realdata_dir + 'minM4.3_event_catalog.txt', dtype = 'U')\n",
    "# print(event_catalog)\n",
    "\n",
    "arrivaltimes = np.load(realdata_dir + 'minM4.3_gnss_arrival_times.npy')\n",
    "\n",
    "# arrivaltimes columns:\n",
    "# 0: event ID\n",
    "# 1: magnitude\n",
    "# 2: station name\n",
    "# 3: arrival time in sample"
   ]
  },
  {
   "cell_type": "code",
   "execution_count": 2,
   "metadata": {},
   "outputs": [],
   "source": [
    "k = np.where(real_metadata[:,0] == 'CCCC')[0]"
   ]
  },
  {
   "cell_type": "code",
   "execution_count": 3,
   "metadata": {},
   "outputs": [],
   "source": [
    "# test_metadata = real_metadata[26650:28400,:] # BEPK 7/04 17 hrs to 7/07 6 hrs\n",
    "test_metadata = real_metadata[k[0] + 473:k[-1] - 3216,:]"
   ]
  },
  {
   "cell_type": "code",
   "execution_count": 4,
   "metadata": {},
   "outputs": [
    {
     "data": {
      "text/plain": [
       "array([['CCCC', '20190704', '2019-07-04T16:41:11.000000Z',\n",
       "        '2019-07-04T16:43:18.000000Z', '473'],\n",
       "       ['CCCC', '20190704', '2019-07-04T16:43:18.000000Z',\n",
       "        '2019-07-04T16:45:25.000000Z', '474'],\n",
       "       ['CCCC', '20190704', '2019-07-04T16:45:25.000000Z',\n",
       "        '2019-07-04T16:47:32.000000Z', '475'],\n",
       "       ...,\n",
       "       ['CCCC', '20190707', '2019-07-07T06:21:00.000000Z',\n",
       "        '2019-07-07T06:23:07.000000Z', '180'],\n",
       "       ['CCCC', '20190707', '2019-07-07T06:23:07.000000Z',\n",
       "        '2019-07-07T06:25:14.000000Z', '181'],\n",
       "       ['CCCC', '20190707', '2019-07-07T06:25:14.000000Z',\n",
       "        '2019-07-07T06:27:21.000000Z', '182']], dtype='<U27')"
      ]
     },
     "execution_count": 4,
     "metadata": {},
     "output_type": "execute_result"
    }
   ],
   "source": [
    "test_metadata"
   ]
  },
  {
   "cell_type": "code",
   "execution_count": 5,
   "metadata": {},
   "outputs": [
    {
     "name": "stdout",
     "output_type": "stream",
     "text": [
      "(1061760, 384)\n",
      "['ACSB' '20190704' '2019-07-04T00:00:00.000000Z'\n",
      " '2019-07-04T00:02:07.000000Z' '0']\n",
      "(1061760, 5)\n",
      "(1750, 5)\n",
      "['39281127' '4.50' 'BEPK' '2020-07-06T06:13:37.686480Z']\n",
      "(100636, 4)\n"
     ]
    }
   ],
   "source": [
    "print(real_data.shape)\n",
    "print(real_metadata[0])\n",
    "print(real_metadata.shape)\n",
    "print(test_metadata.shape)\n",
    "print(arrivaltimes[6403])\n",
    "print(arrivaltimes.shape)"
   ]
  },
  {
   "cell_type": "code",
   "execution_count": 29,
   "metadata": {
    "scrolled": true
   },
   "outputs": [
    {
     "name": "stdout",
     "output_type": "stream",
     "text": [
      "P-wave in this sample (metadata row 16138) at index 10, station BBRY/BBRY, magnitude + 6.40\n",
      "P-wave in this sample (metadata row 26674) at index 120, station BEPK/BEPK, magnitude + 6.40\n",
      "P-wave in this sample (metadata row 27631) at index 64, station BEPK/BEPK, magnitude + 7.10\n",
      "P-wave in this sample (metadata row 37555) at index 5, station BKAP/BKAP, magnitude + 6.40\n",
      "P-wave in this sample (metadata row 40955) at index 15, station BKMS/BKMS, magnitude + 6.40\n",
      "P-wave in this sample (metadata row 46164) at index 14, station BMHL/BMHL, magnitude + 6.40\n",
      "P-wave in this sample (metadata row 51581) at index 96, station BSRY/BSRY, magnitude + 6.40\n",
      "P-wave in this sample (metadata row 55564) at index 72, station BVPP/BVPP, magnitude + 6.40\n",
      "P-wave in this sample (metadata row 90408) at index 115, station CCCC/CCCC, magnitude + 6.40\n",
      "P-wave in this sample (metadata row 91365) at index 60, station CCCC/CCCC, magnitude + 7.10\n",
      "P-wave in this sample (metadata row 95849) at index 6, station CDMT/CDMT, magnitude + 6.40\n",
      "P-wave in this sample (metadata row 104009) at index 14, station CNPP/CNPP, magnitude + 6.40\n",
      "P-wave in this sample (metadata row 109448) at index 122, station CPBN/CPBN, magnitude + 6.40\n",
      "P-wave in this sample (metadata row 110405) at index 68, station CPBN/CPBN, magnitude + 7.10\n",
      "P-wave in this sample (metadata row 139354) at index 9, station CTDM/CTDM, magnitude + 6.40\n",
      "P-wave in this sample (metadata row 161055) at index 10, station EWPP/EWPP, magnitude + 6.40\n",
      "P-wave in this sample (metadata row 166495) at index 12, station FMVT/FMVT, magnitude + 6.40\n",
      "P-wave in this sample (metadata row 171935) at index 11, station GMRC/GMRC, magnitude + 6.40\n",
      "P-wave in this sample (metadata row 177375) at index 6, station HCMN/HCMN, magnitude + 6.40\n",
      "P-wave in this sample (metadata row 211367) at index 125, station ISLK/ISLK, magnitude + 6.40\n",
      "P-wave in this sample (metadata row 212324) at index 68, station ISLK/ISLK, magnitude + 7.10\n",
      "P-wave in this sample (metadata row 216128) at index 12, station KBRC/KBRC, magnitude + 6.40\n",
      "P-wave in this sample (metadata row 226165) at index 13, station LAPC/LAPC, magnitude + 6.40\n",
      "P-wave in this sample (metadata row 231605) at index 11, station LDES/LDES, magnitude + 6.40\n",
      "P-wave in this sample (metadata row 237719) at index 13, station LFRS/LFRS, magnitude + 6.40\n",
      "P-wave in this sample (metadata row 248569) at index 125, station LNMT/LNMT, magnitude + 6.40\n",
      "P-wave in this sample (metadata row 249526) at index 72, station LNMT/LNMT, magnitude + 7.10\n",
      "P-wave in this sample (metadata row 254010) at index 10, station LORS/LORS, magnitude + 6.40\n",
      "P-wave in this sample (metadata row 259394) at index 14, station MAT2/MAT2, magnitude + 6.40\n",
      "P-wave in this sample (metadata row 270274) at index 13, station MLFP/MLFP, magnitude + 6.40\n",
      "P-wave in this sample (metadata row 281154) at index 8, station MPWD/MPWD, magnitude + 6.40\n",
      "P-wave in this sample (metadata row 296794) at index 12, station NHRG/NHRG, magnitude + 6.40\n",
      "P-wave in this sample (metadata row 312432) at index 1, station ORMT/ORMT, magnitude + 6.40\n",
      "P-wave in this sample (metadata row 323312) at index 13, station OZST/OZST, magnitude + 6.40\n",
      "P-wave in this sample (metadata row 334168) at index 6, station P056/P056, magnitude + 6.40\n",
      "P-wave in this sample (metadata row 339607) at index 127, station P091/P091, magnitude + 6.40\n",
      "P-wave in this sample (metadata row 340564) at index 71, station P091/P091, magnitude + 7.10\n",
      "P-wave in this sample (metadata row 345322) at index 75, station P093/P093, magnitude + 7.10\n",
      "P-wave in this sample (metadata row 427199) at index 118, station P463/P463, magnitude + 6.40\n",
      "P-wave in this sample (metadata row 427476) at index 64, station P463/P463, magnitude + 7.10\n",
      "P-wave in this sample (metadata row 431556) at index 69, station P466/P466, magnitude + 7.10\n",
      "P-wave in this sample (metadata row 436040) at index 1, station P467/P467, magnitude + 6.40\n",
      "P-wave in this sample (metadata row 436996) at index 75, station P467/P467, magnitude + 7.10\n",
      "P-wave in this sample (metadata row 441480) at index 7, station P468/P468, magnitude + 6.40\n",
      "P-wave in this sample (metadata row 446920) at index 5, station P470/P470, magnitude + 6.40\n",
      "P-wave in this sample (metadata row 535364) at index 116, station P522/P522, magnitude + 6.40\n",
      "P-wave in this sample (metadata row 592388) at index 13, station P543/P543, magnitude + 6.40\n",
      "P-wave in this sample (metadata row 597148) at index 11, station P545/P545, magnitude + 6.40\n",
      "P-wave in this sample (metadata row 613980) at index 11, station P551/P551, magnitude + 6.40\n",
      "P-wave in this sample (metadata row 624860) at index 8, station P553/P553, magnitude + 6.40\n",
      "P-wave in this sample (metadata row 634885) at index 44, station P556/P556, magnitude + 6.40\n",
      "P-wave in this sample (metadata row 635159) at index 13, station P556/P556, magnitude + 7.10\n",
      "P-wave in this sample (metadata row 639572) at index 5, station P557/P557, magnitude + 6.40\n",
      "P-wave in this sample (metadata row 640528) at index 77, station P557/P557, magnitude + 7.10\n",
      "P-wave in this sample (metadata row 644838) at index 6, station P560/P560, magnitude + 6.40\n",
      "P-wave in this sample (metadata row 645794) at index 78, station P560/P560, magnitude + 7.10\n",
      "P-wave in this sample (metadata row 650278) at index 10, station P563/P563, magnitude + 6.40\n",
      "P-wave in this sample (metadata row 655718) at index 9, station P564/P564, magnitude + 6.40\n",
      "P-wave in this sample (metadata row 664482) at index 106, station P567/P567, magnitude + 6.40\n",
      "P-wave in this sample (metadata row 665437) at index 74, station P567/P567, magnitude + 7.10\n",
      "P-wave in this sample (metadata row 669684) at index 123, station P568/P568, magnitude + 6.40\n",
      "P-wave in this sample (metadata row 669961) at index 68, station P568/P568, magnitude + 7.10\n",
      "P-wave in this sample (metadata row 673764) at index 121, station P570/P570, magnitude + 6.40\n",
      "P-wave in this sample (metadata row 674721) at index 65, station P570/P570, magnitude + 7.10\n",
      "P-wave in this sample (metadata row 682604) at index 124, station P579/P579, magnitude + 6.40\n",
      "P-wave in this sample (metadata row 682855) at index 114, station P579/P579, magnitude + 7.10\n",
      "P-wave in this sample (metadata row 687161) at index 117, station P580/P580, magnitude + 6.40\n",
      "P-wave in this sample (metadata row 687438) at index 63, station P580/P580, magnitude + 7.10\n",
      "P-wave in this sample (metadata row 691921) at index 124, station P583/P583, magnitude + 6.40\n",
      "P-wave in this sample (metadata row 692198) at index 70, station P583/P583, magnitude + 7.10\n",
      "P-wave in this sample (metadata row 696682) at index 3, station P589/P589, magnitude + 6.40\n",
      "P-wave in this sample (metadata row 701333) at index 121, station P590/P590, magnitude + 6.40\n",
      "P-wave in this sample (metadata row 701610) at index 68, station P590/P590, magnitude + 7.10\n",
      "P-wave in this sample (metadata row 706093) at index 123, station P591/P591, magnitude + 6.40\n",
      "P-wave in this sample (metadata row 707050) at index 68, station P591/P591, magnitude + 7.10\n",
      "P-wave in this sample (metadata row 711533) at index 119, station P592/P592, magnitude + 6.40\n",
      "P-wave in this sample (metadata row 711810) at index 66, station P592/P592, magnitude + 7.10\n",
      "P-wave in this sample (metadata row 716293) at index 118, station P593/P593, magnitude + 6.40\n",
      "P-wave in this sample (metadata row 717250) at index 64, station P593/P593, magnitude + 7.10\n",
      "P-wave in this sample (metadata row 722399) at index 50, station P594/P594, magnitude + 7.10\n",
      "P-wave in this sample (metadata row 726927) at index 114, station P595/P595, magnitude + 6.40\n",
      "P-wave in this sample (metadata row 727884) at index 59, station P595/P595, magnitude + 7.10\n",
      "P-wave in this sample (metadata row 731688) at index 11, station P598/P598, magnitude + 6.40\n",
      "P-wave in this sample (metadata row 741208) at index 7, station P606/P606, magnitude + 6.40\n",
      "P-wave in this sample (metadata row 755861) at index 10, station P611/P611, magnitude + 6.40\n",
      "P-wave in this sample (metadata row 761301) at index 9, station P612/P612, magnitude + 6.40\n",
      "P-wave in this sample (metadata row 766061) at index 10, station P613/P613, magnitude + 6.40\n",
      "P-wave in this sample (metadata row 776940) at index 125, station P615/P615, magnitude + 6.40\n",
      "P-wave in this sample (metadata row 777217) at index 72, station P615/P615, magnitude + 7.10\n"
     ]
    },
    {
     "name": "stdout",
     "output_type": "stream",
     "text": [
      "P-wave in this sample (metadata row 780340) at index 119, station P616/P616, magnitude + 6.40\n",
      "P-wave in this sample (metadata row 781297) at index 63, station P616/P616, magnitude + 7.10\n",
      "P-wave in this sample (metadata row 798046) at index 13, station P622/P622, magnitude + 6.40\n",
      "P-wave in this sample (metadata row 904469) at index 14, station P800/P800, magnitude + 6.40\n",
      "P-wave in this sample (metadata row 909229) at index 8, station P810/P810, magnitude + 6.40\n",
      "P-wave in this sample (metadata row 914668) at index 123, station P811/P811, magnitude + 6.40\n",
      "P-wave in this sample (metadata row 915625) at index 68, station P811/P811, magnitude + 7.10\n",
      "P-wave in this sample (metadata row 920385) at index 68, station P812/P812, magnitude + 7.10\n",
      "P-wave in this sample (metadata row 924867) at index 40, station PBPP/PBPP, magnitude + 6.40\n",
      "P-wave in this sample (metadata row 925823) at index 79, station PBPP/PBPP, magnitude + 7.10\n",
      "P-wave in this sample (metadata row 952720) at index 118, station RAMT/RAMT, magnitude + 6.40\n",
      "P-wave in this sample (metadata row 983594) at index 74, station RSTP/RSTP, magnitude + 7.10\n",
      "P-wave in this sample (metadata row 1014254) at index 127, station THCP/THCP, magnitude + 6.40\n",
      "P-wave in this sample (metadata row 1014255) at index 0, station THCP/THCP, magnitude + 6.40\n",
      "P-wave in this sample (metadata row 1014531) at index 72, station THCP/THCP, magnitude + 7.10\n"
     ]
    }
   ],
   "source": [
    "rows_with_eqs = []\n",
    "rows_without_eqs = []\n",
    "p_count_info = []\n",
    "mags = []\n",
    "gauss_positions = []\n",
    "\n",
    "counter = 0\n",
    "\n",
    "for krow in range(len(real_metadata)):\n",
    "# for krow in range(len(test_metadata)):\n",
    "    \n",
    "#     print('-----------------------------')\n",
    "    \n",
    "    sta = real_metadata[krow,0]\n",
    "    date = real_metadata[krow,1]\n",
    "    starttime = UTCDateTime(real_metadata[krow,2])\n",
    "    endtime = UTCDateTime(real_metadata[krow,3])\n",
    "    \n",
    "#     sta = test_metadata[krow,0]\n",
    "#     date = test_metadata[krow,1]\n",
    "#     starttime = UTCDateTime(test_metadata[krow,2])\n",
    "#     endtime = UTCDateTime(test_metadata[krow,3])\n",
    "    \n",
    "#     print('-----------------------------')\n",
    "#     print('Metadata row info:')\n",
    "#     print('Station: ' + str(sta))\n",
    "#     print('Sample date: ' + str(date))\n",
    "#     print('Sample start time: ' + str(starttime))\n",
    "#     print('Sample end time: ' + str(endtime))\n",
    "    \n",
    "    arrival_stas = arrivaltimes[:,2]\n",
    "    \n",
    "#     print(arrival_stas)\n",
    "        \n",
    "    matches = np.where(arrival_stas == sta)[0] # Find the rows in the arrival times array for this station\n",
    "#     print(matches)\n",
    "    \n",
    "    p_pick_count = 0\n",
    "    \n",
    "    for i in matches:\n",
    "        \n",
    "        mag = arrivaltimes[i,1]\n",
    "        arrival_sta = arrivaltimes[i,2]\n",
    "        p_arrival = arrivaltimes[i,3]\n",
    "        \n",
    "#         print('-----------------------------')\n",
    "#         print('Arrival times row info:')\n",
    "#         print('Magnitude: ' + str(mag))\n",
    "#         print('Station: ' + str(arrival_sta))\n",
    "#         print('Arrival time: ' + str(p_arrival))\n",
    "        \n",
    "        if p_pick_count == 0: # If we haven't found any P waves yet in the metadata row:\n",
    "        \n",
    "            if p_arrival != 'nan': # If the P wave arrival time in the arrivaltimes array is not 'nan' (aka it exists):\n",
    "                \n",
    "#                 print('-----------------------------')\n",
    "#                 print('Good P-wave')\n",
    "                \n",
    "                p_arrival = UTCDateTime(p_arrival) # Convert the P arrival time from the array to a UTCDateTime object\n",
    "#                 print('P-arrival: ' + str(p_arrival))\n",
    "#                 print('Metadata row start time: ' + str(starttime))\n",
    "#                 print('Metadata row end time: ' + str(endtime))\n",
    "                \n",
    "                p_start_delta = p_arrival - starttime # If the P arrival minus the metadata row start time is greater than or equal to 0 but less than 128, the p_arrival is in the sample\n",
    "                # print(p_start_delta)\n",
    "                \n",
    "                if p_start_delta >= 0 and p_start_delta < 128: # If the delta is 0, the Gaussian should be positioned at the first sample (index 0).\n",
    "                    \n",
    "                    gauss_position = round(p_start_delta) # Rounded to the nearest whole index\n",
    "                    p_pick_count += 1 # Since we found an arrival in this metadata row, add one to the pick count\n",
    "                    \n",
    "                    if float(mag) > 6:\n",
    "                        print('P-wave in this sample (metadata row ' + str(krow) + ') at index ' + str(gauss_position) + ', station ' + str(arrival_sta) + '/' + str(sta) + ', magnitude + ' + str(mag))\n",
    "                    \n",
    "                    gauss_positions.append(gauss_position) # Add the index of the sample that should have the gaussian peak to the list of gaussian positions.\n",
    "                    mags.append(mag)\n",
    "                    \n",
    "                    # print(krow)\n",
    "                    # print(mag)\n",
    "                    # print(index) # this is the index in arrival_times where the eq is\n",
    "                \n",
    "                else: # If the delta is greater than 128, the arrival time is not in the metadata array. Skip it.\n",
    "                    \n",
    "                    pass\n",
    "            \n",
    "            elif p_arrival == 'nan': # If there isn't a calculated arrival time for this row in the arrivaltimes array, skip it.\n",
    "                \n",
    "                gauss_position = 'nan' # If there is no p arrival in the sample, the gaussian will not exist so the position is 'nan'.\n",
    "                mag = 'nan'\n",
    "                pass\n",
    "        \n",
    "        elif p_pick_count > 0: # If the count is already greater than 1 because we've found a p wave in this row of the metadata array, we'll skip any extras for making gaussian positions (but still add them to the count so we know they exist).\n",
    "            \n",
    "            if p_arrival != 'nan': \n",
    "                p_arrival = UTCDateTime(p_arrival) \n",
    "                p_start_delta = p_arrival - starttime \n",
    "\n",
    "                if p_start_delta >= 0 and p_start_delta < 128:  \n",
    "                    p_pick_count += 1\n",
    "                \n",
    "                else:\n",
    "                    pass\n",
    "\n",
    "            elif p_arrival == 'nan': \n",
    "                pass\n",
    "    \n",
    "    if p_pick_count == 0:\n",
    "        \n",
    "        rows_without_eqs.append(krow) # Add the index of the row in the metadata array that doesn't have an earthquake to the list of indices that don't have earthquakes.\n",
    "        p_count_info.append(p_pick_count) # Add the number of p picks in the metadata array row (zero) to the p_count list.\n",
    "        gauss_positions.append(gauss_position) # Add the gauss position (in this case 'nan' because there are no picks in this row of the metadata array) to the list of positions.\n",
    "        mags.append(mag)\n",
    "        \n",
    "        # These might be VERY WRONG - need to be inside the index loop to not just have only the last value!\n",
    "        \n",
    "    elif p_pick_count != 0:\n",
    "        \n",
    "        rows_with_eqs.append(krow) # Add the index of the row in the metadata array that does have an earthquake to the list of indices that do have earthquakes.\n",
    "        p_count_info.append(p_pick_count) # Add the number of p picks in the metadata array row to the p_count list.\n",
    "        \n",
    "    counter += 1\n",
    "    # print(counter)\n"
   ]
  },
  {
   "cell_type": "code",
   "execution_count": 11,
   "metadata": {},
   "outputs": [
    {
     "data": {
      "image/png": "[encoded data removed]",
      "text/plain": [
       "<Figure size 640x480 with 1 Axes>"
      ]
     },
     "metadata": {},
     "output_type": "display_data"
    }
   ],
   "source": [
    "# Testing plots\n",
    "\n",
    "import matplotlib.pyplot as plt\n",
    "\n",
    "mdrow = 110405\n",
    "index = 68\n",
    "\n",
    "# mdrow = 692198\n",
    "# index = 70\n",
    "\n",
    "plt.plot(real_data[mdrow])\n",
    "plt.axvline(127, color = 'black') # last sample of N. E starts at 256\n",
    "plt.axvline(255, color = 'black') # last sample of E. Z starts at 512\n",
    "plt.axvline(index, color = 'C1')\n",
    "plt.axvline(128 + index, color = 'C1')\n",
    "plt.axvline(256 + index, color = 'C1')\n",
    "plt.xlim(0,383);"
   ]
  },
  {
   "cell_type": "code",
   "execution_count": 30,
   "metadata": {
    "scrolled": true
   },
   "outputs": [
    {
     "name": "stdout",
     "output_type": "stream",
     "text": [
      "1061760\n",
      "1061760\n",
      "1061760\n",
      "1061760\n",
      "1061760\n",
      "2313\n",
      "2313\n"
     ]
    }
   ],
   "source": [
    "# Checks to make sure things add up correctly\n",
    "\n",
    "# print(rows_with_eqs)\n",
    "# print(rows_without_eqs)\n",
    "# print(p_count_info)\n",
    "# print(mags)\n",
    "# print(gauss_positions)\n",
    "\n",
    "print(len(real_metadata))\n",
    "print(len(rows_without_eqs) + len(rows_with_eqs))\n",
    "print(len(p_count_info))\n",
    "print(len(mags))\n",
    "print(len(gauss_positions)) # All four of these should match\n",
    "\n",
    "print(len(rows_with_eqs))\n",
    "a = np.where(np.array(gauss_positions) != 'nan')[0]\n",
    "print(len(a)) # This should match len(rows_with_eqs)"
   ]
  },
  {
   "cell_type": "code",
   "execution_count": 31,
   "metadata": {},
   "outputs": [
    {
     "name": "stdout",
     "output_type": "stream",
     "text": [
      "(1061760, 5)\n",
      "(1061760, 7)\n",
      "[['ACSB' '20190704' '2019-07-04T00:00:00.000000Z' ... '0' 'nan' 'nan']\n",
      " ['ACSB' '20190704' '2019-07-04T00:02:07.000000Z' ... '1' 'nan' 'nan']\n",
      " ['ACSB' '20190704' '2019-07-04T00:04:14.000000Z' ... '2' 'nan' 'nan']\n",
      " ...\n",
      " ['WKPK' '20200604' '2020-06-04T23:52:59.000000Z' ... '677' 'nan' 'nan']\n",
      " ['WKPK' '20200604' '2020-06-04T23:55:06.000000Z' ... '678' 'nan' 'nan']\n",
      " ['WKPK' '20200604' '2020-06-04T23:57:13.000000Z' ... '679' 'nan' 'nan']]\n",
      "[['ACSB' '20190706' '2019-07-06T04:37:17.000000Z' ... '131' '21' '4.85']\n",
      " ['ACSB' '20190726' '2019-07-26T00:42:20.000000Z' ... '20' '73' '4.74']\n",
      " ['ACSX' '20190706' '2019-07-06T04:37:17.000000Z' ... '131' '21' '4.85']\n",
      " ...\n",
      " ['WKPK' '20190716' '2019-07-16T20:14:58.000000Z' ... '574' '66' '4.47']\n",
      " ['WKPK' '20190726' '2019-07-26T00:42:20.000000Z' ... '20' '57' '4.74']\n",
      " ['WKPK' '20200604' '2020-06-04T01:31:01.000000Z' ... '43' '97' '5.51']]\n",
      "2313\n"
     ]
    }
   ],
   "source": [
    "### Adding gauss position column to metadata array\n",
    "\n",
    "gauss_pos_vector = np.array(gauss_positions).reshape(len(gauss_positions),1)\n",
    "mag_vector = np.array(mags).reshape(len(mags),1)\n",
    "\n",
    "a = np.append(real_metadata, gauss_pos_vector, axis = 1)\n",
    "new_meta_array = np.append(a, mag_vector, axis = 1)\n",
    "print(real_metadata.shape)\n",
    "print(new_meta_array.shape)\n",
    "print(new_meta_array)\n",
    "\n",
    "# Checking rows that should have the gaussian position added\n",
    "\n",
    "print(new_meta_array[rows_with_eqs])\n",
    "print(len(new_meta_array[rows_with_eqs]))"
   ]
  },
  {
   "cell_type": "code",
   "execution_count": 32,
   "metadata": {},
   "outputs": [
    {
     "name": "stdout",
     "output_type": "stream",
     "text": [
      "(2313, 7)\n"
     ]
    }
   ],
   "source": [
    "print(new_meta_array[rows_with_eqs].shape)"
   ]
  },
  {
   "cell_type": "code",
   "execution_count": 39,
   "metadata": {},
   "outputs": [
    {
     "name": "stdout",
     "output_type": "stream",
     "text": [
      "['4.85' '4.74' '4.85' ... '4.47' '4.74' '5.51']\n"
     ]
    },
    {
     "data": {
      "image/png": "[encoded data removed]",
      "text/plain": [
       "<Figure size 640x480 with 1 Axes>"
      ]
     },
     "metadata": {},
     "output_type": "display_data"
    }
   ],
   "source": [
    "print(new_meta_array[rows_with_eqs, 6])\n",
    "\n",
    "mags_hist = []\n",
    "for maghist in new_meta_array[rows_with_eqs, 6]:\n",
    "    maghist = float(maghist)\n",
    "    mags_hist.append(maghist)\n",
    "\n",
    "plt.hist(mags_hist, bins = 30, color = 'lightskyblue', edgecolor = 'black')\n",
    "plt.ylim(0,100);"
   ]
  },
  {
   "cell_type": "code",
   "execution_count": 40,
   "metadata": {},
   "outputs": [],
   "source": [
    "np.save(realdata_dir + 'real_metadata_w_gauss_pos.npy', new_meta_array)\n",
    "\n",
    "# Columns:\n",
    "# 0: station name\n",
    "# 1: date sample came from\n",
    "# 2: sample start time\n",
    "# 3: sample end time\n",
    "# 4: random n counter\n",
    "# 5: sample P-wave arrives at (gauss pos)\n",
    "# 6: earthquake magnitude\n",
    "\n",
    "np.save(realdata_dir + 'real_metadata_rows_w_eqs.npy', np.array(rows_with_eqs))\n",
    "np.save(realdata_dir + 'real_metadata_p_arrivals_per_sample.npy', np.array(p_count_info))"
   ]
  },
  {
   "cell_type": "code",
   "execution_count": null,
   "metadata": {},
   "outputs": [],
   "source": []
  }
 ],
 "metadata": {
  "kernelspec": {
   "display_name": "Python 3 (ipykernel)",
   "language": "python",
   "name": "python3"
  },
  "language_info": {
   "codemirror_mode": {
    "name": "ipython",
    "version": 3
   },
   "file_extension": ".py",
   "mimetype": "text/x-python",
   "name": "python",
   "nbconvert_exporter": "python",
   "pygments_lexer": "ipython3",
   "version": "3.8.8"
  }
 },
 "nbformat": 4,
 "nbformat_minor": 4
}
