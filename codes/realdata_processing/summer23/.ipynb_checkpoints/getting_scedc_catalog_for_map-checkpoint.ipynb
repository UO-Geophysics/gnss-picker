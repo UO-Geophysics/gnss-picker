{
 "cells": [
  {
   "cell_type": "code",
   "execution_count": 1,
   "metadata": {},
   "outputs": [],
   "source": [
    "# Look at the GNSS travel time array and compare to the event ids in the focal mechanism text file for map\n",
    "# Switched stuff over to Valdivia for this code only!!"
   ]
  },
  {
   "cell_type": "code",
   "execution_count": 10,
   "metadata": {},
   "outputs": [],
   "source": [
    "import numpy as np\n",
    "from obspy.core import UTCDateTime\n",
    "\n",
    "path = '/home/sdybing/gnss-picker/data/realdata/'\n",
    "\n",
    "event_catalog = np.genfromtxt(path + 'minM4.3_event_catalog.txt', dtype = 'U')\n",
    "GNSS_stas = np.genfromtxt(path + 'GNSS_stas.txt', dtype = 'U')\n",
    "gnss_arr_times = np.load(path + 'minM4.3_gnss_arrival_times.npy')\n",
    "\n",
    "# gnss_arr_times columns:\n",
    "\n",
    "# 0. event_ID\n",
    "# 1. mag\n",
    "# 2. sta\n",
    "# 3. P_arrival UTCDateTime"
   ]
  },
  {
   "cell_type": "code",
   "execution_count": 65,
   "metadata": {},
   "outputs": [],
   "source": [
    "# print(event_catalog[:,0])\n",
    "\n",
    "lons = []\n",
    "lats = []\n",
    "mags = []\n",
    "\n",
    "for evt in des_evts:\n",
    "\n",
    "    k = np.where(event_catalog[:,0] == evt)[0]\n",
    "#     print(evt)\n",
    "#     print(event_catalog[k,0])\n",
    "    lon = event_catalog[k,2][0]\n",
    "    lat = event_catalog[k,3][0]\n",
    "    mag = event_catalog[k,5][0]\n",
    "#     print(k, lat)\n",
    "    lons.append(float(lon))\n",
    "    lats.append(float(lat))\n",
    "    mags.append(float(mag))"
   ]
  },
  {
   "cell_type": "code",
   "execution_count": 47,
   "metadata": {},
   "outputs": [
    {
     "name": "stdout",
     "output_type": "stream",
     "text": [
      "['39223527' '2020-05-30T18:13:48.000000Z' '143.8090' '42.4800' '89.00'\n",
      " '5.60']\n",
      "['39223887' '2020-05-31T05:09:38.000000Z' '-70.7730' '-15.3260' '185.80'\n",
      " '6.10']\n"
     ]
    }
   ],
   "source": [
    "print(event_catalog[55])\n",
    "print(event_catalog[52])"
   ]
  },
  {
   "cell_type": "code",
   "execution_count": 36,
   "metadata": {},
   "outputs": [],
   "source": [
    "import matplotlib.pyplot as plt"
   ]
  },
  {
   "cell_type": "code",
   "execution_count": 40,
   "metadata": {},
   "outputs": [
    {
     "data": {
      "text/plain": [
       "143.809"
      ]
     },
     "execution_count": 40,
     "metadata": {},
     "output_type": "execute_result"
    }
   ],
   "source": [
    "max(lons)"
   ]
  },
  {
   "cell_type": "code",
   "execution_count": 45,
   "metadata": {},
   "outputs": [
    {
     "data": {
      "text/plain": [
       "-15.326"
      ]
     },
     "execution_count": 45,
     "metadata": {},
     "output_type": "execute_result"
    }
   ],
   "source": [
    "min(lats)"
   ]
  },
  {
   "cell_type": "code",
   "execution_count": 42,
   "metadata": {},
   "outputs": [
    {
     "name": "stdout",
     "output_type": "stream",
     "text": [
      "[]\n"
     ]
    }
   ],
   "source": [
    "l = np.where(event_catalog[:,2] == str(max(lons)))[0]\n",
    "print(event_catalog[l])"
   ]
  },
  {
   "cell_type": "code",
   "execution_count": null,
   "metadata": {},
   "outputs": [],
   "source": []
  },
  {
   "cell_type": "code",
   "execution_count": 64,
   "metadata": {},
   "outputs": [
    {
     "data": {
      "image/png": "[encoded data removed]",
      "text/plain": [
       "<Figure size 640x480 with 1 Axes>"
      ]
     },
     "metadata": {},
     "output_type": "display_data"
    }
   ],
   "source": [
    "plt.scatter(lons, lats)\n",
    "plt.xlim(-119,-116)\n",
    "plt.ylim(32.5,38.5);"
   ]
  },
  {
   "cell_type": "code",
   "execution_count": 58,
   "metadata": {},
   "outputs": [
    {
     "name": "stdout",
     "output_type": "stream",
     "text": [
      "(89, 2)\n",
      "[[143.809  42.48 ]\n",
      " [-70.773 -15.326]]\n",
      "(87, 2)\n"
     ]
    }
   ],
   "source": [
    "new_array = np.column_stack((np.array(lons), np.array(lats)))\n",
    "print(new_array.shape)\n",
    "o = np.where(new_array[:,0] > -115)[0]\n",
    "print(new_array[o])\n",
    "new2_array = np.delete(new_array, o, axis = 0)\n",
    "print(new2_array.shape)\n",
    "# new2_array\n",
    "np.savetxt(path + 'scedc_cat_evts_w_arrivals_no_outliers.txt', new2_array)"
   ]
  },
  {
   "cell_type": "code",
   "execution_count": 66,
   "metadata": {},
   "outputs": [
    {
     "name": "stdout",
     "output_type": "stream",
     "text": [
      "(89, 3)\n",
      "[[143.809  42.48    5.6  ]\n",
      " [-70.773 -15.326   6.1  ]]\n",
      "(87, 3)\n"
     ]
    }
   ],
   "source": [
    "new_array = np.column_stack((np.array(lons), np.array(lats), np.array(mags)))\n",
    "print(new_array.shape)\n",
    "o = np.where(new_array[:,0] > -115)[0]\n",
    "print(new_array[o])\n",
    "new2_array = np.delete(new_array, o, axis = 0)\n",
    "print(new2_array.shape)\n",
    "# new2_array\n",
    "np.savetxt(path + 'scedc_cat_evts_w_arrivals_mags_no_outliers.txt', new2_array)"
   ]
  },
  {
   "cell_type": "code",
   "execution_count": 18,
   "metadata": {},
   "outputs": [
    {
     "name": "stdout",
     "output_type": "stream",
     "text": [
      "[  6403   6470   6473 ... 100074 100076 100078]\n",
      "[['39281127' '4.50' 'BEPK' '2020-07-06T06:13:37.686480Z']\n",
      " ['39281127' '4.50' 'P056' '2020-07-06T06:13:36.280472Z']\n",
      " ['39281127' '4.50' 'P093' '2020-07-06T06:13:23.903070Z']\n",
      " ...\n",
      " ['38624424' '4.30' 'VNCX' '2019-06-05T14:32:35.305774Z']\n",
      " ['38624424' '4.30' 'VTOR' '2019-06-05T14:32:30.165353Z']\n",
      " ['38624424' '4.30' 'WKPK' '2019-06-05T14:32:39.143396Z']]\n",
      "5950\n"
     ]
    }
   ],
   "source": [
    "i = np.where(gnss_arr_times[:,3] != 'nan')[0]\n",
    "print(i)\n",
    "\n",
    "print(gnss_arr_times[i])\n",
    "print(len(gnss_arr_times[i]))"
   ]
  },
  {
   "cell_type": "code",
   "execution_count": 16,
   "metadata": {},
   "outputs": [
    {
     "name": "stdout",
     "output_type": "stream",
     "text": [
      "89\n",
      "['37219156' '37219164' '37219172' '37219180' '37219484' '37219500'\n",
      " '37219564' '37224964' '37421229' '37445989' '38443183' '38443191'\n",
      " '38443535' '38443607' '38443647' '38443719' '38443871' '38445087'\n",
      " '38450263' '38457487' '38457511' '38457519' '38457591' '38457615'\n",
      " '38457687' '38457703' '38457775' '38457815' '38457847' '38457967'\n",
      " '38458071' '38458079' '38458679' '38460311' '38460967' '38460975'\n",
      " '38460983' '38463551' '38469375' '38472279' '38488354' '38525207'\n",
      " '38525215' '38527863' '38548295' '38583335' '38585023' '38593535'\n",
      " '38624424' '38644943' '38996632' '38999296' '39106919' '39111991'\n",
      " '39126079' '39133016' '39134160' '39201199' '39201215' '39201231'\n",
      " '39201263' '39201279' '39201407' '39201559' '39201767' '39202175'\n",
      " '39202623' '39203167' '39204599' '39205151' '39205383' '39207503'\n",
      " '39208087' '39223527' '39223791' '39223887' '39233472' '39273567'\n",
      " '39281127' '39281440' '39289104' '39382424' '39382736' '39462536'\n",
      " '39485504' '39486360' '39490952' '39493944' '39494008']\n"
     ]
    }
   ],
   "source": [
    "print(len(np.unique(gnss_arr_times[i,0])))\n",
    "des_evts = np.unique(gnss_arr_times[i,0])\n",
    "print(des_evts)"
   ]
  },
  {
   "cell_type": "code",
   "execution_count": 13,
   "metadata": {},
   "outputs": [
    {
     "data": {
      "text/plain": [
       "array([['1981', '1', '11', ..., '65', '0.05', '0.60'],\n",
       "       ['1981', '1', '1', ..., '0', '0.99', '0.00'],\n",
       "       ['1981', '1', '1', ..., '78', '0.30', '0.43'],\n",
       "       ...,\n",
       "       ['2021', '11', '6', ..., '69', '0.19', '0.53'],\n",
       "       ['2021', '11', '6', ..., '59', '0.00', '0.58'],\n",
       "       ['2021', '11', '6', ..., '68', '0.33', '0.25']], dtype='<U10')"
      ]
     },
     "execution_count": 13,
     "metadata": {},
     "output_type": "execute_result"
    }
   ],
   "source": [
    "new_scedc_cat = np.genfromtxt(path + 'focmecall_SC_11_09_2022', dtype = 'str')\n",
    "new_scedc_cat"
   ]
  },
  {
   "cell_type": "code",
   "execution_count": 20,
   "metadata": {},
   "outputs": [
    {
     "data": {
      "text/plain": [
       "(716513, 26)"
      ]
     },
     "execution_count": 20,
     "metadata": {},
     "output_type": "execute_result"
    }
   ],
   "source": [
    "new_scedc_cat.shape"
   ]
  },
  {
   "cell_type": "code",
   "execution_count": 15,
   "metadata": {},
   "outputs": [
    {
     "data": {
      "text/plain": [
       "array(['12160231', '3301561', '3301565', ..., '39850359', '39850391',\n",
       "       '39850399'], dtype='<U10')"
      ]
     },
     "execution_count": 15,
     "metadata": {},
     "output_type": "execute_result"
    }
   ],
   "source": [
    "new_scedc_cat[:,6]"
   ]
  },
  {
   "cell_type": "code",
   "execution_count": 19,
   "metadata": {},
   "outputs": [
    {
     "name": "stdout",
     "output_type": "stream",
     "text": [
      "37219156\n",
      "['37219156']\n",
      "37219164\n",
      "['37219164']\n",
      "37219172\n",
      "['37219172']\n",
      "37219180\n",
      "['37219180']\n",
      "37219484\n",
      "['37219484']\n",
      "37219500\n",
      "['37219500']\n",
      "37219564\n",
      "['37219564']\n",
      "37224964\n",
      "['37224964']\n",
      "37421229\n",
      "['37421229']\n",
      "37445989\n",
      "[]\n",
      "38443183\n",
      "['38443183']\n",
      "38443191\n",
      "['38443191']\n",
      "38443535\n",
      "['38443535']\n",
      "38443607\n",
      "['38443607']\n",
      "38443647\n",
      "['38443647']\n",
      "38443719\n",
      "['38443719']\n",
      "38443871\n",
      "['38443871']\n",
      "38445087\n",
      "['38445087']\n",
      "38450263\n",
      "['38450263']\n",
      "38457487\n",
      "['38457487']\n",
      "38457511\n",
      "['38457511']\n",
      "38457519\n",
      "['38457519']\n",
      "38457591\n",
      "['38457591']\n",
      "38457615\n",
      "['38457615']\n",
      "38457687\n",
      "['38457687']\n",
      "38457703\n",
      "['38457703']\n",
      "38457775\n",
      "['38457775']\n",
      "38457815\n",
      "['38457815']\n",
      "38457847\n",
      "['38457847']\n",
      "38457967\n",
      "['38457967']\n",
      "38458071\n",
      "['38458071']\n",
      "38458079\n",
      "['38458079']\n",
      "38458679\n",
      "['38458679']\n",
      "38460311\n",
      "['38460311']\n",
      "38460967\n",
      "['38460967']\n",
      "38460975\n",
      "['38460975']\n",
      "38460983\n",
      "['38460983']\n",
      "38463551\n",
      "['38463551']\n",
      "38469375\n",
      "['38469375']\n",
      "38472279\n",
      "['38472279']\n",
      "38488354\n",
      "['38488354']\n",
      "38525207\n",
      "['38525207']\n",
      "38525215\n",
      "['38525215']\n",
      "38527863\n",
      "['38527863']\n",
      "38548295\n",
      "['38548295']\n",
      "38583335\n",
      "['38583335']\n",
      "38585023\n",
      "['38585023']\n",
      "38593535\n",
      "['38593535']\n",
      "38624424\n",
      "['38624424']\n",
      "38644943\n",
      "['38644943']\n",
      "38996632\n",
      "['38996632']\n",
      "38999296\n",
      "['38999296']\n",
      "39106919\n",
      "[]\n",
      "39111991\n",
      "['39111991']\n",
      "39126079\n",
      "['39126079']\n",
      "39133016\n",
      "[]\n",
      "39134160\n",
      "[]\n",
      "39201199\n",
      "[]\n",
      "39201215\n",
      "[]\n",
      "39201231\n",
      "[]\n",
      "39201263\n",
      "[]\n",
      "39201279\n",
      "[]\n",
      "39201407\n",
      "[]\n",
      "39201559\n",
      "[]\n",
      "39201767\n",
      "[]\n",
      "39202175\n",
      "[]\n",
      "39202623\n",
      "[]\n",
      "39203167\n",
      "[]\n",
      "39204599\n",
      "[]\n",
      "39205151\n",
      "[]\n",
      "39205383\n",
      "[]\n",
      "39207503\n",
      "[]\n",
      "39208087\n",
      "[]\n",
      "39223527\n",
      "[]\n",
      "39223791\n",
      "[]\n",
      "39223887\n",
      "[]\n",
      "39233472\n",
      "['39233472']\n",
      "39273567\n",
      "[]\n",
      "39281127\n",
      "[]\n",
      "39281440\n",
      "['39281440']\n",
      "39289104\n",
      "[]\n",
      "39382424\n",
      "[]\n",
      "39382736\n",
      "[]\n",
      "39462536\n",
      "['39462536']\n",
      "39485504\n",
      "[]\n",
      "39486360\n",
      "[]\n",
      "39490952\n",
      "['39490952']\n",
      "39493944\n",
      "['39493944']\n",
      "39494008\n",
      "['39494008']\n"
     ]
    }
   ],
   "source": [
    "idxs = []\n",
    "\n",
    "for evt in des_evts:\n",
    "\n",
    "    j = np.where(new_scedc_cat[:,6] == evt)[0]\n",
    "    print(evt)\n",
    "    print(new_scedc_cat[j,6])\n",
    "    "
   ]
  },
  {
   "cell_type": "code",
   "execution_count": null,
   "metadata": {},
   "outputs": [],
   "source": []
  }
 ],
 "metadata": {
  "kernelspec": {
   "display_name": "Python 3",
   "language": "python",
   "name": "python3"
  },
  "language_info": {
   "codemirror_mode": {
    "name": "ipython",
    "version": 3
   },
   "file_extension": ".py",
   "mimetype": "text/x-python",
   "name": "python",
   "nbconvert_exporter": "python",
   "pygments_lexer": "ipython3",
   "version": "3.8.5"
  }
 },
 "nbformat": 4,
 "nbformat_minor": 5
}
