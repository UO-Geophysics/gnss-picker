{
 "cells": [
  {
   "cell_type": "code",
   "execution_count": 11,
   "metadata": {},
   "outputs": [],
   "source": [
    "from obspy.core import Stream, read, UTCDateTime\n",
    "import matplotlib.pyplot as plt\n",
    "import numpy as np\n",
    "from os import path, makedirs\n",
    "import os\n",
    "\n",
    "stas = np.genfromtxt('/hdd/Ridgecrest/summer23/GNSS_stas.txt', usecols = [2], dtype = str)\n",
    "chans = ['e', 'n', 'u']\n",
    "\n",
    "# Since we're making testing data, there will be plenty of noise even if we only use the days that actually have earthquakes in them.\n",
    "eq_dates = np.genfromtxt('/hdd/Ridgecrest/summer23/GNNS_dates_w_eqs_only.txt', dtype = str)\n",
    "\n",
    "project = 'summer23'\n",
    "project_dir = '/hdd/Ridgecrest/' + project + '/'\n",
    "daily_mseed_path = project_dir + 'daily_mseeds/' # Where are the daily mseeds?\n",
    "split_mseed_path = project_dir + 'eq_days_split_mseeds/' # Where to save the split mseeds?\n",
    "\n",
    "if os.path.isdir(split_mseed_path):\n",
    "    pass\n",
    "else:\n",
    "    os.makedirs(split_mseed_path)\n",
    "\n",
    "small_test = False # Just checking to see how the code runs? If so, True\n",
    "\n",
    "if small_test:\n",
    "    \n",
    "    stas = ['BEPK', 'CCCC']\n",
    "    dates = ['20190705', '20190712']"
   ]
  },
  {
   "cell_type": "code",
   "execution_count": 12,
   "metadata": {},
   "outputs": [
    {
     "name": "stdout",
     "output_type": "stream",
     "text": [
      "BEPK_e_20190705\n",
      "BEPK_e_20190712\n",
      "BEPK_n_20190705\n",
      "BEPK_n_20190712\n",
      "BEPK_u_20190705\n",
      "BEPK_u_20190712\n",
      "CCCC_e_20190705\n",
      "CCCC_e_20190712\n",
      "CCCC_n_20190705\n",
      "CCCC_n_20190712\n",
      "CCCC_u_20190705\n",
      "CCCC_u_20190712\n"
     ]
    }
   ],
   "source": [
    "for sta in stas:\n",
    "    \n",
    "    for chan in chans:\n",
    "        \n",
    "        for date in dates:\n",
    "\n",
    "            try:\n",
    "                \n",
    "                print(sta + '_' + chan + '_' + date)\n",
    "\n",
    "                st = read(daily_mseed_path + sta + '/' + sta + '.' + chan + '.' + date + '.mseed')\n",
    "                st_copy = st.copy()\n",
    "                st_merge = st_copy.merge(fill_value = 'interpolate')\n",
    "                tr = st_merge.copy()[0]\n",
    "\n",
    "                n = -1\n",
    "\n",
    "                for windowed_tr in tr.slide(window_length = 127, step = 127):\n",
    "\n",
    "                    n += 1\n",
    "\n",
    "                    data = windowed_tr.data\n",
    "\n",
    "                    split_mseed_sta_path = split_mseed_path + sta + '/'\n",
    "                    split_mseed_chan_path = split_mseed_sta_path + chan + '_split_mseeds/'\n",
    "                    split_mseed_date_path = split_mseed_chan_path + date + '/'\n",
    "\n",
    "                    if os.path.isdir(split_mseed_sta_path):\n",
    "                        pass\n",
    "                    else:\n",
    "                        os.makedirs(split_mseed_sta_path)\n",
    "\n",
    "                    if os.path.isdir(split_mseed_chan_path):\n",
    "                        pass\n",
    "                    else:   \n",
    "                        os.makedirs(split_mseed_chan_path)\n",
    "\n",
    "                    if os.path.isdir(split_mseed_date_path):\n",
    "                        pass\n",
    "                    else:\n",
    "                        os.makedirs(split_mseed_date_path)\n",
    "\n",
    "                    windowed_tr.write(split_mseed_date_path + sta + '.' + chan + '.' + date + '.' + str(n) + '.mseed', format = 'MSEED')\n",
    "\n",
    "            except:\n",
    "                \n",
    "                print('Missing station, channel, or date')\n"
   ]
  },
  {
   "cell_type": "code",
   "execution_count": null,
   "metadata": {},
   "outputs": [],
   "source": []
  }
 ],
 "metadata": {
  "kernelspec": {
   "display_name": "Python 3",
   "language": "python",
   "name": "python3"
  },
  "language_info": {
   "codemirror_mode": {
    "name": "ipython",
    "version": 3
   },
   "file_extension": ".py",
   "mimetype": "text/x-python",
   "name": "python",
   "nbconvert_exporter": "python",
   "pygments_lexer": "ipython3",
   "version": "3.8.5"
  }
 },
 "nbformat": 4,
 "nbformat_minor": 4
}
