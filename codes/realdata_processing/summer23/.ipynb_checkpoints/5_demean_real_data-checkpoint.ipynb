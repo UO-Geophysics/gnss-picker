{
 "cells": [
  {
   "cell_type": "code",
   "execution_count": null,
   "metadata": {},
   "outputs": [],
   "source": [
    "import matplotlib.pyplot as plt\n",
    "import numpy as np\n",
    "import h5py\n",
    "\n",
    "project = 'summer23'\n",
    "project_dir = '/hdd/Ridgecrest/' + project + '/'"
   ]
  },
  {
   "cell_type": "code",
   "execution_count": null,
   "metadata": {},
   "outputs": [],
   "source": [
    "real_data = h5py.File(project_dir + 'realdata_data.hdf5', 'r')\n",
    "real_data = real_data['realdata_data'][:,:] # shape: (1061760, 384)"
   ]
  },
  {
   "cell_type": "code",
   "execution_count": null,
   "metadata": {},
   "outputs": [],
   "source": [
    "small_test = False\n",
    "\n",
    "if small_test:\n",
    "    \n",
    "    real_data = real_data[:100]"
   ]
  },
  {
   "cell_type": "code",
   "execution_count": null,
   "metadata": {
    "scrolled": true
   },
   "outputs": [],
   "source": [
    "nlen = 128\n",
    "\n",
    "comp1 = real_data[:, :nlen]\n",
    "comp2 = real_data[:, nlen:2*nlen]\n",
    "comp3 = real_data[:, 2*nlen:]\n",
    "\n",
    "stack_data = np.zeros((len(real_data), nlen, 3))\n",
    "\n",
    "for idx, row in enumerate(stack_data):\n",
    "            \n",
    "    # Grabbing out the new batch of data using the shifted timespans\n",
    "    stack_data[idx, :, 0] = comp1[idx, :]\n",
    "    stack_data[idx, :, 1] = comp2[idx, :]\n",
    "    stack_data[idx, :, 2] = comp3[idx, :]\n",
    "    \n",
    "# print(stack_data.shape)\n",
    "\n",
    "norm_data = np.zeros((len(stack_data), 128*3))\n",
    "print(norm_data.shape)\n",
    "\n",
    "for krow in range(len(stack_data)):\n",
    "    \n",
    "    print(krow)\n",
    "    \n",
    "    N_data = stack_data[krow, :, 0]\n",
    "    E_data = stack_data[krow, :, 1]\n",
    "    Z_data = stack_data[krow, :, 2]\n",
    "        \n",
    "    mean_N = np.mean(N_data[0])\n",
    "    mean_E = np.mean(E_data[0])\n",
    "    mean_Z = np.mean(Z_data[0])\n",
    "    \n",
    "    norm_N_data = N_data - mean_N\n",
    "    norm_E_data = E_data - mean_E\n",
    "    norm_Z_data = Z_data - mean_Z\n",
    "    \n",
    "    # plt.plot(N_data, label = 'original')\n",
    "    # plt.plot(norm_N_data, label = 'norm')\n",
    "    # plt.legend()\n",
    "    # plt.show()\n",
    "    \n",
    "    comb_data = np.append(norm_N_data, norm_E_data)\n",
    "    comb_data = np.append(comb_data, norm_Z_data)\n",
    "    \n",
    "    norm_data[krow,:] = comb_data"
   ]
  },
  {
   "cell_type": "code",
   "execution_count": null,
   "metadata": {},
   "outputs": [],
   "source": [
    "print(norm_data.shape)\n",
    "\n",
    "h5f = h5py.File(project_dir + 'norm_realdata.hdf5', 'w') \n",
    "h5f.create_dataset('norm_realdata', data = norm_data)\n",
    "h5f.close()"
   ]
  },
  {
   "cell_type": "code",
   "execution_count": null,
   "metadata": {},
   "outputs": [],
   "source": []
  }
 ],
 "metadata": {
  "kernelspec": {
   "display_name": "Python 3",
   "language": "python",
   "name": "python3"
  },
  "language_info": {
   "codemirror_mode": {
    "name": "ipython",
    "version": 3
   },
   "file_extension": ".py",
   "mimetype": "text/x-python",
   "name": "python",
   "nbconvert_exporter": "python",
   "pygments_lexer": "ipython3",
   "version": "3.8.5"
  }
 },
 "nbformat": 4,
 "nbformat_minor": 4
}
