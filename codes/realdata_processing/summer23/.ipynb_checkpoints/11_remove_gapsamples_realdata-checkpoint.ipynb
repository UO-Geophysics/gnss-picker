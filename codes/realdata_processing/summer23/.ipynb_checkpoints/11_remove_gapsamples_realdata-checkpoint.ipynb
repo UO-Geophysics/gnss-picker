{
 "cells": [
  {
   "cell_type": "code",
   "execution_count": 1,
   "id": "2b4c55ab",
   "metadata": {},
   "outputs": [],
   "source": [
    "import numpy as np\n",
    "import matplotlib.pyplot as plt\n",
    "import h5py"
   ]
  },
  {
   "cell_type": "code",
   "execution_count": null,
   "id": "daeb2c77",
   "metadata": {},
   "outputs": [],
   "source": [
    "# Finding the too many zeros\n",
    "\n",
    "realdata_dir = '/home/sdybing/gnss-picker/data/realdata/summer23/'\n",
    "real_data = h5py.File(realdata_dir + 'demean_realdata.hdf5', 'r')\n",
    "real_data = real_data['demean_realdata'][:,:]\n",
    "real_metadata = np.load(realdata_dir + 'real_metadata_w_gauss_pos_mag.npy')"
   ]
  },
  {
   "cell_type": "code",
   "execution_count": 3,
   "id": "5d6f0162",
   "metadata": {},
   "outputs": [
    {
     "data": {
      "text/plain": [
       "(1061760, 384)"
      ]
     },
     "execution_count": 3,
     "metadata": {},
     "output_type": "execute_result"
    }
   ],
   "source": [
    "real_data.shape"
   ]
  },
  {
   "cell_type": "code",
   "execution_count": 4,
   "id": "ed741ece",
   "metadata": {},
   "outputs": [],
   "source": [
    "nlen = 128"
   ]
  },
  {
   "cell_type": "code",
   "execution_count": 5,
   "id": "d41a582b",
   "metadata": {},
   "outputs": [],
   "source": [
    "diff_N = np.diff(real_data[:, :nlen])\n",
    "diff_E = np.diff(real_data[:, nlen:2*nlen])\n",
    "diff_Z = np.diff(real_data[:, 2*nlen:])\n",
    "\n",
    "diff2_N = np.diff(diff_N)\n",
    "diff2_E = np.diff(diff_E)\n",
    "diff2_Z = np.diff(diff_Z)"
   ]
  },
  {
   "cell_type": "code",
   "execution_count": null,
   "id": "7d19d7a3",
   "metadata": {},
   "outputs": [],
   "source": [
    "toomanyzeros_N = []\n",
    "toomanyzeros_E = []\n",
    "toomanyzeros_Z = []\n",
    "\n",
    "for k in range(len(real_data)):\n",
    "#     a += 1\n",
    "#     print(a)\n",
    "    b = 0\n",
    "    for j in range(len(diff2_N[k])):\n",
    "        point = diff2_N[k][j]\n",
    "        check = np.isclose(point, 0, rtol = 1e-05)\n",
    "        if check == True:\n",
    "            b += 1\n",
    "#     print(b)\n",
    "    if b >= 60:\n",
    "#         print('Too many zeros!')\n",
    "        toomanyzeros_N.append(k)\n",
    "\n",
    "print(toomanyzeros_N)\n",
    "\n",
    "for k in range(len(real_data[:1000])):\n",
    "#     a += 1\n",
    "#     print(a)\n",
    "    b = 0\n",
    "    for j in range(len(diff2_E[k])):\n",
    "        point = diff2_E[k][j]\n",
    "        check = np.isclose(point, 0, rtol = 1e-05)\n",
    "        if check == True:\n",
    "            b += 1\n",
    "#     print(b)\n",
    "    if b >= 60:\n",
    "#         print('Too many zeros!')\n",
    "        toomanyzeros_E.append(k)\n",
    "\n",
    "print(toomanyzeros_E)\n",
    "\n",
    "for k in range(len(real_data[:1000])):\n",
    "#     a += 1\n",
    "#     print(a)\n",
    "    b = 0\n",
    "    for j in range(len(diff2_Z[k])):\n",
    "        point = diff2_Z[k][j]\n",
    "        check = np.isclose(point, 0, rtol = 1e-05)\n",
    "        if check == True:\n",
    "            b += 1\n",
    "#     print(b)\n",
    "    if b >= 60:\n",
    "#         print('Too many zeros!')\n",
    "        toomanyzeros_Z.append(k)\n",
    "    \n",
    "print(toomanyzeros_Z)"
   ]
  },
  {
   "cell_type": "code",
   "execution_count": null,
   "id": "f2353e00",
   "metadata": {},
   "outputs": [],
   "source": [
    "np.save(realdata_dir + 'realdata_samps_w_too_many_zeros_N.npy', np.array(toomanyzeros_N))\n",
    "np.save(realdata_dir + 'realdata_samps_w_too_many_zeros_E.npy', np.array(toomanyzeros_E))\n",
    "np.save(realdata_dir + 'realdata_samps_w_too_many_zeros_Z.npy', np.array(toomanyzeros_Z))"
   ]
  },
  {
   "cell_type": "code",
   "execution_count": null,
   "id": "dc846669",
   "metadata": {},
   "outputs": [],
   "source": [
    "# Look at some examples with plots\n",
    "\n",
    "for k in toomanyzeros_Z[:5]:\n",
    "    fig, ax1 = plt.subplots()\n",
    "    ax1.plot(real_data[k, :nlen], color = 'C0', label = 'Data')\n",
    "#     plt.show()\n",
    "    ax2 = ax1.twinx()\n",
    "    ax2.plot(diff_N[k], color = 'C1', label = 'First derivative')\n",
    "    ax2.plot(diff2_N[k], color = 'C2', label = 'Second derivative')\n",
    "    lines, labels = ax1.get_legend_handles_labels()\n",
    "    lines2, labels2 = ax2.get_legend_handles_labels()\n",
    "    ax2.legend(lines + lines2, labels + labels2)\n",
    "    plt.show();\n",
    "#     plt.savefig('derivtestplot' + str(a) + '.png')\n",
    "#     plt.close();"
   ]
  },
  {
   "cell_type": "code",
   "execution_count": null,
   "id": "d85f2ed3",
   "metadata": {},
   "outputs": [],
   "source": [
    "### REMOVING BAD DATA ###\n",
    "\n",
    "bad_N = np.load(realdata_dir + 'realdata_samps_w_too_many_zeros_N.npy')\n",
    "bad_E = np.load(realdata_dir + 'realdata_samps_w_too_many_zeros_E.npy')\n",
    "bad_Z = np.load(realdata_dir + 'realdata_samps_w_too_many_zeros_Z.npy')\n",
    "\n",
    "print(len(bad_N))\n",
    "print(len(bad_E))\n",
    "print(len(bad_Z))\n",
    "\n",
    "#print(len(bad_N) + len(bad_E) + len(bad_Z))"
   ]
  },
  {
   "cell_type": "code",
   "execution_count": null,
   "id": "ae830d29",
   "metadata": {},
   "outputs": [],
   "source": [
    "comb = np.concatenate((bad_N, bad_E, bad_Z))\n",
    "#print(len(comb))\n",
    "\n",
    "remove_dups = list(set(comb))\n",
    "remove_dups = np.sort(remove_dups)\n",
    "np.save('remove_dups_realdata.npy', remove_dups)\n",
    "#print(len(remove_dups))\n",
    "\n",
    "# stack_data_rembad = np.delete(stack_data, remove_dups, axis = 0)\n",
    "# # print(len(stack_data))\n",
    "# # print(len(stack_data_rembad))\n",
    "\n",
    "# realtest_predictions_rembad = np.delete(realtest_predictions, remove_dups, axis = 0)\n",
    "# gauss_target_rembad = np.delete(gauss_target, remove_dups, axis = 0)\n",
    "\n",
    "# deleted_eqs = []\n",
    "\n",
    "# for idx in range(len(rows_w_eqs)):\n",
    "#     #print(rows_w_eqs[idx])\n",
    "    \n",
    "#     for i in range(len(remove_dups)):\n",
    "#         #print(remove_dups[i])\n",
    "        \n",
    "#         if remove_dups[i] == rows_w_eqs[idx]:\n",
    "#             #print(rows_w_eqs[idx])\n",
    "#             #print(remove_dups[i])\n",
    "#             deleted_eqs.append(idx)\n",
    "\n",
    "# #print(deleted_eqs)\n",
    "\n",
    "# #print(remove_dups)\n",
    "# #print(rows_w_eqs[2527])\n",
    "\n",
    "# rows_w_eqs_rembad = np.delete(rows_w_eqs, deleted_eqs, axis = 0)\n",
    "\n",
    "# print(len(stack_data))\n",
    "# print(len(stack_data_rembad))\n",
    "\n",
    "# print(len(realtest_predictions))\n",
    "# print(len(realtest_predictions_rembad))\n",
    "\n",
    "# print(len(gauss_target))\n",
    "# print(len(gauss_target_rembad))\n",
    "\n",
    "# print(len(rows_w_eqs))\n",
    "# print(len(rows_w_eqs_rembad))\n",
    "\n",
    "# np.save('stack_data_rembad.npy', stack_data_rembad)\n",
    "# np.save('realtest_predictions_rembad.npy', realtest_predictions_rembad)\n",
    "# np.save('gauss_target_rembad.npy', gauss_target_rembad)\n",
    "# np.save('rows_w_eqs_rembad.npy', rows_w_eqs_rembad)"
   ]
  },
  {
   "cell_type": "code",
   "execution_count": null,
   "id": "47fc3e67",
   "metadata": {},
   "outputs": [],
   "source": [
    "### LOAD DATA THAT HAS BAD ONES REMOVED ###\n",
    "\n",
    "realtest_predictions = np.load('realtest_predictions_rembad.npy')\n",
    "gauss_target = np.load('gauss_target_rembad.npy')\n",
    "stack_data = np.load('stack_data_rembad.npy')\n",
    "rows_w_eqs = np.load('rows_w_eqs_rembad.npy')"
   ]
  }
 ],
 "metadata": {
  "kernelspec": {
   "display_name": "Python 3 (ipykernel)",
   "language": "python",
   "name": "python3"
  },
  "language_info": {
   "codemirror_mode": {
    "name": "ipython",
    "version": 3
   },
   "file_extension": ".py",
   "mimetype": "text/x-python",
   "name": "python",
   "nbconvert_exporter": "python",
   "pygments_lexer": "ipython3",
   "version": "3.8.8"
  }
 },
 "nbformat": 4,
 "nbformat_minor": 5
}
