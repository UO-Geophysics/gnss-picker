{
 "cells": [
  {
   "cell_type": "code",
   "execution_count": 1,
   "id": "1d11d2ca-2c48-41d8-92e7-5f7fb2146b4c",
   "metadata": {},
   "outputs": [],
   "source": [
    "import numpy as np\n",
    "import matplotlib.pyplot as plt"
   ]
  },
  {
   "cell_type": "code",
   "execution_count": 61,
   "id": "4480afc9-6484-4db5-9224-82a7a6e46e15",
   "metadata": {},
   "outputs": [],
   "source": [
    "project = 'newfault'\n",
    "traindate = '2024-10-01'\n",
    "testdate = '2024-10-02'\n",
    "traindate_path = '/home/sdybing/gnss-picker/cnn_models_outputs/' + project + '_fq_train/models/traindate_' + traindate + '/'\n",
    "test_outputs_path = traindate_path + 'data/fakequakes_testing/classification_stats/'\n",
    "figure_save_dir = traindate_path + 'figures/fakequakes_testing/classification_stats/'\n",
    "\n",
    "fqtest_data = np.load(traindate_path + 'data/' + testdate + '_fqtest_norm_data.npy')\n",
    "fqtest_metadata = np.load(traindate_path + 'data/' + testdate + '_fqtest_metadata.npy')\n",
    "fqtest_target = np.load(traindate_path + 'data/' + testdate + '_fqtest_target.npy')\n",
    "fqtest_predictions = np.load(traindate_path + 'data/' + testdate + '_fqtest_predictions.npy')\n",
    "\n",
    "num_fqtest = len(fqtest_predictions)\n",
    "thresholds = np.arange(0, 1.005, 0.005)\n",
    "test_thresholds = [0, 0.005]"
   ]
  },
  {
   "cell_type": "code",
   "execution_count": 62,
   "id": "4f850b10-98f3-4e97-9a1a-8c6524e9cd63",
   "metadata": {},
   "outputs": [
    {
     "data": {
      "text/plain": [
       "(128, 3)"
      ]
     },
     "execution_count": 62,
     "metadata": {},
     "output_type": "execute_result"
    }
   ],
   "source": [
    "fqtest_data[0].shape"
   ]
  },
  {
   "cell_type": "code",
   "execution_count": 63,
   "id": "069e20f9-14e3-48e1-90ec-c5671cacbbb5",
   "metadata": {},
   "outputs": [
    {
     "data": {
      "text/plain": [
       "(91740, 128)"
      ]
     },
     "execution_count": 63,
     "metadata": {},
     "output_type": "execute_result"
    }
   ],
   "source": [
    "fqtest_target.shape"
   ]
  },
  {
   "cell_type": "code",
   "execution_count": 64,
   "id": "77bc16c6-a9de-4640-a682-dff39d98d6de",
   "metadata": {},
   "outputs": [
    {
     "data": {
      "text/plain": [
       "array([['newfault.001132', 'NHRG', '6.3333'],\n",
       "       ['newfault.000179', 'P462', '7.0808'],\n",
       "       ['nan', 'nan', 'nan'],\n",
       "       ...,\n",
       "       ['newfault.002773', 'BKAP', '4.7904'],\n",
       "       ['newfault.000388', 'P091', '7.0220'],\n",
       "       ['newfault.003291', 'P289', '4.3230']], dtype='<U32')"
      ]
     },
     "execution_count": 64,
     "metadata": {},
     "output_type": "execute_result"
    }
   ],
   "source": [
    "fqtest_metadata"
   ]
  },
  {
   "cell_type": "code",
   "execution_count": 96,
   "id": "5cda3c9a-9278-4f1a-adca-88444941d900",
   "metadata": {},
   "outputs": [],
   "source": [
    "eq_idx = 1\n",
    "noise_idx = 2\n",
    "\n",
    "plt.figure(figsize = (11,4), dpi = 400)\n",
    "\n",
    "ax = plt.subplot(121)\n",
    "\n",
    "ax.text(x = -35, y = 0.9, s = '(a)', fontsize = 22)\n",
    "line1, = ax.plot(fqtest_data[eq_idx][:,0], label = 'N-S displacement')\n",
    "ax.set_xlabel('Time (s)', fontsize = 12)\n",
    "ax.set_ylabel('Stream-normalized\\ndisplacement', fontsize = 12)\n",
    "ax.set_xlim(0,127)\n",
    "ax.set_ylim(-1.05,1.05)\n",
    "ax.tick_params(labelsize = 11)\n",
    "ax2 = ax.twinx()\n",
    "line2, = ax2.plot(fqtest_target[eq_idx], linestyle = '--', color = 'black', label = 'Target')\n",
    "line3, = ax2.plot(fqtest_predictions[eq_idx], linestyle = '--', color = 'red', label = 'Model prediction')\n",
    "ax2.set_xlabel('Time (s)', fontsize = 12)\n",
    "ax2.set_ylabel('Confidence', fontsize = 12)\n",
    "ax2.set_ylim(-0.02,1.02)\n",
    "ax2.tick_params(labelsize = 11)\n",
    "\n",
    "lines = [line1, line2, line3]\n",
    "labels = [line.get_label() for line in lines]\n",
    "ax.legend(lines, labels, loc = (0.42, -0.31), ncol = 3, fontsize = 12)\n",
    "\n",
    "ax = plt.subplot(122)\n",
    "\n",
    "ax.text(x = -35, y = 0.9, s = '(b)', fontsize = 22)\n",
    "ax.plot(fqtest_data[noise_idx][:,0])\n",
    "ax.set_xlim(0,127)\n",
    "ax.set_ylim(-1.05,1.05)\n",
    "ax.set_xlabel('Time (s)', fontsize = 12)\n",
    "ax.set_ylabel('Stream-normalized\\ndisplacement', fontsize = 12)\n",
    "ax.tick_params(labelsize = 11)\n",
    "ax2 = ax.twinx()\n",
    "ax2.plot(fqtest_target[noise_idx], linestyle = '--', color = 'black')\n",
    "ax2.plot(fqtest_predictions[noise_idx], linestyle = '--', color = 'red')\n",
    "ax2.set_xlabel('Time (s)', fontsize = 12)\n",
    "ax2.set_ylabel('Confidence', fontsize = 12)\n",
    "ax2.set_ylim(-0.02,1.02)\n",
    "ax2.tick_params(labelsize = 11)\n",
    "\n",
    "plt.subplots_adjust(wspace = 0.5)\n",
    "\n",
    "# plt.show()\n",
    "\n",
    "plt.savefig('/home/sdybing/gnss-picker/manuscript_figures/waveform_target_prediction_examples.jpg', format = 'JPG')\n",
    "plt.close();"
   ]
  },
  {
   "cell_type": "code",
   "execution_count": null,
   "id": "5a446f77-cf8a-4ea8-9c7d-a0880a25c8fa",
   "metadata": {},
   "outputs": [],
   "source": []
  }
 ],
 "metadata": {
  "kernelspec": {
   "display_name": "Python 3 (ipykernel)",
   "language": "python",
   "name": "python3"
  },
  "language_info": {
   "codemirror_mode": {
    "name": "ipython",
    "version": 3
   },
   "file_extension": ".py",
   "mimetype": "text/x-python",
   "name": "python",
   "nbconvert_exporter": "python",
   "pygments_lexer": "ipython3",
   "version": "3.8.8"
  }
 },
 "nbformat": 4,
 "nbformat_minor": 5
}
