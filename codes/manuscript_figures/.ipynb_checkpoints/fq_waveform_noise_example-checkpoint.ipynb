{
 "cells": [
  {
   "cell_type": "code",
   "execution_count": 1,
   "id": "f8f61aee-c010-431e-89be-e7ce69e72f4a",
   "metadata": {},
   "outputs": [],
   "source": [
    "import numpy as np\n",
    "from obspy.core import read, stream, UTCDateTime\n",
    "import matplotlib.pyplot as plt\n",
    "import h5py"
   ]
  },
  {
   "cell_type": "code",
   "execution_count": 19,
   "id": "4e65e609-9812-4c01-ba18-1b18ac6c4319",
   "metadata": {},
   "outputs": [
    {
     "name": "stdout",
     "output_type": "stream",
     "text": [
      "BEPK\n"
     ]
    }
   ],
   "source": [
    "# fq_path = '/hdd/rc_fq/fall24/newfault/output/waveforms/newfault.000009/'\n",
    "fq_path = '/hdd/rc_fq/fall24/newfault/output/waveforms/newfault.000474/'\n",
    "stas = np.load('/hdd/rc_fq/fall24/rc_gflist_station_names.npy')\n",
    "\n",
    "# sta = np.random.choice(stas)\n",
    "# sta = 'NDAP'\n",
    "sta = 'BEPK'\n",
    "print(sta)\n",
    "\n",
    "stN = read(fq_path + sta + '.LYN.sac') \n",
    "stE = read(fq_path + sta + '.LYE.sac') \n",
    "stZ = read(fq_path + sta + '.LYZ.sac') "
   ]
  },
  {
   "cell_type": "code",
   "execution_count": 20,
   "id": "7c9f07f1-3f55-4233-8323-63a50e4f064d",
   "metadata": {},
   "outputs": [
    {
     "data": {
      "text/plain": [
       "(256,)"
      ]
     },
     "execution_count": 20,
     "metadata": {},
     "output_type": "execute_result"
    }
   ],
   "source": [
    "stZ[0].data.shape"
   ]
  },
  {
   "cell_type": "code",
   "execution_count": 29,
   "id": "50914798-ce21-4464-8544-09cde4f3acb3",
   "metadata": {},
   "outputs": [],
   "source": [
    "fig = plt.figure(figsize = (5,7), dpi = 400)\n",
    "\n",
    "plt.subplot(311)\n",
    "plt.plot(stN[0].times(), stN[0].data*100, color = 'C0', label = 'N')\n",
    "plt.tick_params(axis = 'both', bottom = False, labelbottom = False)\n",
    "# plt.yticks([-0.2,0,0.2])\n",
    "plt.xlim(0,127)\n",
    "plt.legend(fontsize = 14)\n",
    "\n",
    "plt.subplot(312)\n",
    "plt.plot(stE[0].times(), stE[0].data*100, color = 'C1', label = 'E')\n",
    "plt.tick_params(axis = 'both', bottom = False, labelbottom = False)\n",
    "plt.xlim(0,127)\n",
    "plt.ylabel('Displacement (cm)', fontsize = 14)\n",
    "# plt.yticks([-0.3,-0.2,-0.1,0])\n",
    "plt.legend(fontsize = 14)\n",
    "\n",
    "plt.subplot(313)\n",
    "plt.plot(stZ[0].times(), stZ[0].data*100, color = 'C2', label = 'Z')\n",
    "plt.xlim(0,127)\n",
    "plt.xlabel('Time (s)', fontsize = 14)\n",
    "plt.legend(fontsize = 14)\n",
    "\n",
    "plt.subplots_adjust(hspace = 0, left = 0.2)\n",
    "# plt.show();\n",
    "\n",
    "plt.savefig('/home/sdybing/gnss-picker/manuscript_figures/combination_diagram_waveform_only.png', format = 'PNG')\n",
    "plt.close();"
   ]
  },
  {
   "cell_type": "code",
   "execution_count": 23,
   "id": "b05458b6-9bec-4efa-b7a5-66bbce869cf5",
   "metadata": {},
   "outputs": [],
   "source": [
    "noise_path = '/home/sdybing/gnss-picker/data/noisedata/'\n",
    "\n",
    "all_noise_data = h5py.File(noise_path + 'summer23_128samps_all_noise_samples.hdf5', 'r')\n",
    "all_noise_data = all_noise_data['all_noise_samples'][:,:]\n",
    "\n",
    "noise_example = all_noise_data[0]\n",
    "\n",
    "noiseN = noise_example[:256]\n",
    "noiseE = noise_example[256:512]\n",
    "noiseZ = noise_example[512:]"
   ]
  },
  {
   "cell_type": "code",
   "execution_count": 30,
   "id": "7272220a-6429-4b26-aa43-4ec4e57bb734",
   "metadata": {},
   "outputs": [],
   "source": [
    "fig = plt.figure(figsize = (5,7), dpi = 400)\n",
    "\n",
    "plt.subplot(311)\n",
    "plt.plot(noiseN*100, color = 'C0', label = 'N')\n",
    "plt.tick_params(axis = 'both', bottom = False, labelbottom = False)\n",
    "plt.xlim(0,127)\n",
    "plt.legend(fontsize = 14)\n",
    "\n",
    "plt.subplot(312)\n",
    "plt.plot(noiseE*100, color = 'C1', label = 'E')\n",
    "plt.tick_params(axis = 'both', bottom = False, labelbottom = False)\n",
    "plt.xlim(0,127)\n",
    "plt.ylabel('Displacement (cm)', fontsize = 14)\n",
    "plt.legend(fontsize = 14)\n",
    "\n",
    "plt.subplot(313)\n",
    "plt.plot(noiseZ*100, color = 'C2', label = 'Z')\n",
    "plt.xlim(0,127)\n",
    "plt.xlabel('Time (s)', fontsize = 14)\n",
    "plt.legend(fontsize = 14)\n",
    "\n",
    "plt.subplots_adjust(hspace = 0, left = 0.2)\n",
    "# plt.show();\n",
    "\n",
    "plt.savefig('/home/sdybing/gnss-picker/manuscript_figures/combination_diagram_noise_only.png', format = 'PNG')\n",
    "plt.close();"
   ]
  },
  {
   "cell_type": "code",
   "execution_count": 31,
   "id": "e875db6d-13f1-4e62-91eb-05a02f75b23c",
   "metadata": {},
   "outputs": [],
   "source": [
    "fig = plt.figure(figsize = (5,7), dpi = 400)\n",
    "\n",
    "plt.subplot(311)\n",
    "plt.plot(stN[0].times(), (stN[0].data + noiseN)*100, color = 'C0', label = 'N')\n",
    "plt.tick_params(axis = 'both', bottom = False, labelbottom = False)\n",
    "plt.xlim(0,127)\n",
    "plt.legend(fontsize = 14)\n",
    "\n",
    "plt.subplot(312)\n",
    "plt.plot(stE[0].times(), (stE[0].data + noiseE)*100, color = 'C1', label = 'E')\n",
    "plt.tick_params(axis = 'both', bottom = False, labelbottom = False)\n",
    "plt.xlim(0,127)\n",
    "plt.ylabel('Displacement (cm)', fontsize = 14)\n",
    "plt.legend(fontsize = 14)\n",
    "\n",
    "plt.subplot(313)\n",
    "plt.plot(stZ[0].times(), (stZ[0].data + noiseZ)*100, color = 'C2', label = 'Z')\n",
    "plt.xlim(0,127)\n",
    "plt.xlabel('Time (s)', fontsize = 14)\n",
    "plt.legend(fontsize = 14)\n",
    "\n",
    "plt.subplots_adjust(hspace = 0, left = 0.2)\n",
    "# plt.show();\n",
    "\n",
    "plt.savefig('/home/sdybing/gnss-picker/manuscript_figures/combination_diagram_noisywaveform.png', format = 'PNG')\n",
    "plt.close();"
   ]
  },
  {
   "cell_type": "code",
   "execution_count": null,
   "id": "7622165f-0ded-440b-8401-a552a012e07b",
   "metadata": {},
   "outputs": [],
   "source": []
  }
 ],
 "metadata": {
  "kernelspec": {
   "display_name": "Python 3 (ipykernel)",
   "language": "python",
   "name": "python3"
  },
  "language_info": {
   "codemirror_mode": {
    "name": "ipython",
    "version": 3
   },
   "file_extension": ".py",
   "mimetype": "text/x-python",
   "name": "python",
   "nbconvert_exporter": "python",
   "pygments_lexer": "ipython3",
   "version": "3.8.8"
  }
 },
 "nbformat": 4,
 "nbformat_minor": 5
}
