{
 "cells": [
  {
   "cell_type": "code",
   "execution_count": 1,
   "id": "2a47e114-b8d5-4063-bf6c-e872026d34e7",
   "metadata": {},
   "outputs": [],
   "source": [
    "import pygmt\n",
    "import numpy as np\n",
    "import pandas as pd"
   ]
  },
  {
   "cell_type": "code",
   "execution_count": 2,
   "id": "bf707d7a-13af-4edb-bb34-81c27a174bea",
   "metadata": {},
   "outputs": [],
   "source": [
    "path = '/Users/sydneydybing/gnss-picker/figures/map_data_and_gmt_script/'\n",
    "\n",
    "gnss_stas = np.genfromtxt(path + 'GNSS_stas.txt', dtype = 'str')\n",
    "events = np.genfromtxt(path + 'scedc_cat_evts_w_arrivals_mags_no_outliers.txt', dtype = 'float')"
   ]
  },
  {
   "cell_type": "code",
   "execution_count": 3,
   "id": "94f9cc66-3ba4-476d-ac4d-da764f51c7ae",
   "metadata": {},
   "outputs": [
    {
     "data": {
      "text/plain": [
       "array(['-117.402835', '35.69756', 'P595'], dtype='<U12')"
      ]
     },
     "execution_count": 3,
     "metadata": {},
     "output_type": "execute_result"
    }
   ],
   "source": [
    "gnss_stas[0]"
   ]
  },
  {
   "cell_type": "code",
   "execution_count": 4,
   "id": "37f58383-1ebd-4848-aed1-2ab717118cec",
   "metadata": {},
   "outputs": [
    {
     "data": {
      "text/plain": [
       "array([-117.7365,   35.891 ,    4.64  ])"
      ]
     },
     "execution_count": 4,
     "metadata": {},
     "output_type": "execute_result"
    }
   ],
   "source": [
    "events[0]"
   ]
  },
  {
   "cell_type": "code",
   "execution_count": 5,
   "id": "2d78d96c-980d-4d99-8853-92e929572419",
   "metadata": {},
   "outputs": [],
   "source": [
    "# Make earthquake size legend\n",
    "\n",
    "d = {'lon': [-121.75, -121.3, -120.55], 'lat': [32.94, 32.94, 32.94], 'mag': [5, 6, 7]}\n",
    "legend = pd.DataFrame(data=d)"
   ]
  },
  {
   "cell_type": "code",
   "execution_count": 7,
   "id": "e7812223-0f58-4a92-b852-fc7b0d9e2245",
   "metadata": {},
   "outputs": [],
   "source": [
    "# Plot\n",
    "\n",
    "pygmt.config(COLOR_BACKGROUND = 'white')\n",
    "\n",
    "fig = pygmt.Figure()\n",
    "\n",
    "# North America\n",
    "\n",
    "region = [-122,-114,32.5,38.8]\n",
    "fig.coast(region = region, projection = 'N12c', land = 'wheat3', water = 'lightcyan2', frame = 'afg') # Coastline\n",
    "fig.plot(data = path + 'PB2002_boundaries.gmt', pen = '1p,darkred', style = 'f0.25/3p', fill = 'darkred') # Plate boundaries\n",
    "\n",
    "# Plot earthquakes\n",
    "\n",
    "pygmt.makecpt(cmap=\"viridis\", series=[np.min(events[:,2].astype(float)), np.max(events[:,2].astype(float))], reverse=True)\n",
    "fig.plot(x = events[:,0].astype(float), y = events[:,1].astype(float), size = 0.035*(1.8**events[:,2].astype(float)), style = 'cc', cmap=True, fill = events[:,2].astype(float), pen = 'black', transparency = 50) # Symbols\n",
    "fig.colorbar(frame=\"af+lMagnitude\")\n",
    "\n",
    "# Plot stations \n",
    "\n",
    "fig.plot(x = gnss_stas[:,0].astype(float), y = gnss_stas[:,1].astype(float), style = 't0.35c', fill = 'dodgerblue', pen = 'black') # Symbols\n",
    "\n",
    "# Add inset map\n",
    "\n",
    "with fig.inset(position = 'jTR+w3c+o0.5c/0.25c'):\n",
    "    fig.coast(projection = 'G-120/40/3c', land = 'black', water = 'white')\n",
    "    rectangle = [[region[0], region[2], region[1], region[3]]]\n",
    "    fig.plot(data = rectangle, style = 'r+s', pen = '1p,red')\n",
    "    \n",
    "# Make legend\n",
    "\n",
    "with fig.inset(position = 'jBL+w3.7c/2c+o0.3c/0.25c', box = '+p0.5+gwhite'):\n",
    "    pass\n",
    "\n",
    "fig.plot(x = -119.8, y = 33.15, fill = 'greenyellow', pen = 'black', style = 'c0.65c')\n",
    "fig.text(text = ['Earthquakes'], x = -120.92, y = 33.15, font = '12p,black')\n",
    "fig.plot(x = -119.6, y = 32.82, fill = 'dodgerblue', pen = 'black', style = 't0.35c')\n",
    "fig.text(text = ['GNSS stations'], x = -120.8, y = 32.85, font = '12p,black')\n",
    "fig.text(text = ['LEGEND'], x = -120.55, y = 33.54, font = '14p,black')\n",
    "\n",
    "# Show or save \n",
    "\n",
    "# fig.show();\n",
    "\n",
    "fig.savefig(path + 'pygmt_map_figure.pdf');"
   ]
  },
  {
   "cell_type": "code",
   "execution_count": null,
   "id": "8b1389ee-215c-4caf-a603-26981085201b",
   "metadata": {},
   "outputs": [],
   "source": []
  }
 ],
 "metadata": {
  "kernelspec": {
   "display_name": "Python [conda env:pygmt]",
   "language": "python",
   "name": "conda-env-pygmt-py"
  },
  "language_info": {
   "codemirror_mode": {
    "name": "ipython",
    "version": 3
   },
   "file_extension": ".py",
   "mimetype": "text/x-python",
   "name": "python",
   "nbconvert_exporter": "python",
   "pygments_lexer": "ipython3",
   "version": "3.11.3"
  }
 },
 "nbformat": 4,
 "nbformat_minor": 5
}
