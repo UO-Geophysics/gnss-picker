{
 "cells": [
  {
   "cell_type": "code",
   "execution_count": 1,
   "id": "ad976dad",
   "metadata": {},
   "outputs": [],
   "source": [
    "import numpy as np"
   ]
  },
  {
   "cell_type": "code",
   "execution_count": 3,
   "id": "576db520",
   "metadata": {},
   "outputs": [],
   "source": [
    "project_name = 'june30'\n",
    "GF_list = 'rc_gflist.gflist' # Station file used in fq gen code\n",
    "stas_name = GF_list.split('.')[0]\n",
    "fq_dir = '/hdd/rc_fq/summer23/' + project_name + '/'"
   ]
  },
  {
   "cell_type": "code",
   "execution_count": 6,
   "id": "71604ec4",
   "metadata": {},
   "outputs": [],
   "source": [
    "gflist = np.genfromtxt(fq_dir + 'data/station_info/' + GF_list, dtype = 'str')"
   ]
  },
  {
   "cell_type": "code",
   "execution_count": 8,
   "id": "2dbbddad",
   "metadata": {},
   "outputs": [
    {
     "data": {
      "text/plain": [
       "array(['P595', '-117.402835', '35.69756', '0', '1', '0', '0', '0', '0'],\n",
       "      dtype='<U12')"
      ]
     },
     "execution_count": 8,
     "metadata": {},
     "output_type": "execute_result"
    }
   ],
   "source": [
    "gflist[0]"
   ]
  },
  {
   "cell_type": "code",
   "execution_count": 9,
   "id": "eedadc67",
   "metadata": {},
   "outputs": [],
   "source": [
    "stanames = gflist[:,0]\n",
    "stalons = gflist[:,1]\n",
    "stalats = gflist[:,2]"
   ]
  },
  {
   "cell_type": "code",
   "execution_count": 13,
   "id": "c9773d35",
   "metadata": {},
   "outputs": [],
   "source": [
    "stasinfo = np.column_stack((stalons, stalats, stanames))"
   ]
  },
  {
   "cell_type": "code",
   "execution_count": 15,
   "id": "dcee1165",
   "metadata": {},
   "outputs": [
    {
     "data": {
      "text/plain": [
       "(278, 3)"
      ]
     },
     "execution_count": 15,
     "metadata": {},
     "output_type": "execute_result"
    }
   ],
   "source": [
    "stasinfo.shape"
   ]
  },
  {
   "cell_type": "code",
   "execution_count": 16,
   "id": "1c6f3f67",
   "metadata": {},
   "outputs": [],
   "source": [
    "# np.save('/hdd/rc_fq/summer23/' + stas_name + '_station_names.npy', stanames)\n",
    "# np.save('/hdd/rc_fq/summer23/' + stas_name + '_station_namesandlocs.npy', stasinfo)"
   ]
  },
  {
   "cell_type": "code",
   "execution_count": 22,
   "id": "5a0dc137",
   "metadata": {},
   "outputs": [
    {
     "data": {
      "text/plain": [
       "array(['P595', 'P594', 'CCCC', 'P580', 'BEPK', 'P616', 'P463', 'RAMT',\n",
       "       'P593', 'P570', 'P592', 'P568', 'P590', 'CPBN', 'P812', 'P591',\n",
       "       'P811', 'ISLK', 'P466', 'P583', 'P579', 'P462', 'P091', 'LNMT',\n",
       "       'P615', 'P467', 'P093', 'THCP', 'BSRY', 'P567', 'RSTP', 'HIVI',\n",
       "       'SHOS', 'P604', 'P582', 'SCIA', 'P620', 'P557', 'P589', 'P056',\n",
       "       'P560', 'WOMT', 'P619', 'P586', 'P581', 'P556', 'ORMT', 'P468',\n",
       "       'PBPP', 'P470', 'BKAP', 'P565', 'P810', 'P809', 'WGPP', 'P618',\n",
       "       'RDMT', 'HCMN', 'CDMT', 'P553', 'P554', 'P606', 'P564', 'P577',\n",
       "       'CTDM', 'SKYB', 'WKPK', 'P563', 'BVPP', 'LDSW', 'P551', 'P311',\n",
       "       'P612', 'P545', 'BBRY', 'P613', 'LORS', 'VNCX', 'P727', 'AZU1',\n",
       "       'P603', 'EWPP', 'VDCY', 'P611', 'P621', 'P522', 'I40A', 'P598',\n",
       "       'FMVT', 'PKRD', 'LAPC', 'LDES', 'RHCL', 'P543', 'SPMS', 'RSVY',\n",
       "       'NHRG', 'KBRC', 'OZST', 'LFRS', 'VIMT', 'MPWD', 'TOST', 'CBHS',\n",
       "       'BKMS', 'P800', 'HVYS', 'SDHL', 'MLFP', 'GMRC', 'SOMT', 'P547',\n",
       "       'P652', 'CNPP', 'MAT2', 'OVLS', 'P622', 'P799', 'P644', 'P729',\n",
       "       'P584', 'P541', 'P537', 'PPBF', 'MUSB', 'BMHL', 'CSCI', 'CSST',\n",
       "       'P520', 'VNCO', 'P521', 'CRHS', 'P548', 'P536', 'P629', 'P540',\n",
       "       'P538', 'P642', 'PVRS', 'P546', 'P653', 'P539', 'ECFS', 'LGWD',\n",
       "       'P602', 'P639', 'P646', 'RCA2', 'P552', 'P630', 'P518', 'DSSC',\n",
       "       'P725', 'P532', 'P614', 'P647', 'P542', 'P519', 'BEMT', 'P298',\n",
       "       'P471', 'SBCC', 'THMS', 'ELLY', 'FGST', 'BILL', 'P282', 'P300',\n",
       "       'P634', 'P280', 'P650', 'P533', 'P529', 'P281', 'ANA1', 'RMVJ',\n",
       "       'HUNT', 'BBDM', 'P627', 'P477', 'CARH', 'COPR', 'CAND', 'MNMC',\n",
       "       'CASE', 'P649', 'P740', 'RCSC', 'P648', 'MIDA', 'P641', 'P294',\n",
       "       'P515', 'LAND', 'P632', 'HOGS', 'P625', 'DLUZ', 'TONO', 'P476',\n",
       "       'P530', 'GR8R', 'P516', 'P608', 'P479', 'P741', 'P797', 'RNCH',\n",
       "       'P640', 'SONG', 'AR53', 'P297', 'P742', 'P514', 'ORES', 'P474',\n",
       "       'P633', 'P304', 'CAT3', 'AR27', 'P490', 'TJRN', 'P527', 'P637',\n",
       "       'P491', 'ACSX', 'ACSB', 'P607', 'CRU1', 'P636', 'P484', 'CAT2',\n",
       "       'OCSD', 'USLO', 'VTOR', 'CRBT', 'P478', 'P290', 'P245', 'P006',\n",
       "       'P289', 'IMPS', 'P302', 'PEA1', 'P654', 'PEA2', 'HNPS', 'P305',\n",
       "       'NDAP', 'P482', 'P525', 'P513', 'CLBD', 'P295', 'P511', 'SRS1',\n",
       "       'P288', 'P284', 'P523', 'P504', 'P486', 'P485', 'P301', 'VNDP',\n",
       "       'P489', 'P067', 'P308', 'P487', 'SLMS', 'P303', 'P285', 'P279',\n",
       "       'P278', 'P505', 'P483', 'MIG1', 'P174', 'P488'], dtype='<U12')"
      ]
     },
     "execution_count": 22,
     "metadata": {},
     "output_type": "execute_result"
    }
   ],
   "source": [
    "station_catalogue_load = np.load('/hdd/rc_fq/summer23/' + stas_name + '_station_namesandlocs.npy')\n",
    "station_catalogue = station_catalogue_load[:,2]\n",
    "station_catalogue"
   ]
  },
  {
   "cell_type": "code",
   "execution_count": null,
   "id": "18c13147",
   "metadata": {},
   "outputs": [],
   "source": []
  }
 ],
 "metadata": {
  "kernelspec": {
   "display_name": "Python 3 (ipykernel)",
   "language": "python",
   "name": "python3"
  },
  "language_info": {
   "codemirror_mode": {
    "name": "ipython",
    "version": 3
   },
   "file_extension": ".py",
   "mimetype": "text/x-python",
   "name": "python",
   "nbconvert_exporter": "python",
   "pygments_lexer": "ipython3",
   "version": "3.8.8"
  }
 },
 "nbformat": 4,
 "nbformat_minor": 5
}
