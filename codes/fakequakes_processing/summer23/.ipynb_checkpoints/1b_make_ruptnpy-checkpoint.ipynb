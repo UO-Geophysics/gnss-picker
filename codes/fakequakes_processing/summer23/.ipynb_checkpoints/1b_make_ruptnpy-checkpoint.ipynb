{
 "cells": [
  {
   "cell_type": "code",
   "execution_count": 1,
   "id": "0176b3c3",
   "metadata": {},
   "outputs": [],
   "source": [
    "import numpy as np"
   ]
  },
  {
   "cell_type": "code",
   "execution_count": 2,
   "id": "c87642d4",
   "metadata": {},
   "outputs": [],
   "source": [
    "project_name = 'newfault'"
   ]
  },
  {
   "cell_type": "code",
   "execution_count": 3,
   "id": "67516b8e",
   "metadata": {},
   "outputs": [],
   "source": [
    "ruptslist = np.genfromtxt('/hdd/rc_fq/fall24/' + project_name + '/data/ruptures.list', dtype = 'str')"
   ]
  },
  {
   "cell_type": "code",
   "execution_count": 4,
   "id": "5d80782a",
   "metadata": {},
   "outputs": [
    {
     "data": {
      "text/plain": [
       "array(['newfault.000000.rupt', 'newfault.000001.rupt',\n",
       "       'newfault.000002.rupt', ..., 'newfault.003297.rupt',\n",
       "       'newfault.003298.rupt', 'newfault.003299.rupt'], dtype='<U20')"
      ]
     },
     "execution_count": 4,
     "metadata": {},
     "output_type": "execute_result"
    }
   ],
   "source": [
    "ruptslist"
   ]
  },
  {
   "cell_type": "code",
   "execution_count": 5,
   "id": "1a134069",
   "metadata": {},
   "outputs": [],
   "source": [
    "rupts_new = []\n",
    "\n",
    "for rupt in ruptslist:\n",
    "    \n",
    "    project = rupt.split('.')[0]\n",
    "    ruptnum = rupt.split('.')[1]\n",
    "    \n",
    "    newrupt = str(project + '.' + ruptnum)\n",
    "#     print(newrupt)\n",
    "\n",
    "    rupts_new.append(newrupt)"
   ]
  },
  {
   "cell_type": "code",
   "execution_count": 7,
   "id": "a34ed736",
   "metadata": {},
   "outputs": [],
   "source": [
    "# print(rupts_new)\n",
    "\n",
    "np.save('/hdd/rc_fq/fall24/' + project_name + '_ruptures.npy', np.array(rupts_new))"
   ]
  },
  {
   "cell_type": "code",
   "execution_count": null,
   "id": "b3d3233a-dce4-47d9-9592-b353c3bb9e94",
   "metadata": {},
   "outputs": [],
   "source": []
  }
 ],
 "metadata": {
  "kernelspec": {
   "display_name": "Python 3 (ipykernel)",
   "language": "python",
   "name": "python3"
  },
  "language_info": {
   "codemirror_mode": {
    "name": "ipython",
    "version": 3
   },
   "file_extension": ".py",
   "mimetype": "text/x-python",
   "name": "python",
   "nbconvert_exporter": "python",
   "pygments_lexer": "ipython3",
   "version": "3.8.8"
  }
 },
 "nbformat": 4,
 "nbformat_minor": 5
}
