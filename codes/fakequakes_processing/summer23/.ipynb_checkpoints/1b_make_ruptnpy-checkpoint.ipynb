{
 "cells": [
  {
   "cell_type": "code",
   "execution_count": 1,
   "id": "79807a5f",
   "metadata": {},
   "outputs": [],
   "source": [
    "import numpy as np"
   ]
  },
  {
   "cell_type": "code",
   "execution_count": 4,
   "id": "e0637d98",
   "metadata": {},
   "outputs": [],
   "source": [
    "ruptslist = np.genfromtxt('/hdd/rc_fq/summer23/june30/data/ruptures.list', dtype = 'str')"
   ]
  },
  {
   "cell_type": "code",
   "execution_count": 5,
   "id": "ab913277",
   "metadata": {},
   "outputs": [
    {
     "data": {
      "text/plain": [
       "array(['june30.000000.rupt', 'june30.000001.rupt', 'june30.000002.rupt',\n",
       "       ..., 'june30.003297.rupt', 'june30.003298.rupt',\n",
       "       'june30.003299.rupt'], dtype='<U18')"
      ]
     },
     "execution_count": 5,
     "metadata": {},
     "output_type": "execute_result"
    }
   ],
   "source": [
    "ruptslist"
   ]
  },
  {
   "cell_type": "code",
   "execution_count": 12,
   "id": "82dab608",
   "metadata": {},
   "outputs": [],
   "source": [
    "rupts_new = []\n",
    "\n",
    "for rupt in ruptslist:\n",
    "    \n",
    "    project = rupt.split('.')[0]\n",
    "    ruptnum = rupt.split('.')[1]\n",
    "    \n",
    "    newrupt = project + '.' + ruptnum\n",
    "#     print(newrupt)\n",
    "\n",
    "    rupts_new.append(newrupt)"
   ]
  },
  {
   "cell_type": "code",
   "execution_count": 15,
   "id": "87c6a1c2",
   "metadata": {},
   "outputs": [],
   "source": [
    "# print(rupts_new)\n",
    "\n",
    "np.save('/hdd/rc_fq/summer23/june30_ruptures.npy', np.array(rupts_new))"
   ]
  }
 ],
 "metadata": {
  "kernelspec": {
   "display_name": "Python 3 (ipykernel)",
   "language": "python",
   "name": "python3"
  },
  "language_info": {
   "codemirror_mode": {
    "name": "ipython",
    "version": 3
   },
   "file_extension": ".py",
   "mimetype": "text/x-python",
   "name": "python",
   "nbconvert_exporter": "python",
   "pygments_lexer": "ipython3",
   "version": "3.8.8"
  }
 },
 "nbformat": 4,
 "nbformat_minor": 5
}
