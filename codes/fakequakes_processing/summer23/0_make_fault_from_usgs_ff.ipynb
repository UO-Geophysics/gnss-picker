{
 "cells": [
  {
   "cell_type": "code",
   "execution_count": 8,
   "id": "e4264ce1",
   "metadata": {},
   "outputs": [],
   "source": [
    "param = '/hdd/rc_fq/usgs_ff.param'"
   ]
  },
  {
   "cell_type": "code",
   "execution_count": 11,
   "id": "353dc74c",
   "metadata": {},
   "outputs": [],
   "source": [
    "def usgs2fault(usgs_model,out_file,Dx,Dy):\n",
    "    '''\n",
    "    Convert USGS finite fault to .fault\n",
    "    '''\n",
    "    from numpy import genfromtxt,ones,arange,savetxt,c_\n",
    "    \n",
    "    lon=genfromtxt(usgs_model,usecols=1,skip_header=9)\n",
    "    lat=genfromtxt(usgs_model,usecols=0,skip_header=9)\n",
    "    z=genfromtxt(usgs_model,usecols=2,skip_header=9)\n",
    "    st=genfromtxt(usgs_model,usecols=5,skip_header=9)\n",
    "    dip=genfromtxt(usgs_model,usecols=6,skip_header=9)\n",
    "    rise_time=genfromtxt(usgs_model,usecols=8,skip_header=9)\n",
    "    \n",
    "    no=arange(1,len(lon)+1)\n",
    "    H=Dx*ones(len(lon))\n",
    "    W=Dy*ones(len(lon))\n",
    "    tri=0.5*ones(len(lon))\n",
    "    rt=rise_time*ones(len(lon))\n",
    "    \n",
    "    out=c_[no,lon,lat,z,st,dip,tri,rt,H,W]\n",
    "    savetxt(out_file,out,fmt='%d\\t%10.4f\\t%10.4f\\t%8.4f\\t%6.1f\\t%6.1f\\t%.1f\\t%.1f\\t%.1f\\t%.1f')"
   ]
  },
  {
   "cell_type": "code",
   "execution_count": 12,
   "id": "ecf1b2b1",
   "metadata": {},
   "outputs": [],
   "source": [
    "usgs2fault(usgs_model = param, out_file = '/hdd/rc_fq/usgs_ff.fault', Dx = 5000, Dy = 2230)"
   ]
  },
  {
   "cell_type": "code",
   "execution_count": null,
   "id": "6bc52d1c",
   "metadata": {},
   "outputs": [],
   "source": []
  }
 ],
 "metadata": {
  "kernelspec": {
   "display_name": "Python 3 (ipykernel)",
   "language": "python",
   "name": "python3"
  },
  "language_info": {
   "codemirror_mode": {
    "name": "ipython",
    "version": 3
   },
   "file_extension": ".py",
   "mimetype": "text/x-python",
   "name": "python",
   "nbconvert_exporter": "python",
   "pygments_lexer": "ipython3",
   "version": "3.8.8"
  }
 },
 "nbformat": 4,
 "nbformat_minor": 5
}
