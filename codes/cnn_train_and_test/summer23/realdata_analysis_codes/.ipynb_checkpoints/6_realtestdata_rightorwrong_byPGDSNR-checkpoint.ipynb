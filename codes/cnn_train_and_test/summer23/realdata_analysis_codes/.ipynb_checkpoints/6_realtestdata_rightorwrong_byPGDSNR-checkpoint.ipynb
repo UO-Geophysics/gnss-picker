{
 "cells": [
  {
   "cell_type": "code",
   "execution_count": 1,
   "id": "9717998b",
   "metadata": {},
   "outputs": [],
   "source": [
    "import numpy as np\n",
    "import matplotlib.pyplot as plt\n",
    "\n",
    "project = 'july6'\n",
    "traindate = '2023-08-26'\n",
    "testdate = '2023-08-27'\n",
    "traindate_path = '/home/sdybing/gnss-picker/cnn_models_outputs/' + project + '_fq_train/models/traindate_' + traindate + '/'\n",
    "test_outputs_path = traindate_path + 'data/'\n",
    "figure_save_dir = traindate_path + 'figures/'\n",
    "realdata_dir = '/home/sdybing/gnss-picker/data/realdata/summer23/'\n",
    "\n",
    "# best_thresh = 0.04 # Approximate crossover point in code 2\n",
    "# best_thresh = 0.03\n",
    "best_thresh = 0.05\n",
    "\n",
    "rows_w_eqs = np.load(realdata_dir + 'real_metadata_rembad_rows_w_eqs.npy')\n",
    "# correct_eq_inds = np.load(test_outputs_path + 'realtest_data_rows_w_truepos_result_thresh004.npy')\n",
    "# correct_eq_inds = np.load(test_outputs_path + 'realtest_data_rows_w_truepos_result_thresh003.npy')\n",
    "correct_eq_inds = np.load(test_outputs_path + 'realtest_data_rows_w_truepos_result_thresh005.npy')\n",
    "\n",
    "# metadata = np.load(test_outputs_path + 'realtest_metadata_with_results_pgd_snr_thresh004.npy')\n",
    "# metadata = np.load(test_outputs_path + 'realtest_metadata_with_results_pgd_snr_thresh003.npy')\n",
    "metadata = np.load(test_outputs_path + 'realtest_metadata_with_results_pgd_snr_thresh005.npy')\n",
    "\n",
    "# 0: station name\n",
    "# 1: date sample came from\n",
    "# 2: sample start time\n",
    "# 3: sample end time\n",
    "# 4: random n counter\n",
    "# 5: sample P-wave arrives at (gauss pos)\n",
    "# 6: earthquake magnitude\n",
    "# 7: result\n",
    "# 8: PGD\n",
    "# 9: SNR N\n",
    "# 10: SNR E\n",
    "# 11: SNR Z"
   ]
  },
  {
   "cell_type": "code",
   "execution_count": 2,
   "id": "2a2c3d76",
   "metadata": {},
   "outputs": [
    {
     "data": {
      "text/plain": [
       "520"
      ]
     },
     "execution_count": 2,
     "metadata": {},
     "output_type": "execute_result"
    }
   ],
   "source": [
    "len(correct_eq_inds)"
   ]
  },
  {
   "cell_type": "code",
   "execution_count": 3,
   "id": "f90810a6",
   "metadata": {},
   "outputs": [
    {
     "data": {
      "text/plain": [
       "2123"
      ]
     },
     "execution_count": 3,
     "metadata": {},
     "output_type": "execute_result"
    }
   ],
   "source": [
    "len(rows_w_eqs)"
   ]
  },
  {
   "cell_type": "code",
   "execution_count": 4,
   "id": "8b3b3075",
   "metadata": {},
   "outputs": [
    {
     "data": {
      "text/plain": [
       "994155"
      ]
     },
     "execution_count": 4,
     "metadata": {},
     "output_type": "execute_result"
    }
   ],
   "source": [
    "len(metadata)"
   ]
  },
  {
   "cell_type": "code",
   "execution_count": 5,
   "id": "8daa2b06",
   "metadata": {},
   "outputs": [
    {
     "name": "stdout",
     "output_type": "stream",
     "text": [
      "520\n",
      "520\n",
      "1603\n"
     ]
    }
   ],
   "source": [
    "matching_rows_idxinrwe = [] # Finding the indices where the correct rows match the rows with earthquakes\n",
    "count = 0\n",
    "\n",
    "for j in range(len(correct_eq_inds)):\n",
    "    correct_row = correct_eq_inds[j]\n",
    "    for i in range(len(rows_w_eqs)):\n",
    "        row = rows_w_eqs[i]\n",
    "        if correct_row == row:\n",
    "            matching_rows_idxinrwe.append(i)\n",
    "            count += 1\n",
    "\n",
    "print(count)\n",
    "print(len(matching_rows_idxinrwe))\n",
    "\n",
    "incorrect_eq_inds = np.delete(rows_w_eqs, matching_rows_idxinrwe, axis = 0) # Inverse of correct eq inds\n",
    "print(len(incorrect_eq_inds))"
   ]
  },
  {
   "cell_type": "code",
   "execution_count": 6,
   "id": "46aa6567",
   "metadata": {},
   "outputs": [],
   "source": [
    "# 0: station name\n",
    "# 1: date sample came from\n",
    "# 2: sample start time\n",
    "# 3: sample end time\n",
    "# 4: random n counter\n",
    "# 5: sample P-wave arrives at (gauss pos)\n",
    "# 6: earthquake magnitude\n",
    "# 7: result\n",
    "# 8: PGD\n",
    "# 9: SNR N\n",
    "# 10: SNR E\n",
    "# 11: SNR Z\n",
    "\n",
    "mags_correct = metadata[:,6][correct_eq_inds].astype(float)\n",
    "mags_incorrect = metadata[:,6][incorrect_eq_inds].astype(float)\n",
    "\n",
    "pgds_m_correct = metadata[:,8][correct_eq_inds].astype(float)\n",
    "pgds_m_incorrect = metadata[:,8][incorrect_eq_inds].astype(float)\n",
    "\n",
    "snrsn_correct = metadata[:,9][correct_eq_inds].astype(float)\n",
    "snrsn_incorrect = metadata[:,9][incorrect_eq_inds].astype(float)\n",
    "\n",
    "snrse_correct = metadata[:,10][correct_eq_inds].astype(float)\n",
    "snrse_incorrect = metadata[:,10][incorrect_eq_inds].astype(float)\n",
    "\n",
    "snrsz_correct = metadata[:,11][correct_eq_inds].astype(float)\n",
    "snrsz_incorrect = metadata[:,11][incorrect_eq_inds].astype(float)"
   ]
  },
  {
   "cell_type": "code",
   "execution_count": 7,
   "id": "407458fe",
   "metadata": {},
   "outputs": [
    {
     "name": "stdout",
     "output_type": "stream",
     "text": [
      "520\n",
      "1603\n"
     ]
    }
   ],
   "source": [
    "print(len(snrsn_correct))\n",
    "print(len(snrsn_incorrect))\n",
    "# print(snrsn_correct)\n",
    "# print(snrsn_incorrect)"
   ]
  },
  {
   "cell_type": "code",
   "execution_count": 8,
   "id": "72f7ea76",
   "metadata": {},
   "outputs": [],
   "source": [
    "plt.figure(figsize = (10,5), dpi = 300)\n",
    "plt.scatter(incorrect_eq_inds, mags_incorrect, label = 'Missed (' + str(len(mags_incorrect)) + ')', color = '#2DADB4', alpha = 0.5)\n",
    "plt.scatter(correct_eq_inds, mags_correct, label = 'Picked (' + str(len(mags_incorrect)) + ')', color = '#001528', alpha = 0.5)\n",
    "plt.ylabel('Magnitude', fontsize = 16)\n",
    "plt.xlabel('Sample index (those with earthquakes only)', fontsize = 16)\n",
    "plt.xticks(fontsize = 14)\n",
    "plt.yticks(fontsize = 14)\n",
    "plt.title('Picked vs. Missed Earthquakes by Magnitude', fontsize = 17)\n",
    "plt.legend(loc = (0.67, 0.52), fontsize = 16)\n",
    "# plt.show();\n",
    "plt.savefig(figure_save_dir + '20a_realtestdata_pickmiss_mag_thresh005.png', format = 'PNG')\n",
    "plt.close();"
   ]
  },
  {
   "cell_type": "code",
   "execution_count": 9,
   "id": "3e7ad714",
   "metadata": {},
   "outputs": [],
   "source": [
    "plt.figure(figsize = (10,5), dpi = 300)\n",
    "plt.scatter(incorrect_eq_inds, pgds_m_incorrect*100, label = 'Missed (' + str(len(pgds_m_incorrect)) + ')', color = '#2DADB4', alpha = 0.5)\n",
    "plt.scatter(correct_eq_inds, pgds_m_correct*100, label = 'Picked (' + str(len(pgds_m_correct)) + ')', color = '#001528', alpha = 0.5)\n",
    "plt.ylabel('PGD (cm)', fontsize = 16)\n",
    "plt.xlabel('Sample index (those with earthquakes only)', fontsize = 16)\n",
    "plt.xticks(fontsize = 14)\n",
    "plt.yticks(fontsize = 14)\n",
    "plt.yscale('log')\n",
    "plt.title('Picked vs. Missed Earthquakes by Peak Ground Displacement (cm)', fontsize = 17)\n",
    "plt.legend(loc = 'upper left', fontsize = 16)\n",
    "# plt.show();\n",
    "plt.savefig(figure_save_dir + '20b_realtestdata_pickmiss_pgd_thresh005.png', format = 'PNG')\n",
    "plt.close();"
   ]
  },
  {
   "cell_type": "code",
   "execution_count": 10,
   "id": "d2498b1f",
   "metadata": {},
   "outputs": [],
   "source": [
    "plt.figure(figsize = (10,5), dpi = 300)\n",
    "plt.scatter(incorrect_eq_inds, snrsn_incorrect, label = 'Missed (' + str(len(snrsn_incorrect)) + ')', color = '#2DADB4', alpha = 0.5)\n",
    "plt.scatter(correct_eq_inds, snrsn_correct, label = 'Picked (' + str(len(snrsn_correct)) + ')', color = '#001528', alpha = 0.5)\n",
    "plt.ylabel('SNR', fontsize = 16)\n",
    "plt.xlabel('Sample index (those with earthquakes only)', fontsize = 16)\n",
    "plt.xticks(fontsize = 14)\n",
    "plt.yticks(fontsize = 14)\n",
    "plt.yscale('log')\n",
    "plt.ylim(10**-2,10**2)\n",
    "plt.title('Picked vs. Missed Earthquakes by Signal to Noise Ratio - N component', fontsize = 17)\n",
    "plt.legend(loc = 'lower left', fontsize = 16)\n",
    "# plt.show();\n",
    "plt.savefig(figure_save_dir + '20c_realtestdata_pickmiss_SNRN_thresh005.png', format = 'PNG')\n",
    "plt.close();"
   ]
  },
  {
   "cell_type": "code",
   "execution_count": 11,
   "id": "2100400c",
   "metadata": {},
   "outputs": [],
   "source": [
    "plt.figure(figsize = (10,5), dpi = 300)\n",
    "plt.scatter(incorrect_eq_inds, snrse_incorrect, label = 'Missed (' + str(len(snrse_incorrect)) + ')', color = '#2DADB4', alpha = 0.5)\n",
    "plt.scatter(correct_eq_inds, snrse_correct, label = 'Picked (' + str(len(snrse_correct)) + ')', color = '#001528', alpha = 0.5)\n",
    "plt.ylabel('SNR', fontsize = 16)\n",
    "plt.xlabel('Sample index (those with earthquakes only)', fontsize = 16)\n",
    "plt.xticks(fontsize = 14)\n",
    "plt.yticks(fontsize = 14)\n",
    "plt.yscale('log')\n",
    "plt.ylim(10**-2,10**2)\n",
    "plt.title('Picked vs. Missed Earthquakes by Signal to Noise Ratio - E component', fontsize = 17)\n",
    "plt.legend(loc = 'lower left', fontsize = 16)\n",
    "# plt.show();\n",
    "plt.savefig(figure_save_dir + '20d_realtestdata_pickmiss_SNRE_thresh005.png', format = 'PNG')\n",
    "plt.close();"
   ]
  },
  {
   "cell_type": "code",
   "execution_count": 12,
   "id": "7931115d",
   "metadata": {},
   "outputs": [],
   "source": [
    "plt.figure(figsize = (10,5), dpi = 300)\n",
    "plt.scatter(incorrect_eq_inds, snrsz_incorrect, label = 'Missed (' + str(len(snrsz_incorrect)) + ')', color = '#2DADB4', alpha = 0.5)\n",
    "plt.scatter(correct_eq_inds, snrsz_correct, label = 'Picked (' + str(len(snrsz_correct)) + ')', color = '#001528', alpha = 0.5)\n",
    "plt.ylabel('SNR', fontsize = 16)\n",
    "plt.xlabel('Sample index (those with earthquakes only)', fontsize = 16)\n",
    "plt.xticks(fontsize = 14)\n",
    "plt.yticks(fontsize = 14)\n",
    "plt.yscale('log')\n",
    "plt.ylim(10**-2,10**2)\n",
    "plt.title('Picked vs. Missed Earthquakes by Signal to Noise Ratio - Z component', fontsize = 17)\n",
    "plt.legend(loc = 'lower left', fontsize = 16)\n",
    "# plt.show();\n",
    "plt.savefig(figure_save_dir + '20e_realtestdata_pickmiss_SNRZ_thresh005.png', format = 'PNG')\n",
    "plt.close();"
   ]
  },
  {
   "cell_type": "code",
   "execution_count": null,
   "id": "64a63c1c",
   "metadata": {},
   "outputs": [],
   "source": []
  }
 ],
 "metadata": {
  "kernelspec": {
   "display_name": "Python 3 (ipykernel)",
   "language": "python",
   "name": "python3"
  },
  "language_info": {
   "codemirror_mode": {
    "name": "ipython",
    "version": 3
   },
   "file_extension": ".py",
   "mimetype": "text/x-python",
   "name": "python",
   "nbconvert_exporter": "python",
   "pygments_lexer": "ipython3",
   "version": "3.8.8"
  }
 },
 "nbformat": 4,
 "nbformat_minor": 5
}
