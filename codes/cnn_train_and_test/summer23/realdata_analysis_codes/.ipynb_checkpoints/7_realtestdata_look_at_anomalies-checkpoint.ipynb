{
 "cells": [
  {
   "cell_type": "code",
   "execution_count": 2,
   "id": "3e1cc59e",
   "metadata": {},
   "outputs": [],
   "source": [
    "import numpy as np\n",
    "import matplotlib.pyplot as plt\n",
    "\n",
    "project = 'july6'\n",
    "traindate = '2023-08-26'\n",
    "testdate = '2023-08-27'\n",
    "traindate_path = '/home/sdybing/gnss-picker/cnn_models_outputs/' + project + '_fq_train/models/traindate_' + traindate + '/'\n",
    "test_outputs_path = traindate_path + 'data/'\n",
    "figure_save_dir = traindate_path + 'figures/'\n",
    "realdata_dir = '/home/sdybing/gnss-picker/data/realdata/summer23/'\n",
    "\n",
    "realtest_data = np.load(test_outputs_path + testdate + '_realtest_orig_data.npy')\n",
    "realtest_metadata = np.load(test_outputs_path + testdate + '_realtest_metadata.npy')\n",
    "realtest_target = np.load(test_outputs_path + testdate + '_realtest_target.npy')\n",
    "realtest_predictions = np.load(test_outputs_path + testdate + '_realtest_predictions.npy')\n",
    "rows_w_eqs = np.load(realdata_dir + 'real_metadata_rembad_rows_w_eqs.npy')"
   ]
  },
  {
   "cell_type": "code",
   "execution_count": 3,
   "id": "07d4f82a",
   "metadata": {},
   "outputs": [],
   "source": [
    "new_meta = np.load(test_outputs_path + 'realtest_metadata_with_results_pgd_snr_thresh013.npy')\n",
    "\n",
    "# New metadata array columns:\n",
    "\n",
    "# 0: station name\n",
    "# 1: date sample came from\n",
    "# 2: sample start time\n",
    "# 3: sample end time\n",
    "# 4: random n counter\n",
    "# 5: sample P-wave arrives at (gauss pos)\n",
    "# 6: earthquake magnitude\n",
    "# 7: result\n",
    "# 8: PGD\n",
    "# 9: SNR N\n",
    "# 10: SNR E\n",
    "# 11: SNR Z"
   ]
  },
  {
   "cell_type": "code",
   "execution_count": 18,
   "id": "4fba17ce",
   "metadata": {},
   "outputs": [
    {
     "name": "stdout",
     "output_type": "stream",
     "text": [
      "994155\n",
      "2123\n"
     ]
    }
   ],
   "source": [
    "pgds = []\n",
    "nonan_pgds = []\n",
    "\n",
    "for idx in range(len(new_meta)):\n",
    "    pgd = new_meta[idx,8]\n",
    "    if pgd != 'nan':\n",
    "        pgd = float(pgd)\n",
    "        pgds.append(pgd)\n",
    "        nonan_pgds.append(pgd)\n",
    "    else:\n",
    "        pgds.append(-99999)\n",
    "        \n",
    "print(len(pgds))\n",
    "print(len(nonan_pgds))"
   ]
  },
  {
   "cell_type": "code",
   "execution_count": 16,
   "id": "67d87727",
   "metadata": {},
   "outputs": [
    {
     "data": {
      "text/plain": [
       "0.42687295824997146"
      ]
     },
     "execution_count": 16,
     "metadata": {},
     "output_type": "execute_result"
    }
   ],
   "source": [
    "max(nonan_pgds)"
   ]
  },
  {
   "cell_type": "code",
   "execution_count": 20,
   "id": "7fb37f7f",
   "metadata": {},
   "outputs": [
    {
     "name": "stdout",
     "output_type": "stream",
     "text": [
      "[682677]\n",
      "[ 15226  25610  81069  82015 229639 402342 579546 608992 647029 670943\n",
      " 676348 681732 682677 733194 829310 856729]\n"
     ]
    }
   ],
   "source": [
    "i = np.where(new_meta[:,8] == str(max(nonan_pgds)))[0]\n",
    "print(i)\n",
    "\n",
    "j = np.where(np.array(pgds) >= 0.1)[0]\n",
    "print(j)"
   ]
  },
  {
   "cell_type": "code",
   "execution_count": 9,
   "id": "e1625137",
   "metadata": {},
   "outputs": [
    {
     "data": {
      "text/plain": [
       "(994155, 128, 3)"
      ]
     },
     "execution_count": 9,
     "metadata": {},
     "output_type": "execute_result"
    }
   ],
   "source": [
    "realtest_data.shape"
   ]
  },
  {
   "cell_type": "code",
   "execution_count": 26,
   "id": "1e9cba6e",
   "metadata": {
    "scrolled": false
   },
   "outputs": [
    {
     "name": "stdout",
     "output_type": "stream",
     "text": [
      "15226\n",
      "25610\n",
      "81069\n",
      "82015\n",
      "229639\n",
      "402342\n",
      "579546\n",
      "608992\n",
      "647029\n",
      "670943\n",
      "676348\n",
      "681732\n",
      "682677\n",
      "733194\n",
      "829310\n",
      "856729\n"
     ]
    }
   ],
   "source": [
    "for ind in j:\n",
    "    \n",
    "    print(ind)\n",
    "    sr = 1\n",
    "    n_data = realtest_data[ind,:,0]\n",
    "    e_data = realtest_data[ind,:,1]\n",
    "    z_data = realtest_data[ind,:,2]\n",
    "    pgd = np.max(np.sqrt((n_data)**2+(e_data)**2+(z_data)**2))\n",
    "#     print(max(realtest_predictions[ind]))\n",
    "    \n",
    "    if max(realtest_predictions[ind]) < 0.13:\n",
    "\n",
    "        fig = plt.subplots(nrows = 1, ncols = 3, figsize = (18,4), dpi = 300)\n",
    "        plt.subplots_adjust(wspace = 0.4)\n",
    "        t = 1/sr * np.arange(realtest_data.shape[1])\n",
    "        # print(t)\n",
    "\n",
    "        ax1 = plt.subplot(131)\n",
    "        ax1.plot(t, realtest_data[ind,:,0], label = 'N test data', color = 'C0')\n",
    "        ax1.set_ylabel('Displacement (m)')\n",
    "        ax1.set_xlabel('Time (s)')\n",
    "        ax1.legend(loc = 'upper right')\n",
    "        ax2 = ax1.twinx()\n",
    "        ax2.plot(t, realtest_target[ind,:], color = 'black', linestyle = '--', label = 'Target')\n",
    "        ax2.plot(t, realtest_predictions[ind,:], color = 'red', linestyle = '--', label = 'Prediction')\n",
    "        ax2.set_ylabel('Confidence')\n",
    "        ax2.set_ylim(-0.05,1.05)\n",
    "        ax2.legend(loc = 'upper left')\n",
    "\n",
    "        ax3 = plt.subplot(132)\n",
    "        ax3.set_title('Row with earthquake ' + str(ind) + ': station ' + str(realtest_metadata[ind,0]) + ', magnitude ' + str(realtest_metadata[ind,6]) + ', PGD ' + str(np.round(pgd,3)) + ' m', fontsize = 16)\n",
    "        ax3.plot(t, realtest_data[ind,:,1], label = 'E test data', color = 'C1')\n",
    "        ax3.set_ylabel('Displacement (m)')\n",
    "        ax3.legend(loc = 'upper right')\n",
    "        ax4 = ax3.twinx()\n",
    "        ax4.plot(t, realtest_target[ind,:], color = 'black', linestyle = '--', label = 'Target')\n",
    "        ax4.plot(t, realtest_predictions[ind,:], color = 'red', linestyle = '--', label = 'Prediction')\n",
    "        ax4.set_ylim(-0.05,1.05)\n",
    "        ax4.legend(loc = 'upper left')\n",
    "\n",
    "        ax5 = plt.subplot(133)\n",
    "        ax5.plot(t, realtest_data[ind,:,2], label = 'Z test data', color = 'C2')\n",
    "        ax5.set_ylabel('Displacement (m)')\n",
    "        ax5.legend(loc = 'upper right')\n",
    "        ax6 = ax5.twinx()\n",
    "        ax6.plot(t, realtest_target[ind,:], color = 'black', linestyle = '--', label = 'Target')\n",
    "        ax6.plot(t, realtest_predictions[ind,:], color = 'red', linestyle = '--', label = 'Prediction')\n",
    "        ax6.set_ylim(-0.05,1.05)\n",
    "        ax6.legend(loc = 'upper left')\n",
    "\n",
    "#         plt.show();\n",
    "        plt.savefig(figure_save_dir + 'realtestdata_pgdshigherthan01_wvfplots/row_' + str(ind) + '_plot_predictions_MISS.png', format = 'PNG')\n",
    "        plt.close();\n"
   ]
  },
  {
   "cell_type": "code",
   "execution_count": null,
   "id": "52130a58",
   "metadata": {},
   "outputs": [],
   "source": []
  }
 ],
 "metadata": {
  "kernelspec": {
   "display_name": "Python 3 (ipykernel)",
   "language": "python",
   "name": "python3"
  },
  "language_info": {
   "codemirror_mode": {
    "name": "ipython",
    "version": 3
   },
   "file_extension": ".py",
   "mimetype": "text/x-python",
   "name": "python",
   "nbconvert_exporter": "python",
   "pygments_lexer": "ipython3",
   "version": "3.8.8"
  }
 },
 "nbformat": 4,
 "nbformat_minor": 5
}
