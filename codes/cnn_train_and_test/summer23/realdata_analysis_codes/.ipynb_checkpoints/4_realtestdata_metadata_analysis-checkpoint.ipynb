{
 "cells": [
  {
   "cell_type": "code",
   "execution_count": 2,
   "id": "12952107",
   "metadata": {},
   "outputs": [],
   "source": [
    "import numpy as np\n",
    "import matplotlib.pyplot as plt\n",
    "\n",
    "project = 'july6'\n",
    "traindate = '2023-08-26'\n",
    "testdate = '2023-08-27'\n",
    "traindate_path = '/home/sdybing/gnss-picker/cnn_models_outputs/' + project + '_fq_train/models/traindate_' + traindate + '/'\n",
    "test_outputs_path = traindate_path + 'data/'\n",
    "figure_save_dir = traindate_path + 'figures/'\n",
    "realdata_dir = '/home/sdybing/gnss-picker/data/realdata/summer23/'\n",
    "\n",
    "realtest_data = np.load(test_outputs_path + testdate + '_realtest_orig_data.npy')\n",
    "realtest_metadata = np.load(test_outputs_path + testdate + '_realtest_metadata.npy')\n",
    "realtest_target = np.load(test_outputs_path + testdate + '_realtest_target.npy')\n",
    "realtest_predictions = np.load(test_outputs_path + testdate + '_realtest_predictions.npy')\n",
    "rows_w_eqs = np.load(realdata_dir + 'real_metadata_rembad_rows_w_eqs.npy')\n",
    "\n",
    "num_realtest = len(realtest_predictions)\n",
    "thresholds = np.arange(0, 1.005, 0.005)\n",
    "test_thresholds = [0, 0.005]\n",
    "\n",
    "best_thresh = 0.025 # Highest threshold in code 2 where all earthquakes were caught (TP = 2123)\n",
    "\n",
    "zeros = np.zeros((realtest_predictions.shape[0],1))\n",
    "analysis_array = np.c_[realtest_metadata, zeros] # Adds a column of zeros to the metadata array to initialize\n"
   ]
  },
  {
   "cell_type": "code",
   "execution_count": 7,
   "id": "0ebb1d5f",
   "metadata": {},
   "outputs": [
    {
     "data": {
      "text/plain": [
       "array(['21', '73', '10', ..., '66', '57', '97'], dtype='<U27')"
      ]
     },
     "execution_count": 7,
     "metadata": {},
     "output_type": "execute_result"
    }
   ],
   "source": [
    "realtest_metadata[:,5][rows_w_eqs]\n",
    "\n",
    "# Metadata columns:\n",
    "# 0: station name\n",
    "# 1: date sample came from\n",
    "# 2: sample start time\n",
    "# 3: sample end time\n",
    "# 4: random n counter\n",
    "# 5: sample P-wave arrives at (gauss pos)\n",
    "# 6: earthquake magnitude"
   ]
  },
  {
   "cell_type": "code",
   "execution_count": 12,
   "id": "cb83c5b8",
   "metadata": {},
   "outputs": [
    {
     "data": {
      "text/plain": [
       "array(['0.0', '0.0', '0.0', ..., '0.0', '0.0', '0.0'], dtype='<U32')"
      ]
     },
     "execution_count": 12,
     "metadata": {},
     "output_type": "execute_result"
    }
   ],
   "source": [
    "analysis_array[:,7]"
   ]
  },
  {
   "cell_type": "code",
   "execution_count": null,
   "id": "4042ac8d",
   "metadata": {},
   "outputs": [],
   "source": []
  },
  {
   "cell_type": "code",
   "execution_count": 13,
   "id": "ce591d8b",
   "metadata": {},
   "outputs": [],
   "source": [
    "for i in range(len(realtest_metadata)):\n",
    "    \n",
    "    if realtest_metadata[i,5] == 'nan': # This row is NOT an earthquake\n",
    "        \n",
    "        # Make binary prediction and target\n",
    "        \n",
    "        p = np.where(realtest_predictions[i] >= best_thresh)[0]\n",
    "        if len(p) == 0:\n",
    "            pred_binary = 0\n",
    "        elif len(p) > 0:\n",
    "            pred_binary = 1\n",
    "        \n",
    "        t = np.where(realtest_target[i] > 0)[0]\n",
    "        if len(t) == 0:\n",
    "            targ_binary = 0\n",
    "        elif len(t) > 0:\n",
    "            targ_binary = 1\n",
    "        \n",
    "        pred = pred_binary\n",
    "        targ = targ_binary\n",
    "        \n",
    "        # Figure out what the result of the prediction is\n",
    "        \n",
    "        if pred == targ:\n",
    "            if pred == 1 and targ == 1:\n",
    "                result = 'true pos'\n",
    "            elif pred == 0 and targ == 0:\n",
    "                result = 'true neg'\n",
    "            \n",
    "        elif pred != targ:\n",
    "            if pred == 1 and targ == 0:\n",
    "                result = 'false pos'\n",
    "            elif pred == 0 and targ == 1:\n",
    "                result = 'false neg'\n",
    "        \n",
    "        analysis_array[i,7] = result\n",
    "    \n",
    "    else: # This row IS an earthquake\n",
    "        \n",
    "        p = np.where(realtest_predictions[i] >= best_thresh)[0]\n",
    "        if len(p) == 0:\n",
    "            pred_binary = 0\n",
    "        elif len(p) > 0:\n",
    "            pred_binary = 1\n",
    "        \n",
    "        t = np.where(realtest_target[i] > 0)[0]\n",
    "        if len(t) == 0:\n",
    "            targ_binary = 0\n",
    "        elif len(t) > 0:\n",
    "            targ_binary = 1\n",
    "        \n",
    "        pred = pred_binary\n",
    "        targ = targ_binary\n",
    "        \n",
    "        if pred == targ:\n",
    "            if pred == 1 and targ == 1:\n",
    "                result = 'true pos'\n",
    "            elif pred == 0 and targ == 0:\n",
    "                result = 'true neg'\n",
    "            \n",
    "        elif pred != targ:            \n",
    "            if pred == 1 and targ == 0:\n",
    "                result = 'false pos'\n",
    "            elif pred == 0 and targ == 1:\n",
    "                result = 'false neg'\n",
    "        \n",
    "        analysis_array[i,7] = result"
   ]
  },
  {
   "cell_type": "code",
   "execution_count": 19,
   "id": "f10e8e5a",
   "metadata": {},
   "outputs": [
    {
     "name": "stdout",
     "output_type": "stream",
     "text": [
      "[['ACSB' '20190704' '2019-07-04T00:00:00.000000Z' ... 'nan' 'nan'\n",
      "  'false pos']\n",
      " ['ACSB' '20190704' '2019-07-04T00:02:07.000000Z' ... 'nan' 'nan'\n",
      "  'false pos']\n",
      " ['ACSB' '20190704' '2019-07-04T00:04:14.000000Z' ... 'nan' 'nan'\n",
      "  'false pos']\n",
      " ...\n",
      " ['WKPK' '20200604' '2020-06-04T23:52:59.000000Z' ... 'nan' 'nan'\n",
      "  'false pos']\n",
      " ['WKPK' '20200604' '2020-06-04T23:55:06.000000Z' ... 'nan' 'nan'\n",
      "  'false pos']\n",
      " ['WKPK' '20200604' '2020-06-04T23:57:13.000000Z' ... 'nan' 'nan'\n",
      "  'false pos']]\n",
      "(994155, 8)\n"
     ]
    }
   ],
   "source": [
    "print(analysis_array)\n",
    "print(analysis_array.shape)\n",
    "            \n",
    "np.save(test_outputs_path + 'realtest_metadata_withresults_thresh0025.npy', analysis_array)  "
   ]
  },
  {
   "cell_type": "code",
   "execution_count": null,
   "id": "7e8f9185",
   "metadata": {},
   "outputs": [],
   "source": []
  }
 ],
 "metadata": {
  "kernelspec": {
   "display_name": "Python 3 (ipykernel)",
   "language": "python",
   "name": "python3"
  },
  "language_info": {
   "codemirror_mode": {
    "name": "ipython",
    "version": 3
   },
   "file_extension": ".py",
   "mimetype": "text/x-python",
   "name": "python",
   "nbconvert_exporter": "python",
   "pygments_lexer": "ipython3",
   "version": "3.8.8"
  }
 },
 "nbformat": 4,
 "nbformat_minor": 5
}
