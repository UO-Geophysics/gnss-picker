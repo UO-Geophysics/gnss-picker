{
 "cells": [
  {
   "cell_type": "code",
   "execution_count": 62,
   "id": "79b19990",
   "metadata": {},
   "outputs": [
    {
     "ename": "FileNotFoundError",
     "evalue": "[Errno 2] No such file or directory: '/home/sdybing/gnss-picker/cnn_models_outputs/july6_fq_train/models/traindate_2023-07-27/data/2023-07-28_fqtest_targets.npy'",
     "output_type": "error",
     "traceback": [
      "\u001b[0;31m---------------------------------------------------------------------------\u001b[0m",
      "\u001b[0;31mFileNotFoundError\u001b[0m                         Traceback (most recent call last)",
      "Cell \u001b[0;32mIn[62], line 33\u001b[0m\n\u001b[1;32m     31\u001b[0m waveforms \u001b[38;5;241m=\u001b[39m np\u001b[38;5;241m.\u001b[39mload(test_outputs_path \u001b[38;5;241m+\u001b[39m testdate \u001b[38;5;241m+\u001b[39m \u001b[38;5;124m'\u001b[39m\u001b[38;5;124m_fqtest_data.npy\u001b[39m\u001b[38;5;124m'\u001b[39m)\n\u001b[1;32m     32\u001b[0m predictions \u001b[38;5;241m=\u001b[39m np\u001b[38;5;241m.\u001b[39mload(test_outputs_path \u001b[38;5;241m+\u001b[39m testdate \u001b[38;5;241m+\u001b[39m \u001b[38;5;124m'\u001b[39m\u001b[38;5;124m_fqtest_predictions.npy\u001b[39m\u001b[38;5;124m'\u001b[39m)\n\u001b[0;32m---> 33\u001b[0m targets \u001b[38;5;241m=\u001b[39m \u001b[43mnp\u001b[49m\u001b[38;5;241;43m.\u001b[39;49m\u001b[43mload\u001b[49m\u001b[43m(\u001b[49m\u001b[43mtest_outputs_path\u001b[49m\u001b[43m \u001b[49m\u001b[38;5;241;43m+\u001b[39;49m\u001b[43m \u001b[49m\u001b[43mtestdate\u001b[49m\u001b[43m \u001b[49m\u001b[38;5;241;43m+\u001b[39;49m\u001b[43m \u001b[49m\u001b[38;5;124;43m'\u001b[39;49m\u001b[38;5;124;43m_fqtest_targets.npy\u001b[39;49m\u001b[38;5;124;43m'\u001b[39;49m\u001b[43m)\u001b[49m\n",
      "File \u001b[0;32m~/anaconda3/lib/python3.8/site-packages/numpy/lib/npyio.py:407\u001b[0m, in \u001b[0;36mload\u001b[0;34m(file, mmap_mode, allow_pickle, fix_imports, encoding)\u001b[0m\n\u001b[1;32m    405\u001b[0m     own_fid \u001b[38;5;241m=\u001b[39m \u001b[38;5;28;01mFalse\u001b[39;00m\n\u001b[1;32m    406\u001b[0m \u001b[38;5;28;01melse\u001b[39;00m:\n\u001b[0;32m--> 407\u001b[0m     fid \u001b[38;5;241m=\u001b[39m stack\u001b[38;5;241m.\u001b[39menter_context(\u001b[38;5;28;43mopen\u001b[39;49m\u001b[43m(\u001b[49m\u001b[43mos_fspath\u001b[49m\u001b[43m(\u001b[49m\u001b[43mfile\u001b[49m\u001b[43m)\u001b[49m\u001b[43m,\u001b[49m\u001b[43m \u001b[49m\u001b[38;5;124;43m\"\u001b[39;49m\u001b[38;5;124;43mrb\u001b[39;49m\u001b[38;5;124;43m\"\u001b[39;49m\u001b[43m)\u001b[49m)\n\u001b[1;32m    408\u001b[0m     own_fid \u001b[38;5;241m=\u001b[39m \u001b[38;5;28;01mTrue\u001b[39;00m\n\u001b[1;32m    410\u001b[0m \u001b[38;5;66;03m# Code to distinguish from NumPy binary files and pickles.\u001b[39;00m\n",
      "\u001b[0;31mFileNotFoundError\u001b[0m: [Errno 2] No such file or directory: '/home/sdybing/gnss-picker/cnn_models_outputs/july6_fq_train/models/traindate_2023-07-27/data/2023-07-28_fqtest_targets.npy'"
     ]
    }
   ],
   "source": [
    "import numpy as np\n",
    "import matplotlib.pyplot as plt\n",
    "\n",
    "project = 'july6'\n",
    "traindate = '2023-07-27'\n",
    "testdate = '2023-07-28'\n",
    "traindate_path = '/home/sdybing/gnss-picker/cnn_models_outputs/' + project + '_fq_train/models/traindate_' + traindate + '/'\n",
    "test_outputs_path = traindate_path + 'data/'\n",
    "figure_save_dir = traindate_path + 'figures/explore_falsepos/'\n",
    "\n",
    "best_thresh = 0.13 # From code 2\n",
    "\n",
    "results = np.load(test_outputs_path + 'fqtest_metadata_with_results_pgd_snr_locs_hypdists.npy')\n",
    "# Columns:\n",
    "\n",
    "# 0: FQ rupture name\n",
    "# 1: station name\n",
    "# 2: magnitude\n",
    "# 3: result (true pos, etc.)\n",
    "# 4: PGD\n",
    "# 5: SNR_N\n",
    "# 6: SNR_E\n",
    "# 7: SNR_Z\n",
    "# 8: FQ rupture hypocenter lat\n",
    "# 9: FQ rupture hypocenter lon\n",
    "# 10: FQ rupture hypocenter depth\n",
    "# 11: station lat\n",
    "# 12: station lon\n",
    "# 13: hypocentral distance (m)\n",
    "\n",
    "waveforms = np.load(test_outputs_path + testdate + '_fqtest_data.npy')\n",
    "predictions = np.load(test_outputs_path + testdate + '_fqtest_predictions.npy')\n",
    "targets = np.load(test_outputs_path + testdate + '_fqtest_target.npy')"
   ]
  },
  {
   "cell_type": "code",
   "execution_count": 12,
   "id": "ed9528db",
   "metadata": {},
   "outputs": [],
   "source": [
    "truepos_idxs = np.where(results[:,3] == 'true pos')[0]\n",
    "falsepos_idxs = np.where(results[:,3] == 'false pos')[0]\n",
    "trueneg_idxs = np.where(results[:,3] == 'true neg')[0]\n",
    "falseneg_idxs = np.where(results[:,3] == 'false neg')[0]"
   ]
  },
  {
   "cell_type": "code",
   "execution_count": 14,
   "id": "e3a2d287",
   "metadata": {},
   "outputs": [
    {
     "data": {
      "text/plain": [
       "(91738, 14)"
      ]
     },
     "execution_count": 14,
     "metadata": {},
     "output_type": "execute_result"
    }
   ],
   "source": [
    "results.shape"
   ]
  },
  {
   "cell_type": "code",
   "execution_count": 22,
   "id": "329ac6e2",
   "metadata": {},
   "outputs": [
    {
     "name": "stdout",
     "output_type": "stream",
     "text": [
      "Percent true positive: 13.5%\n",
      "Percent true negative: 47.8%\n",
      "Percent false positive: 2.2%\n",
      "Percent false negative: 36.5%\n"
     ]
    }
   ],
   "source": [
    "print('Percent true positive: ' + str(np.round(100*len(truepos_idxs)/len(results),1)) + '%')\n",
    "print('Percent true negative: ' + str(np.round(100*len(trueneg_idxs)/len(results),1)) + '%')\n",
    "print('Percent false positive: ' + str(np.round(100*len(falsepos_idxs)/len(results),1)) + '%')\n",
    "print('Percent false negative: ' + str(np.round(100*len(falseneg_idxs)/len(results),1)) + '%')"
   ]
  },
  {
   "cell_type": "code",
   "execution_count": 76,
   "id": "13f8b71c",
   "metadata": {},
   "outputs": [
    {
     "data": {
      "text/plain": [
       "(33471, 128, 3)"
      ]
     },
     "execution_count": 76,
     "metadata": {},
     "output_type": "execute_result"
    }
   ],
   "source": [
    "waveforms[falseneg_idxs].shape"
   ]
  },
  {
   "cell_type": "code",
   "execution_count": 64,
   "id": "74f3bb6d",
   "metadata": {
    "scrolled": true
   },
   "outputs": [
    {
     "name": "stdout",
     "output_type": "stream",
     "text": [
      "1\n",
      "2\n",
      "3\n",
      "4\n",
      "5\n",
      "6\n",
      "7\n",
      "8\n",
      "9\n",
      "10\n",
      "11\n",
      "12\n",
      "13\n",
      "14\n",
      "15\n",
      "16\n",
      "17\n",
      "18\n",
      "19\n",
      "20\n",
      "21\n",
      "22\n",
      "23\n",
      "24\n",
      "25\n",
      "26\n",
      "27\n",
      "28\n",
      "29\n",
      "30\n",
      "31\n",
      "32\n",
      "33\n",
      "34\n",
      "35\n",
      "36\n",
      "37\n",
      "38\n",
      "39\n",
      "40\n",
      "41\n",
      "42\n",
      "43\n",
      "44\n",
      "45\n",
      "46\n",
      "47\n",
      "48\n",
      "49\n",
      "50\n",
      "51\n",
      "52\n",
      "53\n",
      "54\n",
      "55\n",
      "56\n",
      "57\n",
      "58\n",
      "59\n",
      "60\n",
      "61\n",
      "62\n",
      "63\n",
      "64\n",
      "65\n",
      "66\n",
      "67\n",
      "68\n",
      "69\n",
      "70\n",
      "71\n",
      "72\n",
      "73\n",
      "74\n",
      "75\n",
      "76\n",
      "77\n",
      "78\n",
      "79\n",
      "80\n",
      "81\n",
      "82\n",
      "83\n",
      "84\n",
      "85\n",
      "86\n",
      "87\n",
      "88\n",
      "89\n",
      "90\n"
     ]
    }
   ],
   "source": [
    "count = 0\n",
    "\n",
    "for idx in falsepos_idxs:\n",
    "    \n",
    "    waveform = waveforms[idx]\n",
    "    pred = predictions[idx]\n",
    "    \n",
    "    if max(pred) >= 0.5:\n",
    "        \n",
    "#         print(idx)\n",
    "        count += 1\n",
    "        print(count)\n",
    "    \n",
    "        fig = plt.subplots(nrows = 3, ncols = 1, figsize = (6,8), dpi = 300, facecolor = 'white')\n",
    "\n",
    "        ax = plt.subplot(311)\n",
    "        ax.plot(waveform[:,0], color = 'C0', label = 'N')\n",
    "        ax.set_xlim(0,127)\n",
    "        ax.legend()\n",
    "        ax2 = ax.twinx()\n",
    "        ax2.plot(pred, color = 'black', linestyle = '--')\n",
    "        ax2.set_ylim(0,1)\n",
    "\n",
    "        ax = plt.subplot(312)\n",
    "        ax.plot(waveform[:,1], color = 'C1', label = 'E')\n",
    "        ax.set_ylabel('Displacement (m)', fontsize = 13)\n",
    "        ax.set_xlim(0,127)\n",
    "        ax.legend()\n",
    "        ax2 = ax.twinx()\n",
    "        ax2.plot(pred, color = 'black', linestyle = '--')\n",
    "        ax2.set_ylabel('Confidence', fontsize = 13)\n",
    "        ax2.set_ylim(0,1)\n",
    "\n",
    "        ax = plt.subplot(313)\n",
    "        ax.plot(waveform[:,2], color = 'C2', label = 'Z')\n",
    "        ax.set_xlabel('Time (s)', fontsize = 13)\n",
    "        ax.set_xlim(0,127)\n",
    "        ax.legend()\n",
    "        ax2 = ax.twinx()\n",
    "        ax2.plot(pred, color = 'black', linestyle = '--')\n",
    "        ax2.set_ylim(0,1)\n",
    "\n",
    "        plt.subplots_adjust(hspace = 0)\n",
    "\n",
    "#         plt.show();\n",
    "        plt.savefig(figure_save_dir + 'fqtest_falseposcheck_confover0.5_' + str(count) + '.png', format = 'PNG')\n",
    "        plt.close();"
   ]
  },
  {
   "cell_type": "code",
   "execution_count": null,
   "id": "7ebb0fda",
   "metadata": {},
   "outputs": [],
   "source": []
  },
  {
   "cell_type": "code",
   "execution_count": null,
   "id": "daf76c7f",
   "metadata": {},
   "outputs": [],
   "source": []
  },
  {
   "cell_type": "code",
   "execution_count": null,
   "id": "2184ba3d",
   "metadata": {},
   "outputs": [],
   "source": []
  }
 ],
 "metadata": {
  "kernelspec": {
   "display_name": "Python 3 (ipykernel)",
   "language": "python",
   "name": "python3"
  },
  "language_info": {
   "codemirror_mode": {
    "name": "ipython",
    "version": 3
   },
   "file_extension": ".py",
   "mimetype": "text/x-python",
   "name": "python",
   "nbconvert_exporter": "python",
   "pygments_lexer": "ipython3",
   "version": "3.8.8"
  }
 },
 "nbformat": 4,
 "nbformat_minor": 5
}
