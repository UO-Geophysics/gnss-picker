{
 "cells": [
  {
   "cell_type": "markdown",
   "id": "47688b33",
   "metadata": {},
   "source": [
    "## Imports and Path/Variable Definitions"
   ]
  },
  {
   "cell_type": "code",
   "execution_count": 1,
   "id": "153a368c",
   "metadata": {
    "tags": []
   },
   "outputs": [
    {
     "name": "stderr",
     "output_type": "stream",
     "text": [
      "2024-10-19 14:33:18.343002: W tensorflow/stream_executor/platform/default/dso_loader.cc:64] Could not load dynamic library 'libcudart.so.11.0'; dlerror: libcudart.so.11.0: cannot open shared object file: No such file or directory\n",
      "2024-10-19 14:33:18.343042: I tensorflow/stream_executor/cuda/cudart_stub.cc:29] Ignore above cudart dlerror if you do not have a GPU set up on your machine.\n"
     ]
    }
   ],
   "source": [
    "import matplotlib.pyplot as plt\n",
    "import tensorflow as tf\n",
    "import numpy as np\n",
    "import pandas as pd\n",
    "import h5py\n",
    "from scipy import signal\n",
    "import argparse\n",
    "import seaborn as sns\n",
    "from datetime import date\n",
    "import os\n",
    "import X_new_gnss_unet_datagen_fn22 # Module with CNN/data generator code\n",
    "\n",
    "sns.set_style('white')\n",
    "\n",
    "project_name = 'newfault' # Based on the name of the FakeQuakes project\n",
    "fq_dir = '/hdd/rc_fq/fall24/' # Where are the FakeQuakes stored? (The final .hdf5 file)\n",
    "noise_dir = '/home/sdybing/gnss-picker/data/noisedata/' # Where is the noise data stored?\n",
    "realdata_dir = '/home/sdybing/gnss-picker/data/realdata/summer23/' # Where is the real data stored?\n",
    "\n",
    "cnn_save_dir = '/home/sdybing/gnss-picker/cnn_models_outputs/' # Where do you want to save this code's outputs?\n",
    "project_save_dir = cnn_save_dir + project_name + '_fq_train/'\n",
    "base_figure_save_dir = project_save_dir + 'base_data_figures/' # Where to save the figures of just the data/generator tests\n",
    "models_path = project_save_dir + 'models/'\n",
    "if os.path.isdir(project_save_dir):\n",
    "    pass\n",
    "else:\n",
    "    os.makedirs(project_save_dir)\n",
    "    os.makedirs(base_figure_save_dir)\n",
    "    os.makedirs(models_path)\n",
    "    \n",
    "train = False # Do you want to train?\n",
    "drop = 1 # Drop?\n",
    "resume = 0 # Resume training\n",
    "large = 0.5 # Large unet\n",
    "fac = large\n",
    "epochs = 100 # How many epochs?\n",
    "std = 3 # How long do you want the Gaussian STD to be?\n",
    "sr = 1 # Sample rate (Hz)\n",
    "epsilon = 1e-6\n",
    "batch_size = 32\n",
    "load = True # Loading an old trained model?\n",
    "small_train = False # Train with a smaller amount of data to make sure code works?\n",
    "small_test = False # Test with a smaller amount of data to make sure code works?"
   ]
  },
  {
   "cell_type": "markdown",
   "id": "3cab514d",
   "metadata": {},
   "source": [
    "## Data Loading and Formatting\n",
    "\n",
    "### Load the Data"
   ]
  },
  {
   "cell_type": "code",
   "execution_count": 22,
   "id": "ddcd4d13",
   "metadata": {},
   "outputs": [
    {
     "name": "stdout",
     "output_type": "stream",
     "text": [
      "Loading real data...\n",
      "Loading real metadata...\n",
      "Real data shape: (3351, 384)\n",
      "Real metadata shape: (3351, 7)\n"
     ]
    }
   ],
   "source": [
    "# # FakeQuakes waveform data\n",
    "# print('Loading FakeQuakes...')\n",
    "# fq_data = h5py.File(fq_dir + 'newfault_gfast_test_alltestdata.hdf5', 'r')\n",
    "# fq_data = fq_data['data'][:,:]\n",
    "# # old_fq_data = h5py.File(fq_dir + 'july6_128samps_fq_wvfm_data_formatted.hdf5', 'r')\n",
    "# # old_fq_data = old_fq_data['data'][:,:]\n",
    "\n",
    "# # FakeQuakes metadata\n",
    "# print('Loading FakeQuakes metadata...')\n",
    "# fq_metadata = np.load(fq_dir + 'newfault_gfast_test_alltestdata_info.npy')\n",
    "\n",
    "# # Noise data\n",
    "# print('Loading noise...')\n",
    "# all_noise_data = h5py.File(noise_dir + 'summer23_128samps_all_noise_samples.hdf5', 'r')\n",
    "# all_noise_data = all_noise_data['all_noise_samples'][:,:]\n",
    "\n",
    "# Demeaned real waveform data\n",
    "print('Loading real data...')\n",
    "real_data = h5py.File(realdata_dir + 'gfast_test_realdata_rembad.hdf5', 'r')\n",
    "real_data = real_data['gfast_test_realdata_rembad'][:,:]\n",
    "# Subset with only earthquakes to test with\n",
    "rows_w_eqs = np.load('/home/sdybing/gnss-picker/data/realdata/summer23/gfast_test_real_metadata_rembad_rows_w_eqs.npy')\n",
    "real_data = real_data[rows_w_eqs]\n",
    "\n",
    "# Real metadata\n",
    "print('Loading real metadata...')\n",
    "real_metadata = np.load(realdata_dir + 'gfast_test_real_metadata_rembad_w_gauss_pos_mag.npy')\n",
    "real_metadata = real_metadata[rows_w_eqs]\n",
    "\n",
    "# # Trim noise data to match length of FakeQuakes data\n",
    "# noise_data = all_noise_data[:len(fq_data)]\n",
    "\n",
    "# # Array of NaNs to use to match added noise in concatenation later\n",
    "# nan_array = np.empty((len(fq_data), 3))\n",
    "# nan_array[:] = np.NaN\n",
    "\n",
    "# Real data\n",
    "\n",
    "# Check shapes\n",
    "# print('FakeQuakes shape: ' + str(fq_data.shape))\n",
    "# print('Noise data shape: ' + str(noise_data.shape))\n",
    "print('Real data shape: ' + str(real_data.shape))\n",
    "print('Real metadata shape: ' + str(real_metadata.shape))\n"
   ]
  },
  {
   "cell_type": "markdown",
   "id": "bc6b12f7",
   "metadata": {},
   "source": [
    "## Model Construction"
   ]
  },
  {
   "cell_type": "code",
   "execution_count": 23,
   "id": "3b91607b",
   "metadata": {
    "scrolled": true,
    "tags": []
   },
   "outputs": [
    {
     "name": "stdout",
     "output_type": "stream",
     "text": [
      "Model: \"model_2\"\n",
      "__________________________________________________________________________________________________\n",
      " Layer (type)                   Output Shape         Param #     Connected to                     \n",
      "==================================================================================================\n",
      " input_3 (InputLayer)           [(None, 128, 3)]     0           []                               \n",
      "                                                                                                  \n",
      " conv1d_14 (Conv1D)             (None, 128, 16)      1024        ['input_3[0][0]']                \n",
      "                                                                                                  \n",
      " max_pooling1d_6 (MaxPooling1D)  (None, 64, 16)      0           ['conv1d_14[0][0]']              \n",
      "                                                                                                  \n",
      " conv1d_15 (Conv1D)             (None, 64, 32)       7712        ['max_pooling1d_6[0][0]']        \n",
      "                                                                                                  \n",
      " max_pooling1d_7 (MaxPooling1D)  (None, 32, 32)      0           ['conv1d_15[0][0]']              \n",
      "                                                                                                  \n",
      " conv1d_16 (Conv1D)             (None, 32, 64)       22592       ['max_pooling1d_7[0][0]']        \n",
      "                                                                                                  \n",
      " max_pooling1d_8 (MaxPooling1D)  (None, 16, 64)      0           ['conv1d_16[0][0]']              \n",
      "                                                                                                  \n",
      " flatten_4 (Flatten)            (None, 1024)         0           ['max_pooling1d_8[0][0]']        \n",
      "                                                                                                  \n",
      " dense_2 (Dense)                (None, 16)           16400       ['flatten_4[0][0]']              \n",
      "                                                                                                  \n",
      " reshape_2 (Reshape)            (None, 16, 1)        0           ['dense_2[0][0]']                \n",
      "                                                                                                  \n",
      " conv1d_17 (Conv1D)             (None, 16, 64)       768         ['reshape_2[0][0]']              \n",
      "                                                                                                  \n",
      " up_sampling1d_6 (UpSampling1D)  (None, 32, 64)      0           ['conv1d_17[0][0]']              \n",
      "                                                                                                  \n",
      " concatenate_6 (Concatenate)    (None, 32, 128)      0           ['up_sampling1d_6[0][0]',        \n",
      "                                                                  'conv1d_16[0][0]']              \n",
      "                                                                                                  \n",
      " conv1d_18 (Conv1D)             (None, 32, 32)       61472       ['concatenate_6[0][0]']          \n",
      "                                                                                                  \n",
      " up_sampling1d_7 (UpSampling1D)  (None, 64, 32)      0           ['conv1d_18[0][0]']              \n",
      "                                                                                                  \n",
      " concatenate_7 (Concatenate)    (None, 64, 64)       0           ['up_sampling1d_7[0][0]',        \n",
      "                                                                  'conv1d_15[0][0]']              \n",
      "                                                                                                  \n",
      " conv1d_19 (Conv1D)             (None, 64, 16)       21520       ['concatenate_7[0][0]']          \n",
      "                                                                                                  \n",
      " up_sampling1d_8 (UpSampling1D)  (None, 128, 16)     0           ['conv1d_19[0][0]']              \n",
      "                                                                                                  \n",
      " concatenate_8 (Concatenate)    (None, 128, 32)      0           ['up_sampling1d_8[0][0]',        \n",
      "                                                                  'conv1d_14[0][0]']              \n",
      "                                                                                                  \n",
      " conv1d_20 (Conv1D)             (None, 128, 1)       673         ['concatenate_8[0][0]']          \n",
      "                                                                                                  \n",
      " flatten_5 (Flatten)            (None, 128)          0           ['conv1d_20[0][0]']              \n",
      "                                                                                                  \n",
      "==================================================================================================\n",
      "Total params: 132,161\n",
      "Trainable params: 132,161\n",
      "Non-trainable params: 0\n",
      "__________________________________________________________________________________________________\n",
      "Using model with dropout\n"
     ]
    }
   ],
   "source": [
    "if drop: # Use a model with a dropout layer\n",
    "    model = X_new_gnss_unet_datagen_fn22.make_large_unet_drop(fac, sr, ncomps = 3)\n",
    "    print('Using model with dropout')\n",
    "else:\n",
    "    model = X_new_gnss_unet_datagen_fn22.make_large_unet(fac, sr, ncomps = 3)  \n",
    "    print('Using large model')\n",
    "    "
   ]
  },
  {
   "cell_type": "markdown",
   "id": "7d756c8d",
   "metadata": {},
   "source": [
    "## Load an old trained model?"
   ]
  },
  {
   "cell_type": "code",
   "execution_count": 24,
   "id": "bc2358f2",
   "metadata": {},
   "outputs": [
    {
     "name": "stdout",
     "output_type": "stream",
     "text": [
      "Loading training results from /home/sdybing/gnss-picker/cnn_models_outputs/newfault_fq_train/models/traindate_2024-10-01/bestmodel_traindate_2024-10-01.h5\n"
     ]
    }
   ],
   "source": [
    "if load:\n",
    "    loaddate = '2024-10-01' # Format: YYYY-MM-DD\n",
    "    model_load_file = project_save_dir + 'models/traindate_' + str(loaddate) + '/bestmodel_traindate_' + str(loaddate) + '.h5'\n",
    "    data_save_dir = models_path + 'traindate_' + str(loaddate) + '/data/' # Where to save the outputted testing data and predictions\n",
    "    figure_save_dir = models_path + 'traindate_' + str(loaddate) + '/figures/'\n",
    "    print('Loading training results from ' + model_load_file)\n",
    "    \n",
    "    model.load_weights(model_load_file)"
   ]
  },
  {
   "cell_type": "markdown",
   "id": "9377cad2-0858-4f74-a4a2-468e5da570a7",
   "metadata": {},
   "source": [
    "## Test with real data"
   ]
  },
  {
   "cell_type": "code",
   "execution_count": 25,
   "id": "a9a89b6c-a8d4-49d5-b1a1-5fd9bd3a2d6b",
   "metadata": {},
   "outputs": [
    {
     "data": {
      "text/plain": [
       "array(['38624424', 'ACSB', '20190605', '2019-06-05T14:32:10.000000Z',\n",
       "       '2019-06-05T14:34:17.000000Z', '18', '4.30'], dtype='<U27')"
      ]
     },
     "execution_count": 25,
     "metadata": {},
     "output_type": "execute_result"
    }
   ],
   "source": [
    "real_metadata[0]"
   ]
  },
  {
   "cell_type": "code",
   "execution_count": 26,
   "id": "bd4f2849-833e-4f2d-9e30-186f7b06d553",
   "metadata": {},
   "outputs": [],
   "source": [
    "# real_metadata columns:\n",
    "\n",
    "# 0. event ID\n",
    "# 1: station name\n",
    "# 2: date sample came from\n",
    "# 3: sample start time\n",
    "# 4: sample end time\n",
    "# 5: sample P-wave arrives at (gauss pos)\n",
    "# 6: earthquake magnitude"
   ]
  },
  {
   "cell_type": "code",
   "execution_count": 27,
   "id": "574d8935-0653-4e83-9edb-ea43c5ed7e70",
   "metadata": {},
   "outputs": [
    {
     "name": "stdout",
     "output_type": "stream",
     "text": [
      "Predicting...\n",
      "Real test original data shape: (3351, 128, 3)\n",
      "Real test normalize data shape: (3351, 128, 3)\n",
      "Real test metadata shape: (3351, 7)\n",
      "Real test target shape: (3351, 128)\n",
      "Real test predictions shape: (3351, 128)\n"
     ]
    }
   ],
   "source": [
    "realtestdate = date.today()\n",
    "\n",
    "if small_test:\n",
    "    realtest_data = real_data[:100]\n",
    "    realtest_metadata = real_metadata[:100]\n",
    "    num_realtest = len(realtest_data)\n",
    "    realtestmodel = X_new_gnss_unet_datagen_fn22.real_data_generator(batch_size = num_realtest, data = realtest_data, meta_data = realtest_metadata, sr = 1, std = 3, nlen = 128)\n",
    "    realtest_orig_data, realtest_norm_data, realtest_target = next(realtestmodel)\n",
    "    \n",
    "else:\n",
    "    num_realtest = len(real_data) # Number of samples to test with\n",
    "    realtestmodel = X_new_gnss_unet_datagen_fn22.real_data_generator(batch_size = num_realtest, data = real_data, meta_data = real_metadata, sr = 1, std = 3, nlen = 128)\n",
    "    realtest_orig_data, realtest_norm_data, realtest_target = next(realtestmodel)\n",
    "    realtest_metadata = real_metadata\n",
    "\n",
    "print('Predicting...')\n",
    "realtest_predictions = model.predict(realtest_norm_data)\n",
    "\n",
    "print('Real test original data shape: ' + str(realtest_orig_data.shape))\n",
    "print('Real test normalize data shape: ' + str(realtest_norm_data.shape))\n",
    "print('Real test metadata shape: ' + str(realtest_metadata.shape))\n",
    "print('Real test target shape: ' + str(realtest_target.shape))\n",
    "print('Real test predictions shape: ' + str(realtest_predictions.shape))"
   ]
  },
  {
   "cell_type": "code",
   "execution_count": 28,
   "id": "30ff5906-433f-42a5-b060-109a8daa47c5",
   "metadata": {},
   "outputs": [],
   "source": [
    "np.save(data_save_dir + str(realtestdate) + 'gfast_realtest_orig_data.npy', realtest_orig_data)\n",
    "np.save(data_save_dir + str(realtestdate) + 'gfast_realtest_norm_data.npy', realtest_norm_data)\n",
    "np.save(data_save_dir + str(realtestdate) + 'gfast_realtest_metadata.npy', realtest_metadata)\n",
    "np.save(data_save_dir + str(realtestdate) + 'gfast_realtest_target.npy', realtest_target)\n",
    "np.save(data_save_dir + str(realtestdate) + 'gfast_realtest_predictions.npy', realtest_predictions)"
   ]
  },
  {
   "cell_type": "code",
   "execution_count": 29,
   "id": "2a60f935-b314-4577-9f0c-b0c32b37e5fb",
   "metadata": {},
   "outputs": [
    {
     "data": {
      "text/plain": [
       "0.5209892498237754"
      ]
     },
     "execution_count": 29,
     "metadata": {},
     "output_type": "execute_result"
    }
   ],
   "source": [
    "realtest_pgd = np.zeros(realtest_orig_data.shape[0])\n",
    "for idx in range(realtest_orig_data.shape[0]):\n",
    "    realtest_pgd[idx] = np.max(np.sqrt((realtest_orig_data[idx,:,0])**2 + (realtest_orig_data[idx,:,1])**2 + (realtest_orig_data[idx,:,2])**2))\n",
    "\n",
    "max(realtest_pgd)"
   ]
  },
  {
   "cell_type": "code",
   "execution_count": 30,
   "id": "f72297ba-d138-4798-8d6e-56523ee8998d",
   "metadata": {},
   "outputs": [
    {
     "data": {
      "image/png": "[encoded data removed]",
      "text/plain": [
       "<Figure size 2400x1500 with 1 Axes>"
      ]
     },
     "metadata": {},
     "output_type": "display_data"
    }
   ],
   "source": [
    "plt.figure(figsize = (8,5), dpi = 300)\n",
    "plt.hist(np.log10(realtest_pgd), bins = 30, alpha = 0.5, edgecolor = 'black')\n",
    "plt.xlabel('Log PGD (m)')\n",
    "plt.ylabel('Count')\n",
    "# plt.ylim(0,1000)\n",
    "\n",
    "plt.show();\n",
    "# plt.savefig(figure_save_dir + '15_realtestdata_pgd_distrib.png', format = 'PNG')\n",
    "# plt.close();"
   ]
  },
  {
   "cell_type": "code",
   "execution_count": 32,
   "id": "5d07747a-3f34-442f-962f-c366d009b14a",
   "metadata": {},
   "outputs": [],
   "source": [
    "# rows_w_eqs = np.load(realdata_dir + 'gfast_test_real_metadata_rembad_rows_w_eqs.npy')\n",
    "# print(rows_w_eqs)\n",
    "\n",
    "# print(realtest_metadata[rows_w_eqs][:,6])"
   ]
  },
  {
   "cell_type": "code",
   "execution_count": 33,
   "id": "883635f6-dd81-4ed5-8d9a-71de5e13fe41",
   "metadata": {
    "scrolled": true,
    "tags": []
   },
   "outputs": [],
   "source": [
    "# nexamples = 5 # Number of examples to look at \n",
    "  \n",
    "# # for ind in range(nexamples):\n",
    "# # for ind in rows_w_eqs[:5]:\n",
    "\n",
    "# for ind in rows_w_eqs: # To save all earthquake examples\n",
    "# #     print(ind)\n",
    "    \n",
    "# #     if max(realtest_predictions[ind,:]) > 0.7:\n",
    "#     if max(realtest_predictions[ind,:]) > 0.1:\n",
    "        \n",
    "#         print(ind)\n",
    "#         n_data = realtest_orig_data[ind,:,0]\n",
    "#         e_data = realtest_orig_data[ind,:,1]\n",
    "#         z_data = realtest_orig_data[ind,:,2]\n",
    "#         pgd = np.max(np.sqrt((n_data)**2+(e_data)**2+(z_data)**2))\n",
    "    \n",
    "#         fig = plt.subplots(nrows = 1, ncols = 3, figsize = (18,4), dpi = 100)\n",
    "#         plt.subplots_adjust(wspace = 0.4)\n",
    "#         t = 1/sr * np.arange(realtest_orig_data.shape[1])\n",
    "#         # print(t)\n",
    "\n",
    "#         ax1 = plt.subplot(131)\n",
    "#         ax1.plot(t, realtest_orig_data[ind,:,0], label = 'N test data', color = 'C0')\n",
    "#         ax1.set_ylabel('Displacement (m)')\n",
    "#         ax1.set_xlabel('Time (s)')\n",
    "#         ax1.legend(loc = 'upper right')\n",
    "#         ax2 = ax1.twinx()\n",
    "#         ax2.plot(t, realtest_target[ind,:], color = 'black', linestyle = '--', label = 'Target')\n",
    "#         ax2.plot(t, realtest_predictions[ind,:], color = 'red', linestyle = '--', label = 'Prediction')\n",
    "#         ax2.set_ylabel('Confidence')\n",
    "#         ax2.set_ylim(-0.05,1.05)\n",
    "#         ax2.legend(loc = 'upper left')\n",
    "\n",
    "#         ax3 = plt.subplot(132)\n",
    "#         ax3.set_title('Row with earthquake ' + str(ind) + ': station ' + str(realtest_metadata[ind,0]) + ', magnitude ' + str(realtest_metadata[ind,5]) + ', PGD ' + str(np.round(pgd,3)) + ' m', fontsize = 16)\n",
    "#         ax3.plot(t, realtest_orig_data[ind,:,1], label = 'E test data', color = 'C1')\n",
    "#         ax3.set_ylabel('Displacement (m)')\n",
    "#         ax3.legend(loc = 'upper right')\n",
    "#         ax4 = ax3.twinx()\n",
    "#         ax4.plot(t, realtest_target[ind,:], color = 'black', linestyle = '--', label = 'Target')\n",
    "#         ax4.plot(t, realtest_predictions[ind,:], color = 'red', linestyle = '--', label = 'Prediction')\n",
    "#         ax4.set_ylim(-0.05,1.05)\n",
    "#         ax4.legend(loc = 'upper left')\n",
    "\n",
    "#         ax5 = plt.subplot(133)\n",
    "#         ax5.plot(t, realtest_orig_data[ind,:,2], label = 'Z test data', color = 'C2')\n",
    "#         ax5.set_ylabel('Displacement (m)')\n",
    "#         ax5.legend(loc = 'upper right')\n",
    "#         ax6 = ax5.twinx()\n",
    "#         ax6.plot(t, realtest_target[ind,:], color = 'black', linestyle = '--', label = 'Target')\n",
    "#         ax6.plot(t, realtest_predictions[ind,:], color = 'red', linestyle = '--', label = 'Prediction')\n",
    "#         ax6.set_ylim(-0.05,1.05)\n",
    "#         ax6.legend(loc = 'upper left')\n",
    "\n",
    "#         plt.show()\n",
    "#     #     plt.savefig(figure_save_dir + '16_realtestdata_ex' + str(ind) + '_plot_predictions.png', format = 'PNG')\n",
    "# #         plt.savefig(figure_save_dir + 'realtestdata_alltrueeq_wfvplots/conf_over_70/row_' + str(ind) + '_plot_predictions.png', format = 'PNG')\n",
    "\n",
    "# #         plt.savefig(figure_save_dir + 'realtestdata_alltrueeq_wfvplots/conf_over_10/row_' + str(ind) + '_plot_predictions.png', format = 'PNG')\n",
    "# #         plt.close()"
   ]
  },
  {
   "cell_type": "code",
   "execution_count": 35,
   "id": "7a0e7f1b-569f-4b45-8396-b7f540a507a2",
   "metadata": {},
   "outputs": [],
   "source": [
    "# # Checking confidence distribution of predictions on the earthquake samples\n",
    "\n",
    "# peaks = []\n",
    "# peaks_above_01 = []\n",
    "\n",
    "# for ind in rows_w_eqs:\n",
    "#     peak = max(realtest_predictions[ind,:])\n",
    "#     peaks.append(peak)\n",
    "#     if peak >= 0.1:\n",
    "#         peaks_above_01.append(peak)\n",
    "    \n",
    "# print(len(peaks))\n",
    "# print(len(peaks_above_01))\n",
    "\n",
    "# plt.hist(peaks, bins = 50)\n",
    "# plt.show()\n",
    "\n",
    "# plt.hist(peaks_above_01, bins = 50)\n",
    "# plt.show();"
   ]
  },
  {
   "cell_type": "code",
   "execution_count": null,
   "id": "1f9df13e-acc2-4aa8-88ab-73387bbf6722",
   "metadata": {},
   "outputs": [],
   "source": []
  }
 ],
 "metadata": {
  "kernelspec": {
   "display_name": "Python 3 (ipykernel)",
   "language": "python",
   "name": "python3"
  },
  "language_info": {
   "codemirror_mode": {
    "name": "ipython",
    "version": 3
   },
   "file_extension": ".py",
   "mimetype": "text/x-python",
   "name": "python",
   "nbconvert_exporter": "python",
   "pygments_lexer": "ipython3",
   "version": "3.8.8"
  }
 },
 "nbformat": 4,
 "nbformat_minor": 5
}
