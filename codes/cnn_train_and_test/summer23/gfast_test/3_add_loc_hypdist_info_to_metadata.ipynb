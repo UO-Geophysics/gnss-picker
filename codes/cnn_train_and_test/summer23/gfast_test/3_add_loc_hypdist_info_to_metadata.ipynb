{
 "cells": [
  {
   "cell_type": "code",
   "execution_count": 1,
   "id": "aa972930",
   "metadata": {},
   "outputs": [],
   "source": [
    "import numpy as np\n",
    "import matplotlib.pyplot as plt\n",
    "from glob import glob\n",
    "from obspy.geodetics import gps2dist_azimuth\n",
    "\n",
    "path = '/home/sdybing/gnss-picker/cnn_models_outputs/newfault_fq_train/models/traindate_2024-10-01/data/'\n",
    "\n",
    "# data = np.load(path + '2024-10-15_gfast_fqtest_orig_data.npy')\n",
    "# metadata = np.load(path + '2024-10-15_gfast_fqtest_metadata.npy')\n",
    "\n",
    "data = np.load(path + '2024-10-17_gfast_alltestdata_fqtest_orig_data.npy')\n",
    "metadata = np.load(path + '2024-10-17_gfast_alltestdata_fqtest_metadata.npy')\n",
    "\n",
    "# Columns:\n",
    "\n",
    "# 0: FQ rupture name\n",
    "# 1: station name\n",
    "# 2: magnitude\n",
    "# 3: P-wave arr index"
   ]
  },
  {
   "cell_type": "code",
   "execution_count": 2,
   "id": "57fff6c1",
   "metadata": {},
   "outputs": [],
   "source": [
    "eq_lats = []\n",
    "eq_lons = []\n",
    "eq_depths = []\n",
    "sta_lats = []\n",
    "sta_lons = []\n",
    "dist_ms = []\n",
    "\n",
    "for i in range(len(metadata)):\n",
    "        \n",
    "    # Getting rupture name and calculating hypocentral distance\n",
    "\n",
    "    rupture = metadata[i,0]\n",
    "#     print(rupture)\n",
    "\n",
    "    log = glob('/hdd/rc_fq/fall24/newfault/output/ruptures/' + rupture + '.log') # for Valdivia\n",
    "#         print(log)\n",
    "\n",
    "    f = open(log[0],'r')\n",
    "    line = f.readlines()\n",
    "\n",
    "    # Getting hypocenter location\n",
    "    hyp_loc_junk = line[16]\n",
    "#         print(hyp_loc_junk)\n",
    "    eq_lon = float(hyp_loc_junk.split(' ')[2].split('(')[1].split(')')[0].split(',')[0])\n",
    "    eq_lat = float(hyp_loc_junk.split(' ')[2].split('(')[1].split(')')[0].split(',')[1])\n",
    "    eq_depth = float(hyp_loc_junk.split(' ')[2].split('(')[1].split(')')[0].split(',')[2])\n",
    "    eq_depth_m = eq_depth * 1000\n",
    "\n",
    "    station = metadata[i,1]\n",
    "\n",
    "    station_info = np.genfromtxt('/hdd/rc_fq/fall24/newfault/data/station_info/rc_gflist.gflist', dtype = 'U')\n",
    "#         print(station)\n",
    "\n",
    "    k = np.where(station_info[:,0] == station)[0]\n",
    "#         print(station_info[k][0])\n",
    "\n",
    "    # Getting station location\n",
    "\n",
    "    sta_lon = float(station_info[k][0][1])\n",
    "    sta_lat = float(station_info[k][0][2])\n",
    "#         print(sta_lon)\n",
    "#         print(sta_lat)\n",
    "\n",
    "    # Calculating hypocentral distance\n",
    "\n",
    "    distaz = gps2dist_azimuth(eq_lat, eq_lon, sta_lat, sta_lon)\n",
    "    dist_m = distaz[0]\n",
    "#         print(dist_m)\n",
    "\n",
    "    eq_lats.append(eq_lat)\n",
    "    eq_lons.append(eq_lon)\n",
    "    eq_depths.append(eq_depth)\n",
    "    sta_lats.append(sta_lat)\n",
    "    sta_lons.append(sta_lon)\n",
    "    dist_ms.append(dist_m)\n"
   ]
  },
  {
   "cell_type": "code",
   "execution_count": 3,
   "id": "634ef28b",
   "metadata": {},
   "outputs": [],
   "source": [
    "# Add to the results metadata array\n",
    "\n",
    "eqlats_vector = np.array(eq_lats).reshape(len(eq_lats),1) \n",
    "eqlons_vector = np.array(eq_lons).reshape(len(eq_lons),1) \n",
    "eqdepths_vector = np.array(eq_depths).reshape(len(eq_depths),1) \n",
    "stalats_vector = np.array(sta_lats).reshape(len(sta_lats),1) \n",
    "stalons_vector = np.array(sta_lons).reshape(len(sta_lons),1) \n",
    "distms_vector = np.array(dist_ms).reshape(len(dist_ms),1) \n",
    "\n",
    "a = np.append(metadata, eqlats_vector, axis = 1) \n",
    "b = np.append(a, eqlons_vector, axis = 1)\n",
    "c = np.append(b, eqdepths_vector, axis = 1)\n",
    "d = np.append(c, stalats_vector, axis = 1)\n",
    "e = np.append(d, stalons_vector, axis = 1)\n",
    "new_meta_array = np.append(e, distms_vector, axis = 1)\n",
    "\n",
    "# New metadata array columns:\n",
    "\n",
    "# 0: FQ rupture name\n",
    "# 1: station name\n",
    "# 2: magnitude\n",
    "# 3: P-arrival index\n",
    "# 4: FQ rupture hypocenter lat\n",
    "# 5: FQ rupture hypocenter lon\n",
    "# 6: FQ rupture hypocenter depth (km)\n",
    "# 7: station lat\n",
    "# 8: station lon\n",
    "# 9: hypocentral distance (m)\n",
    "\n",
    "np.save(path + 'alltestdata_pgd_test_metadata_with_hypdists.npy', new_meta_array)"
   ]
  },
  {
   "cell_type": "code",
   "execution_count": 4,
   "id": "87d31058",
   "metadata": {},
   "outputs": [
    {
     "data": {
      "text/plain": [
       "(45870, 10)"
      ]
     },
     "execution_count": 4,
     "metadata": {},
     "output_type": "execute_result"
    }
   ],
   "source": [
    "new_meta_array.shape"
   ]
  },
  {
   "cell_type": "code",
   "execution_count": 5,
   "id": "187eb681",
   "metadata": {},
   "outputs": [
    {
     "data": {
      "text/plain": [
       "array(['newfault.003223', 'SONG', '4.2716', '38', '35.830505',\n",
       "       '-117.636393', '20.76', '33.38075', '-117.56027',\n",
       "       '271849.3832186063'], dtype='<U32')"
      ]
     },
     "execution_count": 5,
     "metadata": {},
     "output_type": "execute_result"
    }
   ],
   "source": [
    "new_meta_array[0]"
   ]
  },
  {
   "cell_type": "code",
   "execution_count": null,
   "id": "019b026d-1747-44d7-a657-7476506df34b",
   "metadata": {},
   "outputs": [],
   "source": []
  }
 ],
 "metadata": {
  "kernelspec": {
   "display_name": "Python 3 (ipykernel)",
   "language": "python",
   "name": "python3"
  },
  "language_info": {
   "codemirror_mode": {
    "name": "ipython",
    "version": 3
   },
   "file_extension": ".py",
   "mimetype": "text/x-python",
   "name": "python",
   "nbconvert_exporter": "python",
   "pygments_lexer": "ipython3",
   "version": "3.8.8"
  }
 },
 "nbformat": 4,
 "nbformat_minor": 5
}
