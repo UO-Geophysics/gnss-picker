{
 "cells": [
  {
   "cell_type": "code",
   "execution_count": 4,
   "id": "12952107",
   "metadata": {},
   "outputs": [],
   "source": [
    "import numpy as np\n",
    "import matplotlib.pyplot as plt\n",
    "from glob import glob\n",
    "from obspy.geodetics import gps2dist_azimuth\n",
    "\n",
    "path = '/home/sdybing/gnss-picker/cnn_models_outputs/newfault_fq_train/models/traindate_2024-10-01/data/'\n",
    "\n",
    "data = np.load(path + '2024-10-17_gfast_alltestdata_fqtest_orig_data.npy')\n",
    "metadata = np.load(path + 'pgd_alltestdata_test_metadata_w_hypdist_pgd_snrs.npy')\n",
    "targets = np.load(path + '2024-10-17_gfast_alltestdata_fqtest_target.npy')\n",
    "predictions = np.load(path + '2024-10-17_gfast_alltestdata_fqtest_predictions.npy')"
   ]
  },
  {
   "cell_type": "code",
   "execution_count": 5,
   "id": "8cebf2da-c41b-408b-920d-01bdcfa0126c",
   "metadata": {},
   "outputs": [],
   "source": [
    "num_fqtest = len(predictions)\n",
    "best_thresh = 0.135 # Best accuracy threshold from FQ testing data\n",
    "# best_thresh = 0.835 # Best precision threshold from FQ testing data\n",
    "\n",
    "zeros = np.zeros((predictions.shape[0],1))\n",
    "analysis_array = np.c_[metadata, zeros] # Adds a column of zeros to the metadata array to initialize"
   ]
  },
  {
   "cell_type": "code",
   "execution_count": 6,
   "id": "96398ba8-186a-4df9-81e3-66c75467fd3c",
   "metadata": {},
   "outputs": [
    {
     "data": {
      "text/plain": [
       "(45870, 16)"
      ]
     },
     "execution_count": 6,
     "metadata": {},
     "output_type": "execute_result"
    }
   ],
   "source": [
    "analysis_array.shape"
   ]
  },
  {
   "cell_type": "code",
   "execution_count": 7,
   "id": "ce591d8b",
   "metadata": {},
   "outputs": [],
   "source": [
    "for i in range(len(metadata)):\n",
    "        \n",
    "    rupt_num = metadata[i][0]\n",
    "    station = metadata[i][1]\n",
    "    mag = metadata[i][2]\n",
    "\n",
    "    p = np.where(predictions[i] >= best_thresh)[0]\n",
    "    if len(p) == 0:\n",
    "        pred_binary = 0\n",
    "    elif len(p) > 0:\n",
    "        pred_binary = 1\n",
    "\n",
    "    t = np.where(targets[i] > 0)[0]\n",
    "    if len(t) == 0:\n",
    "        targ_binary = 0\n",
    "    elif len(t) > 0:\n",
    "        targ_binary = 1\n",
    "\n",
    "    pred = pred_binary\n",
    "    targ = targ_binary\n",
    "\n",
    "    if pred == targ:\n",
    "        if pred == 1 and targ == 1:\n",
    "            result = 'true pos'\n",
    "        elif pred == 0 and targ == 0:\n",
    "            result = 'true neg'\n",
    "\n",
    "    elif pred != targ:            \n",
    "        if pred == 1 and targ == 0:\n",
    "            result = 'false pos'\n",
    "        elif pred == 0 and targ == 1:\n",
    "            result = 'false neg'\n",
    "\n",
    "    analysis_array[i][15] = result"
   ]
  },
  {
   "cell_type": "code",
   "execution_count": 8,
   "id": "f10e8e5a",
   "metadata": {},
   "outputs": [
    {
     "name": "stdout",
     "output_type": "stream",
     "text": [
      "[['newfault.003223' 'SONG' '4.2716' ... '1.7394604895752184'\n",
      "  '1.0632205114000461' 'false neg']\n",
      " ['newfault.000373' 'AR53' '7.2549' ... '0.7553240056357359'\n",
      "  '1.0432558540947487' 'true pos']\n",
      " ['newfault.000633' 'P636' '6.7490' ... '1.230215388731823'\n",
      "  '1.4378265284703984' 'false neg']\n",
      " ...\n",
      " ['newfault.002261' 'CASE' '5.1814' ... '2.2151128001856915'\n",
      "  '1.3099476204872782' 'false neg']\n",
      " ['newfault.001662' 'P611' '5.8157' ... '0.5544667249595119'\n",
      "  '0.7971643461747854' 'false neg']\n",
      " ['newfault.002862' 'P581' '4.8519' ... '1.3302148769309143'\n",
      "  '0.867920182671122' 'false neg']]\n",
      "(45870, 16)\n"
     ]
    }
   ],
   "source": [
    "print(analysis_array)\n",
    "print(analysis_array.shape)\n",
    "            \n",
    "np.save(path + 'pgd_alltestdata_test_metadata_w_hypdist_pgd_snrs_result0135.npy', analysis_array)  "
   ]
  },
  {
   "cell_type": "code",
   "execution_count": null,
   "id": "7e8f9185",
   "metadata": {},
   "outputs": [],
   "source": []
  },
  {
   "cell_type": "code",
   "execution_count": null,
   "id": "9afe5916-ff7e-4c26-83cd-c89fb055325f",
   "metadata": {},
   "outputs": [],
   "source": []
  }
 ],
 "metadata": {
  "kernelspec": {
   "display_name": "Python 3 (ipykernel)",
   "language": "python",
   "name": "python3"
  },
  "language_info": {
   "codemirror_mode": {
    "name": "ipython",
    "version": 3
   },
   "file_extension": ".py",
   "mimetype": "text/x-python",
   "name": "python",
   "nbconvert_exporter": "python",
   "pygments_lexer": "ipython3",
   "version": "3.8.8"
  }
 },
 "nbformat": 4,
 "nbformat_minor": 5
}
