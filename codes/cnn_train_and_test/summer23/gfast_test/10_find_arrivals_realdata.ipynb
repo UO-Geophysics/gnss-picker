{
 "cells": [
  {
   "cell_type": "code",
   "execution_count": 2,
   "metadata": {},
   "outputs": [],
   "source": [
    "import h5py\n",
    "import numpy as np\n",
    "from obspy.core import UTCDateTime\n",
    "\n",
    "# MORE FILES (like the plots) CAN BE FOUND ON LAPTOP @ /gnss-picker/data/realdata/summer23/\n",
    "\n",
    "realdata_dir = '/home/sdybing/gnss-picker/data/realdata/summer23/'\n",
    "\n",
    "real_data = h5py.File(realdata_dir + 'demean_realdata_rembad.hdf5', 'r')\n",
    "real_data = real_data['demean_realdata_rembad'][:,:]\n",
    "real_metadata = np.load(realdata_dir + 'real_metadata_rembad.npy')\n",
    "# Need to associate each row in this with a 1 or a 0 if\n",
    "# an earthquake is supposed to be found there\n",
    "\n",
    "# real_metadata columns:\n",
    "# 0: station name\n",
    "# 1: date sample came from\n",
    "# 2: sample start time\n",
    "# 3: sample end time\n",
    "# 4: random n counter\n",
    "\n",
    "event_catalog = np.genfromtxt(realdata_dir + 'minM4.3_event_catalog.txt', dtype = 'U')\n",
    "# print(event_catalog)\n",
    "\n",
    "arrivaltimes = np.load(realdata_dir + 'minM4.3_gnss_arrival_times.npy')\n",
    "\n",
    "# arrivaltimes columns:\n",
    "# 0: event ID\n",
    "# 1: magnitude\n",
    "# 2: station name\n",
    "# 3: arrival time in sample"
   ]
  },
  {
   "cell_type": "code",
   "execution_count": 3,
   "metadata": {},
   "outputs": [],
   "source": [
    "k = np.where(real_metadata[:,0] == 'CCCC')[0]"
   ]
  },
  {
   "cell_type": "code",
   "execution_count": 4,
   "metadata": {},
   "outputs": [],
   "source": [
    "# test_metadata = real_metadata[26650:28400,:] # BEPK 7/04 17 hrs to 7/07 6 hrs\n",
    "test_metadata = real_metadata[k[0] + 473:k[-1] - 3216,:]"
   ]
  },
  {
   "cell_type": "code",
   "execution_count": 23,
   "metadata": {},
   "outputs": [
    {
     "name": "stdout",
     "output_type": "stream",
     "text": [
      "[['37430445' '7.10' 'ACSB' 'nan']\n",
      " ['37430445' '7.10' 'ACSX' 'nan']\n",
      " ['37430445' '7.10' 'ANA1' 'nan']\n",
      " ..., \n",
      " ['38457511' '7.10' 'WGPP' 'nan']\n",
      " ['38457511' '7.10' 'WKPK' 'nan']\n",
      " ['38457511' '7.10' 'WOMT' 'nan']]\n"
     ]
    }
   ],
   "source": [
    "i = np.where(arrivaltimes[:,1].astype(float) == 7.1)[0]\n",
    "# print(i)\n",
    "print(arrivaltimes[i])"
   ]
  },
  {
   "cell_type": "code",
   "execution_count": 6,
   "metadata": {},
   "outputs": [
    {
     "name": "stdout",
     "output_type": "stream",
     "text": [
      "(5168, 384)\n",
      "['ACSB' '20190605' '2019-06-05T14:32:10.000000Z'\n",
      " '2019-06-05T14:34:17.000000Z']\n",
      "(5168, 4)\n",
      "(1509, 4)\n",
      "['39281127' '4.50' 'BEPK' '2020-07-06T06:13:37.686480Z']\n",
      "(100636, 4)\n"
     ]
    }
   ],
   "source": [
    "print(real_data.shape)\n",
    "print(real_metadata[0])\n",
    "print(real_metadata.shape)\n",
    "print(test_metadata.shape)\n",
    "print(arrivaltimes[6403])\n",
    "print(arrivaltimes.shape)"
   ]
  },
  {
   "cell_type": "code",
   "execution_count": 10,
   "metadata": {},
   "outputs": [
    {
     "data": {
      "text/plain": [
       "array(['20190605', '20190704', '20190705', ..., '20200624', '20200630',\n",
       "       '20200706'],\n",
       "      dtype='<U27')"
      ]
     },
     "execution_count": 10,
     "metadata": {},
     "output_type": "execute_result"
    }
   ],
   "source": [
    "real_metadata[:,1]"
   ]
  },
  {
   "cell_type": "code",
   "execution_count": 7,
   "metadata": {
    "scrolled": true
   },
   "outputs": [
    {
     "name": "stdout",
     "output_type": "stream",
     "text": [
      "P-wave in this sample (metadata row 77) at index 27, station BBRY/BBRY, magnitude + 6.40\n",
      "P-wave in this sample (metadata row 180) at index 22, station BKAP/BKAP, magnitude + 6.40\n",
      "P-wave in this sample (metadata row 194) at index 32, station BKMS/BKMS, magnitude + 6.40\n",
      "P-wave in this sample (metadata row 222) at index 31, station BMHL/BMHL, magnitude + 6.40\n",
      "P-wave in this sample (metadata row 452) at index 23, station CDMT/CDMT, magnitude + 6.40\n",
      "P-wave in this sample (metadata row 490) at index 31, station CNPP/CNPP, magnitude + 6.40\n",
      "P-wave in this sample (metadata row 656) at index 26, station CTDM/CTDM, magnitude + 6.40\n",
      "P-wave in this sample (metadata row 762) at index 27, station EWPP/EWPP, magnitude + 6.40\n",
      "P-wave in this sample (metadata row 789) at index 29, station FMVT/FMVT, magnitude + 6.40\n",
      "P-wave in this sample (metadata row 816) at index 28, station GMRC/GMRC, magnitude + 6.40\n",
      "P-wave in this sample (metadata row 846) at index 23, station HCMN/HCMN, magnitude + 6.40\n",
      "P-wave in this sample (metadata row 975) at index 67, station HVYS/HVYS, magnitude + 6.50\n",
      "P-wave in this sample (metadata row 1055) at index 29, station KBRC/KBRC, magnitude + 6.40\n",
      "P-wave in this sample (metadata row 1106) at index 30, station LAPC/LAPC, magnitude + 6.40\n",
      "P-wave in this sample (metadata row 1121) at index 75, station LAPC/LAPC, magnitude + 6.50\n",
      "P-wave in this sample (metadata row 1132) at index 28, station LDES/LDES, magnitude + 6.40\n",
      "P-wave in this sample (metadata row 1179) at index 30, station LFRS/LFRS, magnitude + 6.40\n",
      "P-wave in this sample (metadata row 1222) at index 15, station LNMT/LNMT, magnitude + 6.40\n",
      "P-wave in this sample (metadata row 1278) at index 31, station MAT2/MAT2, magnitude + 6.40\n",
      "P-wave in this sample (metadata row 1334) at index 30, station MLFP/MLFP, magnitude + 6.40\n",
      "P-wave in this sample (metadata row 1390) at index 30, station MPWD/MPWD, magnitude + 6.40\n",
      "P-wave in this sample (metadata row 1476) at index 29, station NHRG/NHRG, magnitude + 6.40\n",
      "P-wave in this sample (metadata row 1492) at index 66, station NHRG/NHRG, magnitude + 6.50\n",
      "P-wave in this sample (metadata row 1558) at index 21, station ORMT/ORMT, magnitude + 6.40\n",
      "P-wave in this sample (metadata row 1604) at index 69, station OVLS/OVLS, magnitude + 6.50\n",
      "P-wave in this sample (metadata row 1663) at index 23, station P056/P056, magnitude + 6.40\n",
      "P-wave in this sample (metadata row 1692) at index 17, station P091/P091, magnitude + 6.40\n",
      "P-wave in this sample (metadata row 2131) at index 8, station P463/P463, magnitude + 6.40\n",
      "P-wave in this sample (metadata row 2184) at index 18, station P467/P467, magnitude + 6.40\n",
      "P-wave in this sample (metadata row 2213) at index 24, station P468/P468, magnitude + 6.40\n",
      "P-wave in this sample (metadata row 2242) at index 22, station P470/P470, magnitude + 6.40\n",
      "P-wave in this sample (metadata row 2607) at index 58, station P518/P518, magnitude + 6.50\n",
      "P-wave in this sample (metadata row 2635) at index 67, station P519/P519, magnitude + 6.50\n",
      "P-wave in this sample (metadata row 2695) at index 29, station P522/P522, magnitude + 6.40\n",
      "P-wave in this sample (metadata row 2945) at index 30, station P543/P543, magnitude + 6.40\n",
      "P-wave in this sample (metadata row 2970) at index 28, station P545/P545, magnitude + 6.40\n",
      "P-wave in this sample (metadata row 3037) at index 28, station P551/P551, magnitude + 6.40\n",
      "P-wave in this sample (metadata row 3089) at index 25, station P553/P553, magnitude + 6.40\n",
      "P-wave in this sample (metadata row 3126) at index 24, station P556/P556, magnitude + 6.40\n",
      "P-wave in this sample (metadata row 3151) at index 22, station P557/P557, magnitude + 6.40\n",
      "P-wave in this sample (metadata row 3171) at index 23, station P560/P560, magnitude + 6.40\n",
      "P-wave in this sample (metadata row 3195) at index 27, station P563/P563, magnitude + 6.40\n",
      "P-wave in this sample (metadata row 3222) at index 26, station P564/P564, magnitude + 6.40\n",
      "P-wave in this sample (metadata row 3416) at index 20, station P589/P589, magnitude + 6.40\n",
      "P-wave in this sample (metadata row 3570) at index 28, station P598/P598, magnitude + 6.40\n",
      "P-wave in this sample (metadata row 3616) at index 24, station P606/P606, magnitude + 6.40\n",
      "P-wave in this sample (metadata row 3660) at index 27, station P611/P611, magnitude + 6.40\n",
      "P-wave in this sample (metadata row 3686) at index 26, station P612/P612, magnitude + 6.40\n",
      "P-wave in this sample (metadata row 3711) at index 27, station P613/P613, magnitude + 6.40\n",
      "P-wave in this sample (metadata row 3759) at index 15, station P615/P615, magnitude + 6.40\n",
      "P-wave in this sample (metadata row 4415) at index 31, station P800/P800, magnitude + 6.40\n",
      "P-wave in this sample (metadata row 4440) at index 25, station P810/P810, magnitude + 6.40\n",
      "P-wave in this sample (metadata row 4507) at index 22, station PBPP/PBPP, magnitude + 6.40\n",
      "P-wave in this sample (metadata row 4941) at index 17, station THCP/THCP, magnitude + 6.40\n"
     ]
    }
   ],
   "source": [
    "rows_with_eqs = []\n",
    "rows_without_eqs = []\n",
    "p_count_info = []\n",
    "mags = []\n",
    "gauss_positions = []\n",
    "\n",
    "counter = 0\n",
    "\n",
    "for krow in range(len(real_metadata)):\n",
    "# for krow in range(len(test_metadata)):\n",
    "    \n",
    "#     print('-----------------------------')\n",
    "    \n",
    "    sta = real_metadata[krow,0]\n",
    "    date = real_metadata[krow,1]\n",
    "    starttime = UTCDateTime(real_metadata[krow,2])\n",
    "    endtime = UTCDateTime(real_metadata[krow,3])\n",
    "    \n",
    "#     sta = test_metadata[krow,0]\n",
    "#     date = test_metadata[krow,1]\n",
    "#     starttime = UTCDateTime(test_metadata[krow,2])\n",
    "#     endtime = UTCDateTime(test_metadata[krow,3])\n",
    "    \n",
    "#     print('-----------------------------')\n",
    "#     print('Metadata row info:')\n",
    "#     print('Station: ' + str(sta))\n",
    "#     print('Sample date: ' + str(date))\n",
    "#     print('Sample start time: ' + str(starttime))\n",
    "#     print('Sample end time: ' + str(endtime))\n",
    "    \n",
    "    arrival_stas = arrivaltimes[:,2]\n",
    "    \n",
    "#     print(arrival_stas)\n",
    "        \n",
    "    matches = np.where(arrival_stas == sta)[0] # Find the rows in the arrival times array for this station\n",
    "#     print(matches)\n",
    "    \n",
    "    p_pick_count = 0\n",
    "    \n",
    "    for i in matches:\n",
    "        \n",
    "        mag = arrivaltimes[i,1]\n",
    "        arrival_sta = arrivaltimes[i,2]\n",
    "        p_arrival = arrivaltimes[i,3]\n",
    "        \n",
    "#         print('-----------------------------')\n",
    "#         print('Arrival times row info:')\n",
    "#         print('Magnitude: ' + str(mag))\n",
    "#         print('Station: ' + str(arrival_sta))\n",
    "#         print('Arrival time: ' + str(p_arrival))\n",
    "        \n",
    "        if p_pick_count == 0: # If we haven't found any P waves yet in the metadata row:\n",
    "        \n",
    "            if p_arrival != 'nan': # If the P wave arrival time in the arrivaltimes array is not 'nan' (aka it exists):\n",
    "                \n",
    "#                 print('-----------------------------')\n",
    "#                 print('Good P-wave')\n",
    "                \n",
    "                p_arrival = UTCDateTime(p_arrival) # Convert the P arrival time from the array to a UTCDateTime object\n",
    "#                 print('P-arrival: ' + str(p_arrival))\n",
    "#                 print('Metadata row start time: ' + str(starttime))\n",
    "#                 print('Metadata row end time: ' + str(endtime))\n",
    "                \n",
    "                p_start_delta = p_arrival - starttime # If the P arrival minus the metadata row start time is greater than or equal to 0 but less than 128, the p_arrival is in the sample\n",
    "                # print(p_start_delta)\n",
    "                \n",
    "                if p_start_delta >= 0 and p_start_delta < 128: # If the delta is 0, the Gaussian should be positioned at the first sample (index 0).\n",
    "                    \n",
    "                    gauss_position = round(p_start_delta) # Rounded to the nearest whole index\n",
    "                    p_pick_count += 1 # Since we found an arrival in this metadata row, add one to the pick count\n",
    "                    \n",
    "                    if float(mag) > 6:\n",
    "                        print('P-wave in this sample (metadata row ' + str(krow) + ') at index ' + str(gauss_position) + ', station ' + str(arrival_sta) + '/' + str(sta) + ', magnitude + ' + str(mag))\n",
    "                    \n",
    "                    gauss_positions.append(gauss_position) # Add the index of the sample that should have the gaussian peak to the list of gaussian positions.\n",
    "                    mags.append(mag)\n",
    "                    \n",
    "                    # print(krow)\n",
    "                    # print(mag)\n",
    "                    # print(index) # this is the index in arrival_times where the eq is\n",
    "                \n",
    "                else: # If the delta is greater than 128, the arrival time is not in the metadata array. Skip it.\n",
    "                    \n",
    "                    pass\n",
    "            \n",
    "            elif p_arrival == 'nan': # If there isn't a calculated arrival time for this row in the arrivaltimes array, skip it.\n",
    "                \n",
    "                gauss_position = 'nan' # If there is no p arrival in the sample, the gaussian will not exist so the position is 'nan'.\n",
    "                mag = 'nan'\n",
    "                pass\n",
    "        \n",
    "        elif p_pick_count > 0: # If the count is already greater than 1 because we've found a p wave in this row of the metadata array, we'll skip any extras for making gaussian positions (but still add them to the count so we know they exist).\n",
    "            \n",
    "            if p_arrival != 'nan': \n",
    "                p_arrival = UTCDateTime(p_arrival) \n",
    "                p_start_delta = p_arrival - starttime \n",
    "\n",
    "                if p_start_delta >= 0 and p_start_delta < 128:  \n",
    "                    p_pick_count += 1\n",
    "                \n",
    "                else:\n",
    "                    pass\n",
    "\n",
    "            elif p_arrival == 'nan': \n",
    "                pass\n",
    "    \n",
    "    if p_pick_count == 0:\n",
    "        \n",
    "        rows_without_eqs.append(krow) # Add the index of the row in the metadata array that doesn't have an earthquake to the list of indices that don't have earthquakes.\n",
    "        p_count_info.append(p_pick_count) # Add the number of p picks in the metadata array row (zero) to the p_count list.\n",
    "        gauss_positions.append(gauss_position) # Add the gauss position (in this case 'nan' because there are no picks in this row of the metadata array) to the list of positions.\n",
    "        mags.append(mag)\n",
    "        \n",
    "        # These might be VERY WRONG - need to be inside the index loop to not just have only the last value!\n",
    "        \n",
    "    elif p_pick_count != 0:\n",
    "        \n",
    "        rows_with_eqs.append(krow) # Add the index of the row in the metadata array that does have an earthquake to the list of indices that do have earthquakes.\n",
    "        p_count_info.append(p_pick_count) # Add the number of p picks in the metadata array row to the p_count list.\n",
    "        \n",
    "    counter += 1\n",
    "    # print(counter)\n"
   ]
  },
  {
   "cell_type": "code",
   "execution_count": 9,
   "metadata": {},
   "outputs": [
    {
     "data": {
      "image/png": "[encoded data removed]",
      "text/plain": [
       "<Figure size 432x288 with 1 Axes>"
      ]
     },
     "metadata": {
      "needs_background": "light"
     },
     "output_type": "display_data"
    }
   ],
   "source": [
    "# Testing plots\n",
    "\n",
    "import matplotlib.pyplot as plt\n",
    "\n",
    "mdrow = 156\n",
    "index = 68\n",
    "\n",
    "# mdrow = 692198\n",
    "# index = 70\n",
    "\n",
    "plt.plot(real_data[mdrow])\n",
    "plt.axvline(127, color = 'black') # last sample of N. E starts at 256\n",
    "plt.axvline(255, color = 'black') # last sample of E. Z starts at 512\n",
    "plt.axvline(index, color = 'C1')\n",
    "plt.axvline(128 + index, color = 'C1')\n",
    "plt.axvline(256 + index, color = 'C1')\n",
    "plt.xlim(0,383);"
   ]
  },
  {
   "cell_type": "code",
   "execution_count": null,
   "metadata": {},
   "outputs": [],
   "source": []
  }
 ],
 "metadata": {
  "kernelspec": {
   "display_name": "Python 3 (ipykernel)",
   "language": "python",
   "name": "python3"
  },
  "language_info": {
   "codemirror_mode": {
    "name": "ipython",
    "version": 3
   },
   "file_extension": ".py",
   "mimetype": "text/x-python",
   "name": "python",
   "nbconvert_exporter": "python",
   "pygments_lexer": "ipython3",
   "version": "3.8.8"
  }
 },
 "nbformat": 4,
 "nbformat_minor": 4
}
