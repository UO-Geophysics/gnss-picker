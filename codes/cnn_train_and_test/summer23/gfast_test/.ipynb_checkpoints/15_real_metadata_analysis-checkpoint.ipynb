{
 "cells": [
  {
   "cell_type": "code",
   "execution_count": 1,
   "id": "12952107",
   "metadata": {},
   "outputs": [],
   "source": [
    "import numpy as np\n",
    "import matplotlib.pyplot as plt\n",
    "from glob import glob\n",
    "from obspy.geodetics import gps2dist_azimuth\n",
    "\n",
    "path = '/home/sdybing/gnss-picker/cnn_models_outputs/newfault_fq_train/models/traindate_2024-10-01/data/'\n",
    "\n",
    "data = np.load(path + '2024-10-19gfast_realtest_orig_data.npy')\n",
    "metadata = np.load(path + 'pgd_realdata_test_metadata_w_hypdist_pgd_snrs.npy')\n",
    "targets = np.load(path + '2024-10-19gfast_realtest_target.npy')\n",
    "predictions = np.load(path + '2024-10-19gfast_realtest_predictions.npy')"
   ]
  },
  {
   "cell_type": "code",
   "execution_count": 17,
   "id": "8cebf2da-c41b-408b-920d-01bdcfa0126c",
   "metadata": {},
   "outputs": [],
   "source": [
    "num_fqtest = len(predictions)\n",
    "best_thresh = 0.135 # Best accuracy threshold from FQ testing data\n",
    "# best_thresh = 0.835 # Best precision threshold from FQ testing data\n",
    "\n",
    "zeros = np.zeros((predictions.shape[0],1))\n",
    "analysis_array = np.c_[metadata, zeros] # Adds a column of zeros to the metadata array to initialize"
   ]
  },
  {
   "cell_type": "code",
   "execution_count": 18,
   "id": "96398ba8-186a-4df9-81e3-66c75467fd3c",
   "metadata": {},
   "outputs": [
    {
     "data": {
      "text/plain": [
       "(3351, 19)"
      ]
     },
     "execution_count": 18,
     "metadata": {},
     "output_type": "execute_result"
    }
   ],
   "source": [
    "analysis_array.shape"
   ]
  },
  {
   "cell_type": "code",
   "execution_count": 19,
   "id": "80fb9a76-2885-4e19-ba32-15b3f1d85bb0",
   "metadata": {},
   "outputs": [],
   "source": [
    "# 0. event ID\n",
    "# 1: station name\n",
    "# 2: date sample came from\n",
    "# 3: sample start time\n",
    "# 4: sample end time\n",
    "# 5: sample P-wave arrives at (gauss pos)\n",
    "# 6: earthquake magnitude\n",
    "# 7. earthquake lat\n",
    "# 8. earthquake lon\n",
    "# 9. earthquake depth\n",
    "# 10. station lat\n",
    "# 11. station lon\n",
    "# 12. hypocentral distance (m)\n",
    "# 13. PGD (m)\n",
    "# 14. SNRN\n",
    "# 15. SNRE\n",
    "# 16. SNRZ\n",
    "# 17. mean SNR"
   ]
  },
  {
   "cell_type": "code",
   "execution_count": 20,
   "id": "ce591d8b",
   "metadata": {},
   "outputs": [],
   "source": [
    "for i in range(len(metadata)):\n",
    "        \n",
    "    rupt_num = metadata[i][0]\n",
    "    station = metadata[i][1]\n",
    "    mag = metadata[i][6]\n",
    "\n",
    "    p = np.where(predictions[i] >= best_thresh)[0]\n",
    "    if len(p) == 0:\n",
    "        pred_binary = 0\n",
    "    elif len(p) > 0:\n",
    "        pred_binary = 1\n",
    "\n",
    "    t = np.where(targets[i] > 0)[0]\n",
    "    if len(t) == 0:\n",
    "        targ_binary = 0\n",
    "    elif len(t) > 0:\n",
    "        targ_binary = 1\n",
    "\n",
    "    pred = pred_binary\n",
    "    targ = targ_binary\n",
    "\n",
    "    if pred == targ:\n",
    "        if pred == 1 and targ == 1:\n",
    "            result = 'true pos'\n",
    "        elif pred == 0 and targ == 0:\n",
    "            result = 'true neg'\n",
    "\n",
    "    elif pred != targ:            \n",
    "        if pred == 1 and targ == 0:\n",
    "            result = 'false pos'\n",
    "        elif pred == 0 and targ == 1:\n",
    "            result = 'false neg'\n",
    "\n",
    "    analysis_array[i][18] = result"
   ]
  },
  {
   "cell_type": "code",
   "execution_count": 21,
   "id": "f10e8e5a",
   "metadata": {},
   "outputs": [
    {
     "name": "stdout",
     "output_type": "stream",
     "text": [
      "[['38624424' 'ACSB' '20190605' ... '0.991962893340317'\n",
      "  '1.1685544334871318' 'false neg']\n",
      " ['37224964' 'ACSB' '20190706' ... '0.8877476331580956'\n",
      "  '1.3145893548860323' 'false neg']\n",
      " ['38457967' 'ACSB' '20190706' ... '0.8877476331580956'\n",
      "  '1.3145893548860323' 'false neg']\n",
      " ...\n",
      " ['38644943' 'WKPK' '20190726' ... '1.6789159372129352'\n",
      "  '1.3964316795291654' 'false neg']\n",
      " ['39208087' 'WKPK' '20200520' ... '0.6314404227100412'\n",
      "  '0.7629927793490129' 'false neg']\n",
      " ['39462536' 'WKPK' '20200604' ... '0.8045445417151936'\n",
      "  '0.8810488756975935' 'false neg']]\n",
      "(3351, 19)\n"
     ]
    }
   ],
   "source": [
    "print(analysis_array)\n",
    "print(analysis_array.shape)\n",
    "            \n",
    "np.save(path + 'pgd_realdata_test_metadata_w_hypdist_pgd_snrs_result0135.npy', analysis_array)  "
   ]
  },
  {
   "cell_type": "code",
   "execution_count": null,
   "id": "7e8f9185",
   "metadata": {},
   "outputs": [],
   "source": []
  },
  {
   "cell_type": "code",
   "execution_count": null,
   "id": "9afe5916-ff7e-4c26-83cd-c89fb055325f",
   "metadata": {},
   "outputs": [],
   "source": []
  }
 ],
 "metadata": {
  "kernelspec": {
   "display_name": "Python 3 (ipykernel)",
   "language": "python",
   "name": "python3"
  },
  "language_info": {
   "codemirror_mode": {
    "name": "ipython",
    "version": 3
   },
   "file_extension": ".py",
   "mimetype": "text/x-python",
   "name": "python",
   "nbconvert_exporter": "python",
   "pygments_lexer": "ipython3",
   "version": "3.8.8"
  }
 },
 "nbformat": 4,
 "nbformat_minor": 5
}
