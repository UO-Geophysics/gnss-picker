{
 "cells": [
  {
   "cell_type": "code",
   "execution_count": 27,
   "id": "aa972930",
   "metadata": {},
   "outputs": [],
   "source": [
    "import numpy as np\n",
    "import matplotlib.pyplot as plt\n",
    "from glob import glob\n",
    "from obspy.geodetics import gps2dist_azimuth\n",
    "\n",
    "path = '/home/sdybing/gnss-picker/cnn_models_outputs/newfault_fq_train/models/traindate_2024-10-01/data/'"
   ]
  },
  {
   "cell_type": "code",
   "execution_count": 30,
   "id": "5de7137e-7d44-492f-b591-a821cea55474",
   "metadata": {},
   "outputs": [
    {
     "name": "stdout",
     "output_type": "stream",
     "text": [
      "(3351, 128, 3)\n",
      "(3351, 7)\n",
      "(3351, 128)\n",
      "(3351, 128)\n"
     ]
    }
   ],
   "source": [
    "orig_data = np.load(path + '2024-10-19gfast_realtest_orig_data.npy')\n",
    "norm_data = np.load(path + '2024-10-19gfast_realtest_norm_data.npy')\n",
    "metadata = np.load(path + '2024-10-19gfast_realtest_metadata.npy')\n",
    "targets = np.load(path + '2024-10-19gfast_realtest_target.npy')\n",
    "predictions = np.load(path + '2024-10-19gfast_realtest_predictions.npy')\n",
    "\n",
    "# Metadata columns:\n",
    "\n",
    "# 0. event ID\n",
    "# 1: station name\n",
    "# 2: date sample came from\n",
    "# 3: sample start time\n",
    "# 4: sample end time\n",
    "# 5: sample P-wave arrives at (gauss pos)\n",
    "# 6: earthquake magnitude\n",
    "\n",
    "print(orig_data.shape)\n",
    "print(metadata.shape)\n",
    "print(targets.shape)\n",
    "print(predictions.shape)"
   ]
  },
  {
   "cell_type": "code",
   "execution_count": 31,
   "id": "59d4a0b0-9d0f-49e5-864e-a88b83a4ce8e",
   "metadata": {},
   "outputs": [
    {
     "data": {
      "text/plain": [
       "array(['38624424', 'ACSB', '20190605', '2019-06-05T14:32:10.000000Z',\n",
       "       '2019-06-05T14:34:17.000000Z', '18', '4.30'], dtype='<U27')"
      ]
     },
     "execution_count": 31,
     "metadata": {},
     "output_type": "execute_result"
    }
   ],
   "source": [
    "metadata[0]"
   ]
  },
  {
   "cell_type": "code",
   "execution_count": 32,
   "id": "37834dc6-c7c2-4fcf-8551-38a13d07d65d",
   "metadata": {},
   "outputs": [
    {
     "data": {
      "text/plain": [
       "array(['37451589', '2020-07-30T00:35:55.780000Z', '141.8599', '30.6380',\n",
       "       '9.47', '5.80'], dtype='<U27')"
      ]
     },
     "execution_count": 32,
     "metadata": {},
     "output_type": "execute_result"
    }
   ],
   "source": [
    "event_catalog = np.genfromtxt('/home/sdybing/gnss-picker/data/realdata/minM4.3_event_catalog.txt', dtype = 'str')\n",
    "event_catalog[0]\n",
    "\n",
    "# Columns: \n",
    "# 0. ID\n",
    "# 1. origin time\n",
    "# 2. lon\n",
    "# 3. lat\n",
    "# 4. depth\n",
    "# 5. mag"
   ]
  },
  {
   "cell_type": "code",
   "execution_count": 33,
   "id": "57fff6c1",
   "metadata": {},
   "outputs": [],
   "source": [
    "eq_lats = []\n",
    "eq_lons = []\n",
    "eq_depths = []\n",
    "sta_lats = []\n",
    "sta_lons = []\n",
    "dist_ms = []\n",
    "\n",
    "for i in range(len(metadata)):\n",
    "        \n",
    "    # Getting rupture name and calculating hypocentral distance\n",
    "\n",
    "    rupture = metadata[i,0]\n",
    "#     print(rupture)\n",
    "    \n",
    "    j = np.where(event_catalog[:,0] == rupture)[0][0]\n",
    "#     print(j)\n",
    "    eq_lon = float(event_catalog[j,2])\n",
    "    eq_lat = float(event_catalog[j,3])\n",
    "    eq_depth = float(event_catalog[j,4])\n",
    "#     print(event_catalog[j,0], eq_lon, eq_lat)\n",
    "\n",
    "    station = metadata[i,1]\n",
    "#     print(station)\n",
    "\n",
    "    station_info = np.genfromtxt('/hdd/rc_fq/fall24/newfault/data/station_info/rc_gflist.gflist', dtype = 'U')\n",
    "#         print(station)\n",
    "\n",
    "    k = np.where(station_info[:,0] == station)[0]\n",
    "#         print(station_info[k][0])\n",
    "\n",
    "    # Getting station location\n",
    "\n",
    "    sta_lon = float(station_info[k][0][1])\n",
    "    sta_lat = float(station_info[k][0][2])\n",
    "#         print(sta_lon)\n",
    "#         print(sta_lat)\n",
    "\n",
    "    # Calculating hypocentral distance\n",
    "\n",
    "    distaz = gps2dist_azimuth(eq_lat, eq_lon, sta_lat, sta_lon)\n",
    "    dist_m = distaz[0]\n",
    "#         print(dist_m)\n",
    "\n",
    "    eq_lats.append(eq_lat)\n",
    "    eq_lons.append(eq_lon)\n",
    "    eq_depths.append(eq_depth)\n",
    "    sta_lats.append(sta_lat)\n",
    "    sta_lons.append(sta_lon)\n",
    "    dist_ms.append(dist_m)\n"
   ]
  },
  {
   "cell_type": "code",
   "execution_count": 34,
   "id": "634ef28b",
   "metadata": {},
   "outputs": [],
   "source": [
    "# Add to the results metadata array\n",
    "\n",
    "eqlats_vector = np.array(eq_lats).reshape(len(eq_lats),1) \n",
    "eqlons_vector = np.array(eq_lons).reshape(len(eq_lons),1) \n",
    "eqdepths_vector = np.array(eq_depths).reshape(len(eq_depths),1) \n",
    "stalats_vector = np.array(sta_lats).reshape(len(sta_lats),1) \n",
    "stalons_vector = np.array(sta_lons).reshape(len(sta_lons),1) \n",
    "distms_vector = np.array(dist_ms).reshape(len(dist_ms),1) \n",
    "\n",
    "a = np.append(metadata, eqlats_vector, axis = 1) \n",
    "b = np.append(a, eqlons_vector, axis = 1)\n",
    "c = np.append(b, eqdepths_vector, axis = 1)\n",
    "d = np.append(c, stalats_vector, axis = 1)\n",
    "e = np.append(d, stalons_vector, axis = 1)\n",
    "new_meta_array = np.append(e, distms_vector, axis = 1)\n",
    "\n",
    "# New metadata array columns:\n",
    "\n",
    "# 0. event ID\n",
    "# 1: station name\n",
    "# 2: date sample came from\n",
    "# 3: sample start time\n",
    "# 4: sample end time\n",
    "# 5: sample P-wave arrives at (gauss pos)\n",
    "# 6: earthquake magnitude\n",
    "# 7. earthquake lat\n",
    "# 8. earthquake lon\n",
    "# 9. earthquake depth\n",
    "# 10. station lat\n",
    "# 11. station lon\n",
    "# 12. hypocentral distance (m)\n",
    "\n",
    "np.save(path + 'realdata_pgd_test_metadata_with_hypdists.npy', new_meta_array)"
   ]
  },
  {
   "cell_type": "code",
   "execution_count": 35,
   "id": "87d31058",
   "metadata": {},
   "outputs": [
    {
     "data": {
      "text/plain": [
       "(3351, 13)"
      ]
     },
     "execution_count": 35,
     "metadata": {},
     "output_type": "execute_result"
    }
   ],
   "source": [
    "new_meta_array.shape"
   ]
  },
  {
   "cell_type": "code",
   "execution_count": 36,
   "id": "187eb681",
   "metadata": {},
   "outputs": [
    {
     "data": {
      "text/plain": [
       "array(['38624424', 'ACSB', '20190605', '2019-06-05T14:32:10.000000Z',\n",
       "       '2019-06-05T14:34:17.000000Z', '18', '4.30', '32.8377',\n",
       "       '-118.5032', '8.4', '33.27425', '-117.4449', '110059.31617383259'],\n",
       "      dtype='<U32')"
      ]
     },
     "execution_count": 36,
     "metadata": {},
     "output_type": "execute_result"
    }
   ],
   "source": [
    "new_meta_array[0]"
   ]
  },
  {
   "cell_type": "code",
   "execution_count": null,
   "id": "019b026d-1747-44d7-a657-7476506df34b",
   "metadata": {},
   "outputs": [],
   "source": []
  }
 ],
 "metadata": {
  "kernelspec": {
   "display_name": "Python 3 (ipykernel)",
   "language": "python",
   "name": "python3"
  },
  "language_info": {
   "codemirror_mode": {
    "name": "ipython",
    "version": 3
   },
   "file_extension": ".py",
   "mimetype": "text/x-python",
   "name": "python",
   "nbconvert_exporter": "python",
   "pygments_lexer": "ipython3",
   "version": "3.8.8"
  }
 },
 "nbformat": 4,
 "nbformat_minor": 5
}
