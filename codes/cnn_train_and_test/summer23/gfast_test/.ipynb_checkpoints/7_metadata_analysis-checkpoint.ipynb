{
 "cells": [
  {
   "cell_type": "code",
   "execution_count": 1,
   "id": "12952107",
   "metadata": {},
   "outputs": [],
   "source": [
    "import numpy as np\n",
    "import matplotlib.pyplot as plt\n",
    "from glob import glob\n",
    "from obspy.geodetics import gps2dist_azimuth\n",
    "\n",
    "path = '/home/sdybing/gnss-picker/cnn_models_outputs/newfault_fq_train/models/traindate_2024-10-01/data/'\n",
    "\n",
    "data = np.load(path + '2024-10-16_gfast_bigger_fqtest_orig_data.npy')\n",
    "metadata = np.load(path + 'pgd_bigger_test_metadata_w_hypdist_pgd_snrs.npy')\n",
    "targets = np.load(path + '2024-10-16_gfast_bigger_fqtest_target.npy')\n",
    "predictions = np.load(path + '2024-10-16_gfast_bigger_fqtest_predictions.npy')"
   ]
  },
  {
   "cell_type": "code",
   "execution_count": 12,
   "id": "8cebf2da-c41b-408b-920d-01bdcfa0126c",
   "metadata": {},
   "outputs": [],
   "source": [
    "num_fqtest = len(predictions)\n",
    "# best_thresh = 0.135 # Best accuracy threshold from FQ testing data\n",
    "best_thresh = 0.835 # Best precision threshold from FQ testing data\n",
    "\n",
    "zeros = np.zeros((predictions.shape[0],1))\n",
    "analysis_array = np.c_[metadata, zeros] # Adds a column of zeros to the metadata array to initialize"
   ]
  },
  {
   "cell_type": "code",
   "execution_count": 13,
   "id": "96398ba8-186a-4df9-81e3-66c75467fd3c",
   "metadata": {},
   "outputs": [
    {
     "data": {
      "text/plain": [
       "(20683, 16)"
      ]
     },
     "execution_count": 13,
     "metadata": {},
     "output_type": "execute_result"
    }
   ],
   "source": [
    "analysis_array.shape"
   ]
  },
  {
   "cell_type": "code",
   "execution_count": 14,
   "id": "ce591d8b",
   "metadata": {},
   "outputs": [],
   "source": [
    "for i in range(len(metadata)):\n",
    "        \n",
    "    rupt_num = metadata[i][0]\n",
    "    station = metadata[i][1]\n",
    "    mag = metadata[i][2]\n",
    "\n",
    "    p = np.where(predictions[i] >= best_thresh)[0]\n",
    "    if len(p) == 0:\n",
    "        pred_binary = 0\n",
    "    elif len(p) > 0:\n",
    "        pred_binary = 1\n",
    "\n",
    "    t = np.where(targets[i] > 0)[0]\n",
    "    if len(t) == 0:\n",
    "        targ_binary = 0\n",
    "    elif len(t) > 0:\n",
    "        targ_binary = 1\n",
    "\n",
    "    pred = pred_binary\n",
    "    targ = targ_binary\n",
    "\n",
    "    if pred == targ:\n",
    "        if pred == 1 and targ == 1:\n",
    "            result = 'true pos'\n",
    "        elif pred == 0 and targ == 0:\n",
    "            result = 'true neg'\n",
    "\n",
    "    elif pred != targ:            \n",
    "        if pred == 1 and targ == 0:\n",
    "            result = 'false pos'\n",
    "        elif pred == 0 and targ == 1:\n",
    "            result = 'false neg'\n",
    "\n",
    "    analysis_array[i][15] = result"
   ]
  },
  {
   "cell_type": "code",
   "execution_count": 15,
   "id": "f10e8e5a",
   "metadata": {},
   "outputs": [
    {
     "name": "stdout",
     "output_type": "stream",
     "text": [
      "[['newfault.001022' 'IMPS' '6.2624' ... '0.7413362985838914'\n",
      "  '0.8160370015296712' 'false neg']\n",
      " ['newfault.000951' 'P581' '6.7468' ... '0.9848255853447292'\n",
      "  '1.1501002988193092' 'false neg']\n",
      " ['newfault.000692' 'P537' '7.0904' ... '1.1564588918033254'\n",
      "  '1.2268156455713743' 'false neg']\n",
      " ...\n",
      " ['newfault.000302' 'P278' '7.0454' ... '0.4452807194824632'\n",
      "  '0.7486390230117754' 'false neg']\n",
      " ['newfault.000911' 'WKPK' '6.5806' ... '3.1440027900412275'\n",
      "  '1.6423889530460325' 'false neg']\n",
      " ['newfault.000088' 'P514' '7.3605' ... '1.0874659595771712'\n",
      "  '1.6145113497292491' 'true pos']]\n",
      "(20683, 16)\n"
     ]
    }
   ],
   "source": [
    "print(analysis_array)\n",
    "print(analysis_array.shape)\n",
    "            \n",
    "np.save(path + 'pgd_bigger_test_metadata_w_hypdist_pgd_snrs_result0835.npy', analysis_array)  "
   ]
  },
  {
   "cell_type": "code",
   "execution_count": null,
   "id": "7e8f9185",
   "metadata": {},
   "outputs": [],
   "source": []
  }
 ],
 "metadata": {
  "kernelspec": {
   "display_name": "Python 3 (ipykernel)",
   "language": "python",
   "name": "python3"
  },
  "language_info": {
   "codemirror_mode": {
    "name": "ipython",
    "version": 3
   },
   "file_extension": ".py",
   "mimetype": "text/x-python",
   "name": "python",
   "nbconvert_exporter": "python",
   "pygments_lexer": "ipython3",
   "version": "3.8.8"
  }
 },
 "nbformat": 4,
 "nbformat_minor": 5
}
