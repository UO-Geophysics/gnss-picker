{
 "cells": [
  {
   "cell_type": "code",
   "execution_count": 1,
   "id": "bf884064-1976-4670-a769-a8c3ddaa72fb",
   "metadata": {},
   "outputs": [],
   "source": [
    "import numpy as np\n",
    "import matplotlib.pyplot as plt\n",
    "from glob import glob\n",
    "from obspy.geodetics import gps2dist_azimuth\n",
    "\n",
    "path = '/home/sdybing/gnss-picker/cnn_models_outputs/newfault_fq_train/models/traindate_2024-10-01/data/'\n",
    "\n",
    "data = np.load(path + '2024-10-16_gfast_bigger_fqtest_orig_data.npy')\n",
    "metadata = np.load(path + 'pgd_bigger_test_metadata_w_hypdist_pgd_snrs.npy')\n",
    "targets = np.load(path + '2024-10-16_gfast_bigger_fqtest_target.npy')\n",
    "predictions = np.load(path + '2024-10-16_gfast_bigger_fqtest_predictions.npy')\n",
    "results = np.load(path + 'pgd_bigger_test_metadata_w_hypdist_pgd_snrs_result0135.npy')"
   ]
  },
  {
   "cell_type": "code",
   "execution_count": 2,
   "id": "e861d6fa-5e20-4c30-bde6-7969d4ebac2f",
   "metadata": {},
   "outputs": [
    {
     "name": "stdout",
     "output_type": "stream",
     "text": [
      "9037\n"
     ]
    }
   ],
   "source": [
    "p = np.where(results[:,15] == 'false neg')[0]\n",
    "print(len(p))"
   ]
  },
  {
   "cell_type": "code",
   "execution_count": null,
   "id": "b0350ac8-10f9-46ed-894e-ef131329f549",
   "metadata": {},
   "outputs": [],
   "source": []
  }
 ],
 "metadata": {
  "kernelspec": {
   "display_name": "Python 3 (ipykernel)",
   "language": "python",
   "name": "python3"
  },
  "language_info": {
   "codemirror_mode": {
    "name": "ipython",
    "version": 3
   },
   "file_extension": ".py",
   "mimetype": "text/x-python",
   "name": "python",
   "nbconvert_exporter": "python",
   "pygments_lexer": "ipython3",
   "version": "3.8.8"
  }
 },
 "nbformat": 4,
 "nbformat_minor": 5
}
