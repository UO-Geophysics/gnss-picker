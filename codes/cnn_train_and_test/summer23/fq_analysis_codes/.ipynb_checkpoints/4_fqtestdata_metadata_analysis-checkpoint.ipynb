{
 "cells": [
  {
   "cell_type": "code",
   "execution_count": 1,
   "id": "12952107",
   "metadata": {},
   "outputs": [],
   "source": [
    "import numpy as np\n",
    "import matplotlib.pyplot as plt\n",
    "\n",
    "project = 'newfault'\n",
    "traindate = '2024-10-01'\n",
    "testdate = '2024-10-02'\n",
    "traindate_path = '/home/sdybing/gnss-picker/cnn_models_outputs/' + project + '_fq_train/models/traindate_' + traindate + '/'\n",
    "test_outputs_path = traindate_path + 'data/'\n",
    "figure_save_dir = traindate_path + 'figures/'\n",
    "\n",
    "fqtest_data = np.load(test_outputs_path + testdate + '_fqtest_norm_data.npy')\n",
    "fqtest_metadata = np.load(test_outputs_path + testdate + '_fqtest_metadata.npy')\n",
    "fqtest_target = np.load(test_outputs_path + testdate + '_fqtest_target.npy')\n",
    "fqtest_predictions = np.load(test_outputs_path + testdate + '_fqtest_predictions.npy')\n",
    "\n",
    "\n"
   ]
  },
  {
   "cell_type": "code",
   "execution_count": 6,
   "id": "8cebf2da-c41b-408b-920d-01bdcfa0126c",
   "metadata": {},
   "outputs": [],
   "source": [
    "num_fqtest = len(fqtest_predictions)\n",
    "best_thresh = 0.025 # From code 2\n",
    "\n",
    "zeros = np.zeros((fqtest_predictions.shape[0],1))\n",
    "analysis_array = np.c_[fqtest_metadata, zeros] # Adds a column of zeros to the metadata array to initialize"
   ]
  },
  {
   "cell_type": "code",
   "execution_count": 7,
   "id": "ce591d8b",
   "metadata": {},
   "outputs": [],
   "source": [
    "for i in range(len(fqtest_metadata)):\n",
    "    \n",
    "    if fqtest_metadata[i][0] == 'nan': # This row is NOT an earthquake\n",
    "        \n",
    "        # Make binary prediction and target\n",
    "        \n",
    "        p = np.where(fqtest_predictions[i] >= best_thresh)[0]\n",
    "        if len(p) == 0:\n",
    "            pred_binary = 0\n",
    "        elif len(p) > 0:\n",
    "            pred_binary = 1\n",
    "        \n",
    "        t = np.where(fqtest_target[i] > 0)[0]\n",
    "        if len(t) == 0:\n",
    "            targ_binary = 0\n",
    "        elif len(t) > 0:\n",
    "            targ_binary = 1\n",
    "        \n",
    "        pred = pred_binary\n",
    "        targ = targ_binary\n",
    "        \n",
    "        # Figure out what the result of the prediction is\n",
    "        \n",
    "        if pred == targ:\n",
    "            if pred == 1 and targ == 1:\n",
    "                result = 'true pos'\n",
    "            elif pred == 0 and targ == 0:\n",
    "                result = 'true neg'\n",
    "            \n",
    "        elif pred != targ:\n",
    "            if pred == 1 and targ == 0:\n",
    "                result = 'false pos'\n",
    "            elif pred == 0 and targ == 1:\n",
    "                result = 'false neg'\n",
    "        \n",
    "        analysis_array[i][3] = result\n",
    "    \n",
    "    else: # This row IS an earthquake\n",
    "        \n",
    "        rupt_num = fqtest_metadata[i][0]\n",
    "        station = fqtest_metadata[i][1]\n",
    "        mag = fqtest_metadata[i][2]\n",
    "        \n",
    "        p = np.where(fqtest_predictions[i] >= best_thresh)[0]\n",
    "        if len(p) == 0:\n",
    "            pred_binary = 0\n",
    "        elif len(p) > 0:\n",
    "            pred_binary = 1\n",
    "        \n",
    "        t = np.where(fqtest_target[i] > 0)[0]\n",
    "        if len(t) == 0:\n",
    "            targ_binary = 0\n",
    "        elif len(t) > 0:\n",
    "            targ_binary = 1\n",
    "        \n",
    "        pred = pred_binary\n",
    "        targ = targ_binary\n",
    "        \n",
    "        if pred == targ:\n",
    "            if pred == 1 and targ == 1:\n",
    "                result = 'true pos'\n",
    "            elif pred == 0 and targ == 0:\n",
    "                result = 'true neg'\n",
    "            \n",
    "        elif pred != targ:            \n",
    "            if pred == 1 and targ == 0:\n",
    "                result = 'false pos'\n",
    "            elif pred == 0 and targ == 1:\n",
    "                result = 'false neg'\n",
    "        \n",
    "        analysis_array[i][3] = result"
   ]
  },
  {
   "cell_type": "code",
   "execution_count": 8,
   "id": "f10e8e5a",
   "metadata": {},
   "outputs": [
    {
     "name": "stdout",
     "output_type": "stream",
     "text": [
      "[['newfault.001132' 'NHRG' '6.3333' 'true pos']\n",
      " ['newfault.000179' 'P462' '7.0808' 'true pos']\n",
      " ['nan' 'nan' 'nan' 'false pos']\n",
      " ...\n",
      " ['newfault.002773' 'BKAP' '4.7904' 'true pos']\n",
      " ['newfault.000388' 'P091' '7.0220' 'true pos']\n",
      " ['newfault.003291' 'P289' '4.3230' 'true pos']]\n",
      "(91740, 4)\n"
     ]
    }
   ],
   "source": [
    "print(analysis_array)\n",
    "print(analysis_array.shape)\n",
    "            \n",
    "np.save(test_outputs_path + 'fakequakes_testing/fqtest_metadata_withresults_0025.npy', analysis_array)  "
   ]
  },
  {
   "cell_type": "code",
   "execution_count": null,
   "id": "7e8f9185",
   "metadata": {},
   "outputs": [],
   "source": []
  }
 ],
 "metadata": {
  "kernelspec": {
   "display_name": "Python 3 (ipykernel)",
   "language": "python",
   "name": "python3"
  },
  "language_info": {
   "codemirror_mode": {
    "name": "ipython",
    "version": 3
   },
   "file_extension": ".py",
   "mimetype": "text/x-python",
   "name": "python",
   "nbconvert_exporter": "python",
   "pygments_lexer": "ipython3",
   "version": "3.8.8"
  }
 },
 "nbformat": 4,
 "nbformat_minor": 5
}
