{
 "cells": [
  {
   "cell_type": "code",
   "execution_count": 1,
   "id": "6c35f4a5",
   "metadata": {},
   "outputs": [],
   "source": [
    "import numpy as np\n",
    "import matplotlib.pyplot as plt\n",
    "\n",
    "project = 'newfault'\n",
    "traindate = '2024-10-01'\n",
    "testdate = '2024-10-02'\n",
    "traindate_path = '/home/sdybing/gnss-picker/cnn_models_outputs/' + project + '_fq_train/models/traindate_' + traindate + '/'\n",
    "test_outputs_path = traindate_path + 'data/'\n",
    "figure_save_dir = traindate_path + 'figures/'\n",
    "best_thresh = 0.135 # From code 2\n",
    "\n",
    "N_barpos = np.load(test_outputs_path + 'fakequakes_testing/snr_binning/SNRN_accuracy_hist_barpositions.npy')\n",
    "N_accper = np.load(test_outputs_path + 'fakequakes_testing/snr_binning/SNRN_accuracy_hist_accuracypercents.npy')\n",
    "E_barpos = np.load(test_outputs_path + 'fakequakes_testing/snr_binning/SNRE_accuracy_hist_barpositions.npy')\n",
    "E_accper = np.load(test_outputs_path + 'fakequakes_testing/snr_binning/SNRE_accuracy_hist_accuracypercents.npy')\n",
    "Z_barpos = np.load(test_outputs_path + 'fakequakes_testing/snr_binning/SNRZ_accuracy_hist_barpositions.npy')\n",
    "Z_accper = np.load(test_outputs_path + 'fakequakes_testing/snr_binning/SNRZ_accuracy_hist_accuracypercents.npy')"
   ]
  },
  {
   "cell_type": "code",
   "execution_count": 15,
   "id": "73a2d0d9",
   "metadata": {},
   "outputs": [],
   "source": [
    "width = 0.12\n",
    "\n",
    "plt.figure(figsize = (10,7), facecolor = 'white', dpi = 300)\n",
    "# plt.figure(figsize = (9,5))\n",
    "plt.grid(axis = 'y', zorder = 0)\n",
    "plt.bar(N_barpos - width, N_accper, width, color = '#2DADB4', align = 'center', edgecolor = 'black', zorder = 3, label = 'N')\n",
    "plt.bar(E_barpos, E_accper, width, color = '#001528', align = 'center', edgecolor = 'black', zorder = 3, label = 'E')\n",
    "plt.bar(Z_barpos + width, Z_accper, width, color = '#E9072D', align = 'center', edgecolor = 'black', zorder = 3, label = 'Z')\n",
    "# plt.axvline(x = np.log10(0.02), color = 'darkorange', linewidth = 3)\n",
    "plt.xlim(-4.5,2.6)\n",
    "plt.ylim(0,100)\n",
    "plt.ylabel('Accuracy (%)', fontsize = 16)\n",
    "plt.xlabel('Log SNR', fontsize = 16)\n",
    "plt.xticks([-3, -2.5, -2, -1.5, -1, -0.5, 0, 0.5, 1, 1.5, 2], fontsize = 14)\n",
    "plt.yticks(fontsize = 14)\n",
    "plt.title('Algorithm accuracy (threshold = ' + str(best_thresh) + ')', fontsize = 15)\n",
    "plt.suptitle('Log signal to noise ratio by component', fontsize = 19)\n",
    "plt.legend(fontsize = 16)\n",
    "\n",
    "# plt.show();\n",
    "plt.savefig(figure_save_dir + 'fakequakes_testing/binned_logSNRacc_allcomps.png', format='PNG')\n",
    "plt.close();\n"
   ]
  },
  {
   "cell_type": "code",
   "execution_count": null,
   "id": "a74412ea",
   "metadata": {},
   "outputs": [],
   "source": []
  }
 ],
 "metadata": {
  "kernelspec": {
   "display_name": "Python 3 (ipykernel)",
   "language": "python",
   "name": "python3"
  },
  "language_info": {
   "codemirror_mode": {
    "name": "ipython",
    "version": 3
   },
   "file_extension": ".py",
   "mimetype": "text/x-python",
   "name": "python",
   "nbconvert_exporter": "python",
   "pygments_lexer": "ipython3",
   "version": "3.8.8"
  }
 },
 "nbformat": 4,
 "nbformat_minor": 5
}
