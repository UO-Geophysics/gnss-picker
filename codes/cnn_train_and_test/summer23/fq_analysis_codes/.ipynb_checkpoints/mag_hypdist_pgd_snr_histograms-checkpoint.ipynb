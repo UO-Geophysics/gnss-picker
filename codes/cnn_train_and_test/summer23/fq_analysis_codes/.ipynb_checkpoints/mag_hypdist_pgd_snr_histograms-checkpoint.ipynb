{
 "cells": [
  {
   "cell_type": "code",
   "execution_count": 1,
   "id": "bb0a5337-76dc-4b7b-9f21-aa252e761a53",
   "metadata": {},
   "outputs": [],
   "source": [
    "import numpy as np\n",
    "import matplotlib.pyplot as plt\n",
    "\n",
    "project = 'newfault'\n",
    "traindate = '2024-10-01'\n",
    "testdate = '2024-10-02'\n",
    "traindate_path = '/home/sdybing/gnss-picker/cnn_models_outputs/' + project + '_fq_train/models/traindate_' + traindate + '/'\n",
    "test_outputs_path = traindate_path + 'data/'\n",
    "figure_save_dir = traindate_path + 'figures/'\n",
    "\n",
    "# fqtest_data = np.load(test_outputs_path + testdate + '_fqtest_norm_data.npy')\n",
    "# fqtest_metadata = np.load(test_outputs_path + testdate + '_fqtest_metadata.npy')\n",
    "# fqtest_target = np.load(test_outputs_path + testdate + '_fqtest_target.npy')\n",
    "# fqtest_predictions = np.load(test_outputs_path + testdate + '_fqtest_predictions.npy')\n",
    "\n",
    "\n"
   ]
  },
  {
   "cell_type": "code",
   "execution_count": 4,
   "id": "86a08a58-aaaa-452f-9a7a-d04723c0500a",
   "metadata": {},
   "outputs": [],
   "source": [
    "# New metadata array columns:\n",
    "\n",
    "# 0: FQ rupture name\n",
    "# 1: station name\n",
    "# 2: magnitude\n",
    "# 3: result (true pos, etc.)\n",
    "# 4: PGD\n",
    "# 5: SNR_N\n",
    "# 6: SNR_E\n",
    "# 7: SNR_Z\n",
    "# 8: FQ rupture hypocenter lat\n",
    "# 9: FQ rupture hypocenter lon\n",
    "# 10: FQ rupture hypocenter depth\n",
    "# 11: station lat\n",
    "# 12: station lon\n",
    "# 13: hypocentral distance (m)\n",
    "\n",
    "results = np.load(test_outputs_path + 'fakequakes_testing/fqtest_metadata_with_results_pgd_snr_locs_hypdists.npy')"
   ]
  },
  {
   "cell_type": "code",
   "execution_count": 7,
   "id": "72b83e04-bdf2-4c42-9e44-b715bc02bffa",
   "metadata": {},
   "outputs": [
    {
     "data": {
      "text/plain": [
       "array(['newfault.001132', 'NHRG', '6.3333', 'false neg',\n",
       "       '0.021478579700444114', '0.9797122685583282', '0.9337101853976125',\n",
       "       '1.4218615090358038', '35.72792', '-117.576757', '19.5',\n",
       "       '34.49865', '-119.14124', '197326.32165100786'], dtype='<U32')"
      ]
     },
     "execution_count": 7,
     "metadata": {},
     "output_type": "execute_result"
    }
   ],
   "source": [
    "results[0]"
   ]
  },
  {
   "cell_type": "code",
   "execution_count": 11,
   "id": "d12f0f3f-71f9-4500-9002-4127735e57fe",
   "metadata": {},
   "outputs": [
    {
     "name": "stdout",
     "output_type": "stream",
     "text": [
      "(91740,)\n"
     ]
    }
   ],
   "source": [
    "mags = results[:,2].astype(float)\n",
    "hypdists = results[:,13].astype(float)/1000\n",
    "pgds = results[:,4].astype(float)\n",
    "print(pgds.shape)"
   ]
  },
  {
   "cell_type": "code",
   "execution_count": 16,
   "id": "ec9abda0-baca-4f7c-88e9-47560dd20fe9",
   "metadata": {},
   "outputs": [
    {
     "name": "stdout",
     "output_type": "stream",
     "text": [
      "(91400,)\n"
     ]
    }
   ],
   "source": [
    "mean_snrs = []\n",
    "\n",
    "for i in range(len(results)):\n",
    "    \n",
    "    snrn = results[i,5].astype(float)\n",
    "    snre = results[i,6].astype(float)\n",
    "    snrz = results[i,7].astype(float)\n",
    "    \n",
    "    mean_snr = (snrn + snre + snrz) / 3\n",
    "    if mean_snr != 0:\n",
    "        mean_snrs.append(mean_snr)\n",
    "mean_snrs = np.array(mean_snrs)\n",
    "print(mean_snrs.shape)"
   ]
  },
  {
   "cell_type": "code",
   "execution_count": 39,
   "id": "4523c8b7-3b86-4cdc-a346-357fff850fbe",
   "metadata": {},
   "outputs": [],
   "source": [
    "plt.figure(figsize = (10,8), dpi = 400)\n",
    "\n",
    "plt.subplot(221)\n",
    "plt.hist(mags, bins = 50, color = 'lightskyblue', edgecolor = 'black')\n",
    "plt.xlabel('Magnitude', fontsize = 12)\n",
    "plt.ylabel('Count', fontsize = 12)\n",
    "plt.tick_params(labelsize = 11)\n",
    "\n",
    "plt.subplot(222)\n",
    "plt.hist(hypdists, bins = 50, color = 'lightskyblue', edgecolor = 'black')\n",
    "plt.xlabel('Hypocentral distance (km)', fontsize = 12)\n",
    "# plt.ylabel('Count', fontsize = 12)\n",
    "plt.tick_params(labelsize = 11)\n",
    "\n",
    "plt.subplot(223)\n",
    "plt.hist(np.log10(pgds), bins = 50, color = 'lightskyblue', edgecolor = 'black')\n",
    "log_xticks = plt.gca().get_xticks()\n",
    "xtick_labels = [f'{100*10**x:.1f}' for x in log_xticks]\n",
    "plt.xticks(log_xticks, xtick_labels)\n",
    "# plt.xlim(0.1,100)\n",
    "plt.xlabel('Peak ground displacement (cm)', fontsize = 12)\n",
    "plt.ylabel('Count', fontsize = 12)\n",
    "plt.tick_params(labelsize = 11)\n",
    "\n",
    "plt.subplot(224)\n",
    "plt.hist(np.log10(mean_snrs), bins = 50, color = 'lightskyblue', edgecolor = 'black')\n",
    "log_xticks = plt.gca().get_xticks()\n",
    "xtick_labels = [f'{10**x:.1f}' for x in log_xticks]\n",
    "plt.xticks(log_xticks, xtick_labels)\n",
    "plt.xlabel('Signal to noise ratio', fontsize = 12)\n",
    "# plt.ylabel('Count', fontsize = 12)\n",
    "plt.tick_params(labelsize = 11)\n",
    "\n",
    "plt.subplots_adjust(wspace = 0.2)\n",
    "\n",
    "# plt.show()\n",
    "\n",
    "plt.savefig('/home/sdybing/gnss-picker/manuscript_figures/fq_testdata_param_hists.jpg', format = 'JPG')\n",
    "plt.close();"
   ]
  },
  {
   "cell_type": "code",
   "execution_count": null,
   "id": "64b240ae-2c1c-4d53-8ced-8dd5706e1396",
   "metadata": {},
   "outputs": [],
   "source": []
  },
  {
   "cell_type": "code",
   "execution_count": null,
   "id": "8ac07afa-cca8-47a9-878c-cbc8312ec9d2",
   "metadata": {},
   "outputs": [],
   "source": []
  }
 ],
 "metadata": {
  "kernelspec": {
   "display_name": "Python 3 (ipykernel)",
   "language": "python",
   "name": "python3"
  },
  "language_info": {
   "codemirror_mode": {
    "name": "ipython",
    "version": 3
   },
   "file_extension": ".py",
   "mimetype": "text/x-python",
   "name": "python",
   "nbconvert_exporter": "python",
   "pygments_lexer": "ipython3",
   "version": "3.8.8"
  }
 },
 "nbformat": 4,
 "nbformat_minor": 5
}
