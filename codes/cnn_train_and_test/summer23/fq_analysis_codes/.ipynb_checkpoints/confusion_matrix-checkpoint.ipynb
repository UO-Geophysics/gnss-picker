{
 "cells": [
  {
   "cell_type": "code",
   "execution_count": 1,
   "id": "763fa00c-e6e3-4b87-a407-d0d879081c33",
   "metadata": {},
   "outputs": [],
   "source": [
    "import numpy as np\n",
    "import matplotlib.pyplot as plt\n",
    "import matplotlib.ticker as ticker\n",
    "\n",
    "project = 'newfault'\n",
    "traindate = '2024-10-01'\n",
    "testdate = '2024-10-02'\n",
    "traindate_path = '/home/sdybing/gnss-picker/cnn_models_outputs/' + project + '_fq_train/models/traindate_' + traindate + '/'\n",
    "test_outputs_path = traindate_path + 'data/'\n",
    "figure_save_dir = traindate_path + 'figures/'\n",
    "\n",
    "\n",
    "\n",
    "\n"
   ]
  },
  {
   "cell_type": "code",
   "execution_count": 2,
   "id": "011910f8-7a7a-421b-8ec8-dd9d7be10e83",
   "metadata": {},
   "outputs": [],
   "source": [
    "fqtest_data = np.load(test_outputs_path + testdate + '_fqtest_norm_data.npy')\n",
    "fqtest_metadata = np.load(test_outputs_path + testdate + '_fqtest_metadata.npy')\n",
    "fqtest_target = np.load(test_outputs_path + testdate + '_fqtest_target.npy')\n",
    "fqtest_predictions = np.load(test_outputs_path + testdate + '_fqtest_predictions.npy')"
   ]
  },
  {
   "cell_type": "code",
   "execution_count": 3,
   "id": "9cd9917d-552a-4ea5-bf48-1faad538aa97",
   "metadata": {},
   "outputs": [],
   "source": [
    "num_fqtest = len(fqtest_predictions)\n",
    "best_thresh = 0.025 # From code 2\n",
    "\n",
    "zeros = np.zeros((fqtest_predictions.shape[0],1))\n",
    "analysis_array = np.c_[fqtest_metadata, zeros] # Adds a column of zeros to the metadata array to initialize"
   ]
  },
  {
   "cell_type": "code",
   "execution_count": 4,
   "id": "757ef646-2ee6-42d4-8e03-acce1a56b2f3",
   "metadata": {},
   "outputs": [],
   "source": [
    "results = np.load(test_outputs_path + 'fakequakes_testing/fqtest_metadata_withresults_0025.npy')"
   ]
  },
  {
   "cell_type": "code",
   "execution_count": 5,
   "id": "f7a7ce85-734c-4464-a18d-4e28169dadc4",
   "metadata": {},
   "outputs": [
    {
     "data": {
      "text/plain": [
       "array(['true pos', 'true pos', 'false pos', ..., 'true pos', 'true pos',\n",
       "       'true pos'], dtype='<U32')"
      ]
     },
     "execution_count": 5,
     "metadata": {},
     "output_type": "execute_result"
    }
   ],
   "source": [
    "results[:,3]"
   ]
  },
  {
   "cell_type": "code",
   "execution_count": null,
   "id": "2a164a65-f36b-4a1c-a973-16dfc7951b2b",
   "metadata": {},
   "outputs": [],
   "source": []
  },
  {
   "cell_type": "code",
   "execution_count": 7,
   "id": "a5c2e76b-8e1f-48f0-bee1-983c8965e488",
   "metadata": {},
   "outputs": [],
   "source": [
    "threshs = ['0025', '0135', '0835']\n",
    "\n",
    "for thresh in threshs:\n",
    "    \n",
    "    if thresh == '0135':\n",
    "        results = np.load(test_outputs_path + 'fakequakes_testing/fqtest_metadata_withresults.npy')\n",
    "    else:\n",
    "        results = np.load(test_outputs_path + 'fakequakes_testing/fqtest_metadata_withresults_' + thresh + '.npy')\n",
    "    \n",
    "    tp = 0\n",
    "    tn = 0\n",
    "    fp = 0\n",
    "    fn = 0\n",
    "\n",
    "    for i in range(len(results)):\n",
    "\n",
    "        result = results[i,3]\n",
    "    #     print(result)\n",
    "        if result == 'true pos':\n",
    "            tp += 1\n",
    "        elif result == 'true neg':\n",
    "            tn += 1\n",
    "        elif result == 'false pos':\n",
    "            fp += 1\n",
    "        elif result == 'false neg':\n",
    "            fn += 1\n",
    "        else:\n",
    "            print('Error')\n",
    "\n",
    "    # Define confusion matrix values\n",
    "    # Format: [[TN, FP], [FN, TP]]\n",
    "    conf_matrix = np.array([[tn, fp],   # TN, FP\n",
    "                            [fn, tp]])  # FN, TP\n",
    "    conf_matrix_names = np.array([['TN', 'FP'],   # TN, FP\n",
    "                            ['FN', 'TP']])\n",
    "\n",
    "    # Create a figure and a single subplot\n",
    "    fig, ax = plt.subplots(dpi = 400)\n",
    "\n",
    "    # Plot the matrix with transposed axes (True on x-axis, Predicted on y-axis)\n",
    "    cax = ax.imshow(conf_matrix.T, cmap='Blues', vmin = 0, vmax = 92000)\n",
    "    ax.set_xticks(np.arange(-0.5, conf_matrix.shape[0], 1), minor=True)\n",
    "    ax.set_yticks(np.arange(-0.5, conf_matrix.shape[1], 1), minor=True)\n",
    "    ax.grid(which='minor', color='gray', linestyle='-', linewidth=0.5)\n",
    "\n",
    "    # Turn off the ticks (optional, for cleaner look)\n",
    "    ax.tick_params(which='minor', bottom=False, left=False)\n",
    "\n",
    "    # Add colorbar for scale\n",
    "    cbar = plt.colorbar(cax, label = 'Count')\n",
    "    \n",
    "    # Use scientific notation for the colorbar\n",
    "    cbar.ax.yaxis.set_major_formatter(ticker.ScalarFormatter(useMathText=True))\n",
    "    cbar.ax.yaxis.get_major_formatter().set_scientific(True)\n",
    "    cbar.ax.yaxis.get_major_formatter().set_powerlimits((0, 0))  # Forces scientific notation\n",
    "\n",
    "    # Define class names\n",
    "    classes = ['Noise', 'Earthquake']\n",
    "\n",
    "    # Add labels for x and y axes (swapped now)\n",
    "    ax.set_xticks(np.arange(len(classes)))\n",
    "    ax.set_yticks(np.arange(len(classes)))\n",
    "    ax.set_xticklabels(classes, fontsize = 12)\n",
    "    ax.set_yticklabels(classes, fontsize = 12, rotation = 90, va = 'center')\n",
    "\n",
    "    # Add axis labels (swapped)\n",
    "    plt.xlabel('Actual label', fontsize = 14)\n",
    "    plt.ylabel('Predicted label', fontsize = 14)\n",
    "\n",
    "    # Annotate each cell with the TP, TN, FP, FN values\n",
    "    for i in range(conf_matrix.shape[0]):\n",
    "        for j in range(conf_matrix.shape[1]):\n",
    "            if i == 1 and j == 0 or i == 0 and j == 1:\n",
    "                color = 'tomato'\n",
    "            else:\n",
    "                color = 'black'\n",
    "            ax.text(i, j-0.18, f'{conf_matrix_names[i, j]}', ha='center', va='center', color=color, fontsize=24)\n",
    "            ax.text(i, j, f'{round((conf_matrix[i, j]/len(results))*100,1)}%', ha='center', va='center', color=color, fontsize=20)\n",
    "            ax.text(i, j+0.15, f'{conf_matrix[i, j]}', ha='center', va='center', color=color, fontsize=14)\n",
    "\n",
    "    # Display the plot\n",
    "#     plt.show()\n",
    "\n",
    "    plt.savefig('/home/sdybing/gnss-picker/manuscript_figures/fq_testdata_confusion_matrix_' + thresh + '.jpg', format = 'JPG')\n",
    "    plt.close();"
   ]
  },
  {
   "cell_type": "code",
   "execution_count": 12,
   "id": "816f5d9f-72d4-45fb-93ca-3c3da24ab2c7",
   "metadata": {},
   "outputs": [
    {
     "name": "stdout",
     "output_type": "stream",
     "text": [
      "4572\n",
      "45870\n",
      "0\n",
      "41298\n"
     ]
    }
   ],
   "source": [
    "print(tp)\n",
    "print(tn)\n",
    "print(fp)\n",
    "print(fn)"
   ]
  },
  {
   "cell_type": "code",
   "execution_count": null,
   "id": "3d409605-b499-4851-bdda-a6d1ce6cc9f9",
   "metadata": {},
   "outputs": [],
   "source": []
  }
 ],
 "metadata": {
  "kernelspec": {
   "display_name": "Python 3 (ipykernel)",
   "language": "python",
   "name": "python3"
  },
  "language_info": {
   "codemirror_mode": {
    "name": "ipython",
    "version": 3
   },
   "file_extension": ".py",
   "mimetype": "text/x-python",
   "name": "python",
   "nbconvert_exporter": "python",
   "pygments_lexer": "ipython3",
   "version": "3.8.8"
  }
 },
 "nbformat": 4,
 "nbformat_minor": 5
}
