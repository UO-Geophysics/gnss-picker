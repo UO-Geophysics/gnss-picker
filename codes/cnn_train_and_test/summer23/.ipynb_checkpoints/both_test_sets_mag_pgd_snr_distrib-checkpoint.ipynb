{
 "cells": [
  {
   "cell_type": "code",
   "execution_count": 1,
   "id": "1e68e771-6f24-4b5c-86a4-f25b9d4b1e37",
   "metadata": {},
   "outputs": [],
   "source": [
    "import numpy as np\n",
    "import matplotlib.pyplot as plt\n",
    "\n",
    "project = 'newfault'\n",
    "traindate = '2024-10-01'\n",
    "testdate = '2024-10-02'"
   ]
  },
  {
   "cell_type": "code",
   "execution_count": 2,
   "id": "0ffff770-7eee-4a58-a907-3b7b66f5b372",
   "metadata": {},
   "outputs": [],
   "source": [
    "traindate_path = '/home/sdybing/gnss-picker/cnn_models_outputs/' + project + '_fq_train/models/traindate_' + traindate + '/'\n",
    "test_outputs_path = traindate_path + 'data/'"
   ]
  },
  {
   "cell_type": "code",
   "execution_count": 3,
   "id": "ea743e46-9c3c-4726-87a9-4e6d49b4a2a9",
   "metadata": {},
   "outputs": [],
   "source": [
    "fq_data = np.load(test_outputs_path + 'fakequakes_testing/fqtest_metadata_with_results_pgd_snr.npy')\n",
    "real_data = np.load(test_outputs_path + 'real_testing/realtest_metadata_with_results_pgd_snr_thresh0135.npy')"
   ]
  },
  {
   "cell_type": "code",
   "execution_count": 4,
   "id": "b2290187-7e40-4bd5-adaa-23ced603366f",
   "metadata": {},
   "outputs": [
    {
     "data": {
      "text/plain": [
       "(91740, 8)"
      ]
     },
     "execution_count": 4,
     "metadata": {},
     "output_type": "execute_result"
    }
   ],
   "source": [
    "fq_data.shape\n",
    "\n",
    "# Columns:\n",
    "\n",
    "# 0: FQ rupture name\n",
    "# 1: station name\n",
    "# 2: magnitude\n",
    "# 3: result (true pos, etc.)\n",
    "# 4: PGD\n",
    "# 5: SNR_N\n",
    "# 6: SNR_E\n",
    "# 7: SNR_Z"
   ]
  },
  {
   "cell_type": "code",
   "execution_count": 17,
   "id": "f8bb0623-83ca-4db5-a464-bb9bf01e51cc",
   "metadata": {},
   "outputs": [
    {
     "data": {
      "text/plain": [
       "array(['0.021478579700444114', '0.0873697005155612', 'nan', ...,\n",
       "       '0.02274141843615323', '0.043099325463591596',\n",
       "       '0.025060728870480848'], dtype='<U32')"
      ]
     },
     "execution_count": 17,
     "metadata": {},
     "output_type": "execute_result"
    }
   ],
   "source": [
    "fq_data[:,4]"
   ]
  },
  {
   "cell_type": "code",
   "execution_count": 6,
   "id": "a117f8fc-47f9-4d21-9e5b-3c1a77ff8d12",
   "metadata": {},
   "outputs": [
    {
     "name": "stdout",
     "output_type": "stream",
     "text": [
      "(45870,)\n",
      "(45870,)\n",
      "(91740,)\n",
      "(41537,)\n"
     ]
    }
   ],
   "source": [
    "fqmags = []\n",
    "fqpgds = []\n",
    "fqmean_snrs = []\n",
    "fqonly_good_ones = []\n",
    "\n",
    "for idx in range(len(fq_data)):\n",
    "    \n",
    "    mag = fq_data[idx,2]\n",
    "    pgd = fq_data[idx,4]\n",
    "    snrn = fq_data[idx,5]\n",
    "    snre = fq_data[idx,6]\n",
    "    snrz = fq_data[idx,7]\n",
    "    \n",
    "    if mag != 'nan':\n",
    "        fqmags.append(mag)\n",
    "    \n",
    "    if pgd != 'nan':\n",
    "        fqpgds.append(pgd)\n",
    "    \n",
    "    if snrn == 'nan' or float(snrn) == 0:\n",
    "        fqmean_snrs.append('nan')\n",
    "    \n",
    "    else:\n",
    "        mean_snr = (float(snrn) + float(snre) + float(snrz))/3\n",
    "        fqmean_snrs.append(mean_snr)\n",
    "        fqonly_good_ones.append(mean_snr)\n",
    "        \n",
    "fqmags = np.array(fqmags).astype(float)\n",
    "fqpgds = np.array(fqpgds).astype(float)\n",
    "fqmean_snrs = np.array(fqmean_snrs).astype(float)\n",
    "fqmean_snrs_nonan = np.array(fqonly_good_ones).astype(float)\n",
    "\n",
    "print(fqmags.shape)\n",
    "print(fqpgds.shape)\n",
    "print(fqmean_snrs.shape)\n",
    "print(fqmean_snrs_nonan.shape)\n",
    "\n",
    "# n = np.where(mags > 6.5)[0]\n",
    "# print(len(n)/len(mags))\n",
    "\n",
    "# l = np.where(pgds > 0.05)[0]\n",
    "# print(len(l)/len(pgds))\n",
    "\n",
    "# o = np.where(mean_snrs_nonan > 2)[0]\n",
    "# print(len(o)/len(mean_snrs_nonan))"
   ]
  },
  {
   "cell_type": "code",
   "execution_count": 7,
   "id": "08981107-532e-42a2-b69d-bfd10bdcad70",
   "metadata": {},
   "outputs": [
    {
     "data": {
      "text/plain": [
       "(994155, 13)"
      ]
     },
     "execution_count": 7,
     "metadata": {},
     "output_type": "execute_result"
    }
   ],
   "source": [
    "real_data.shape\n",
    "\n",
    "# New metadata array columns:\n",
    "\n",
    "# 0: station name\n",
    "# 1: date sample came from\n",
    "# 2: sample start time\n",
    "# 3: sample end time\n",
    "# 4: random n counter\n",
    "# 5: sample P-wave arrives at (gauss pos)\n",
    "# 6: earthquake magnitude\n",
    "# 7: result\n",
    "# 8: PGD\n",
    "# 9: SNR N\n",
    "# 10: SNR E\n",
    "# 11: SNR Z\n",
    "# 12: mean SNR"
   ]
  },
  {
   "cell_type": "code",
   "execution_count": 19,
   "id": "22761ece-9ab3-47ed-b045-122ac3115891",
   "metadata": {},
   "outputs": [
    {
     "data": {
      "text/plain": [
       "array(['nan', 'nan', 'nan', ..., 'nan', 'nan', 'nan'], dtype='<U32')"
      ]
     },
     "execution_count": 19,
     "metadata": {},
     "output_type": "execute_result"
    }
   ],
   "source": [
    "real_data[:,8]"
   ]
  },
  {
   "cell_type": "code",
   "execution_count": 15,
   "id": "c0bd0d24-7a70-49e6-b090-949c49b39895",
   "metadata": {},
   "outputs": [
    {
     "name": "stdout",
     "output_type": "stream",
     "text": [
      "(2123,)\n",
      "(2123,)\n",
      "(994155,)\n",
      "(1842,)\n"
     ]
    }
   ],
   "source": [
    "realmags = []\n",
    "realpgds = []\n",
    "realmean_snrs = []\n",
    "realonly_good_ones = []\n",
    "\n",
    "for idx in range(len(real_data)):\n",
    "    \n",
    "    mag = real_data[idx,6]\n",
    "    pgd = real_data[idx,8]\n",
    "    mean_snr = real_data[idx,12]\n",
    "    \n",
    "    if mag != 'nan':\n",
    "        realmags.append(mag)\n",
    "    \n",
    "    if pgd != 'nan':\n",
    "        realpgds.append(pgd)\n",
    "    \n",
    "    if mean_snr == 'nan' or float(mean_snr) == 0:\n",
    "        realmean_snrs.append('nan')\n",
    "    \n",
    "    else:\n",
    "        mean_snr = mean_snr.astype(float)\n",
    "        realmean_snrs.append(mean_snr)\n",
    "        realonly_good_ones.append(mean_snr)\n",
    "        \n",
    "realmags = np.array(realmags).astype(float)\n",
    "realpgds = np.array(realpgds).astype(float)\n",
    "realmean_snrs = np.array(realmean_snrs).astype(float)\n",
    "realmean_snrs_nonan = np.array(realonly_good_ones).astype(float)\n",
    "\n",
    "print(realmags.shape)\n",
    "print(realpgds.shape)\n",
    "print(realmean_snrs.shape)\n",
    "print(realmean_snrs_nonan.shape)\n",
    "\n",
    "# n = np.where(mags > 6.5)[0]\n",
    "# print(len(n)/len(mags))\n",
    "\n",
    "# l = np.where(pgds > 0.05)[0]\n",
    "# print(len(l)/len(pgds))\n",
    "\n",
    "# o = np.where(mean_snrs_nonan > 2)[0]\n",
    "# print(len(o)/len(mean_snrs_nonan))"
   ]
  },
  {
   "cell_type": "code",
   "execution_count": 27,
   "id": "eab02b17-1d9f-4cd4-b8e0-04a9afbfc483",
   "metadata": {},
   "outputs": [
    {
     "data": {
      "text/plain": [
       "7.7934"
      ]
     },
     "execution_count": 27,
     "metadata": {},
     "output_type": "execute_result"
    }
   ],
   "source": [
    "max(fqmags)"
   ]
  },
  {
   "cell_type": "code",
   "execution_count": 88,
   "id": "cf51e5f4-5812-488b-85e4-06b08b7ba378",
   "metadata": {},
   "outputs": [],
   "source": [
    "plt.figure(figsize = (12,8), dpi = 400)\n",
    "\n",
    "plt.subplot(231)\n",
    "plt.text(x = 1.9, y = 1420, s = '(a)', fontsize = 22)\n",
    "plt.grid(lw = 0.5, color = 'gray', zorder = 0)\n",
    "plt.hist(fqmags, bins = 50, color = '#2DADB4', edgecolor = 'black', lw = 0.5, zorder = 3)\n",
    "plt.tick_params(axis = 'both', bottom = False, labelbottom = False, labelsize = 11)\n",
    "plt.xlim(3.5,8)\n",
    "plt.ylabel('Count', fontsize = 12)\n",
    "\n",
    "plt.subplot(232)\n",
    "plt.text(x = -0.55, y = 6500, s = '(b)', fontsize = 22)\n",
    "plt.grid(lw = 0.5, color = 'gray', zorder = 0)\n",
    "plt.hist(np.log10(fqpgds*100), bins = 50, color = '#2DADB4', edgecolor = 'black', lw = 0.5, zorder = 3)\n",
    "plt.tick_params(axis = 'both', bottom = False, labelbottom = False, labelsize = 11)\n",
    "plt.xlim(-0.1,1.75)\n",
    "\n",
    "plt.subplot(233)\n",
    "plt.text(x = -2.4, y = 10550, s = '(c)', fontsize = 22)\n",
    "plt.grid(lw = 0.5, color = 'gray', zorder = 0)\n",
    "plt.hist(np.log10(fqmean_snrs), bins = 50, color = '#2DADB4', edgecolor = 'black', lw = 0.5, zorder = 3)\n",
    "plt.tick_params(axis = 'both', bottom = False, labelbottom = False, labelsize = 11)\n",
    "plt.xlim(-1.5,2.5)\n",
    "\n",
    "plt.subplot(234)\n",
    "plt.text(x = 1.9, y = 557, s = '(d)', fontsize = 22)\n",
    "plt.grid(lw = 0.5, color = 'gray', zorder = 0)\n",
    "plt.hist(realmags, bins = 35, color = '#f01f42', edgecolor = 'black', lw = 0.5, zorder = 3)\n",
    "plt.xlim(3.5,8)\n",
    "plt.yticks([0, 100, 200, 300, 400, 500])\n",
    "plt.tick_params(labelsize = 11)\n",
    "plt.xlabel('Earthquake magnitude', fontsize = 12)\n",
    "plt.ylabel('Count', fontsize = 12)\n",
    "\n",
    "plt.subplot(235)\n",
    "plt.text(x = -0.55, y = 270, s = '(e)', fontsize = 22)\n",
    "plt.grid(lw = 0.5, color = 'gray', zorder = 0)\n",
    "plt.hist(np.log10(realpgds*100), bins = 35, color = '#f01f42', edgecolor = 'black', lw = 0.5, zorder = 3)\n",
    "plt.xlim(-0.1,1.75)\n",
    "plt.tick_params(labelsize = 11)\n",
    "plt.xlabel('log10 of PGD (cm)', fontsize = 12)\n",
    "\n",
    "plt.subplot(236)\n",
    "plt.text(x = -2.4, y = 557, s = '(f)', fontsize = 22)\n",
    "plt.grid(lw = 0.5, color = 'gray', zorder = 0)\n",
    "plt.hist(np.log10(realmean_snrs), bins = 35, color = '#f01f42', edgecolor = 'black', lw = 0.5, zorder = 3)\n",
    "plt.xlim(-1.5,2.5)\n",
    "plt.yticks([0, 100, 200, 300, 400, 500])\n",
    "plt.tick_params(labelsize = 11)\n",
    "plt.xlabel('Mean SNR', fontsize = 12)\n",
    "\n",
    "plt.subplots_adjust(hspace = 0, wspace = 0.25)\n",
    "\n",
    "# plt.show();\n",
    "\n",
    "plt.savefig('/home/sdybing/gnss-picker/manuscript_figures/fq_real_mag_pgd_snr_hists.jpg', format = 'JPG')\n",
    "plt.close();"
   ]
  },
  {
   "cell_type": "code",
   "execution_count": null,
   "id": "540909ac-e464-4e61-ba03-c0150915ff2a",
   "metadata": {},
   "outputs": [],
   "source": []
  }
 ],
 "metadata": {
  "kernelspec": {
   "display_name": "Python 3 (ipykernel)",
   "language": "python",
   "name": "python3"
  },
  "language_info": {
   "codemirror_mode": {
    "name": "ipython",
    "version": 3
   },
   "file_extension": ".py",
   "mimetype": "text/x-python",
   "name": "python",
   "nbconvert_exporter": "python",
   "pygments_lexer": "ipython3",
   "version": "3.8.8"
  }
 },
 "nbformat": 4,
 "nbformat_minor": 5
}
