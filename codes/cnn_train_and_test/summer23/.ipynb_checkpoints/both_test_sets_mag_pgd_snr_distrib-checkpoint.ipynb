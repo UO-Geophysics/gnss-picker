{
 "cells": [
  {
   "cell_type": "code",
   "execution_count": 1,
   "id": "1e68e771-6f24-4b5c-86a4-f25b9d4b1e37",
   "metadata": {},
   "outputs": [],
   "source": [
    "import numpy as np\n",
    "import matplotlib.pyplot as plt\n",
    "\n",
    "project = 'newfault'\n",
    "traindate = '2024-10-01'\n",
    "testdate = '2024-10-02'"
   ]
  },
  {
   "cell_type": "code",
   "execution_count": 2,
   "id": "0ffff770-7eee-4a58-a907-3b7b66f5b372",
   "metadata": {},
   "outputs": [],
   "source": [
    "traindate_path = '/home/sdybing/gnss-picker/cnn_models_outputs/' + project + '_fq_train/models/traindate_' + traindate + '/'\n",
    "test_outputs_path = traindate_path + 'data/'"
   ]
  },
  {
   "cell_type": "code",
   "execution_count": 6,
   "id": "ea743e46-9c3c-4726-87a9-4e6d49b4a2a9",
   "metadata": {},
   "outputs": [],
   "source": [
    "fq_data = np.load(test_outputs_path + 'fakequakes_testing/fqtest_metadata_with_results_pgd_snr.npy')\n",
    "real_data = np.load(test_outputs_path + 'real_testing/realtest_metadata_with_results_pgd_snr_thresh0135.npy')"
   ]
  },
  {
   "cell_type": "code",
   "execution_count": 8,
   "id": "b2290187-7e40-4bd5-adaa-23ced603366f",
   "metadata": {},
   "outputs": [
    {
     "data": {
      "text/plain": [
       "(91740, 8)"
      ]
     },
     "execution_count": 8,
     "metadata": {},
     "output_type": "execute_result"
    }
   ],
   "source": [
    "fq_data.shape\n",
    "\n",
    "# Columns:\n",
    "\n",
    "# 0: FQ rupture name\n",
    "# 1: station name\n",
    "# 2: magnitude\n",
    "# 3: result (true pos, etc.)\n",
    "# 4: PGD\n",
    "# 5: SNR_N\n",
    "# 6: SNR_E\n",
    "# 7: SNR_Z"
   ]
  },
  {
   "cell_type": "code",
   "execution_count": 19,
   "id": "a117f8fc-47f9-4d21-9e5b-3c1a77ff8d12",
   "metadata": {},
   "outputs": [],
   "source": [
    "mags = []\n",
    "pgds = []\n",
    "mean_snrs = []\n",
    "only_good_ones = []\n",
    "\n",
    "for idx in range(len(fq_data)):\n",
    "    \n",
    "    mag = fq_data[idx,2]\n",
    "    pgd = fq_data[idx,4]\n",
    "    snrn = fq_data[idx,5]\n",
    "    snre = fq_data[idx,6]\n",
    "    snrz = fq_data[idx,7]\n",
    "    \n",
    "    if mag != 'nan':\n",
    "        mags.append(mag)\n",
    "    \n",
    "    if pgd != 'nan':\n",
    "        pgds.append(pgd)\n",
    "    \n",
    "    if snrn == 'nan' or float(snrn) == 0:\n",
    "        mean_snrs.append('nan')\n",
    "    \n",
    "    else:\n",
    "        mean_snr = (float(snrn) + float(snre) + float(snrz))/3\n",
    "        mean_snrs.append(mean_snr)\n",
    "        only_good_ones.append(mean_snr)\n",
    "        \n",
    "mags = np.array(mags).astype(float)\n",
    "pgds = np.array(pgds).astype(float)\n",
    "mean_snrs = np.array(mean_snrs).astype(float)\n",
    "mean_snrs_nonan = np.array(only_good_ones).astype(float)"
   ]
  },
  {
   "cell_type": "code",
   "execution_count": 20,
   "id": "fade7593-b108-4f6a-8fd9-7035dd571e8f",
   "metadata": {},
   "outputs": [
    {
     "name": "stdout",
     "output_type": "stream",
     "text": [
      "(45870,)\n",
      "(45870,)\n",
      "(91740,)\n",
      "(41537,)\n"
     ]
    }
   ],
   "source": [
    "print(mags.shape)\n",
    "print(pgds.shape)\n",
    "print(mean_snrs.shape)\n",
    "print(mean_snrs_nonan.shape)"
   ]
  },
  {
   "cell_type": "code",
   "execution_count": 33,
   "id": "e011b4f5-befe-4c7d-943b-20545ec2a100",
   "metadata": {},
   "outputs": [
    {
     "name": "stdout",
     "output_type": "stream",
     "text": [
      "0.30023980815347723\n",
      "0.10706344015696534\n",
      "0.053494474805595014\n"
     ]
    }
   ],
   "source": [
    "n = np.where(mags > 6.5)[0]\n",
    "print(len(n)/len(mags))\n",
    "\n",
    "l = np.where(pgds > 0.05)[0]\n",
    "print(len(l)/len(pgds))\n",
    "\n",
    "o = np.where(mean_snrs_nonan > 2)[0]\n",
    "print(len(o)/len(mean_snrs_nonan))"
   ]
  },
  {
   "cell_type": "code",
   "execution_count": 9,
   "id": "08981107-532e-42a2-b69d-bfd10bdcad70",
   "metadata": {},
   "outputs": [
    {
     "data": {
      "text/plain": [
       "(994155, 13)"
      ]
     },
     "execution_count": 9,
     "metadata": {},
     "output_type": "execute_result"
    }
   ],
   "source": [
    "real_data.shape\n",
    "\n",
    "# New metadata array columns:\n",
    "\n",
    "# 0: station name\n",
    "# 1: date sample came from\n",
    "# 2: sample start time\n",
    "# 3: sample end time\n",
    "# 4: random n counter\n",
    "# 5: sample P-wave arrives at (gauss pos)\n",
    "# 6: earthquake magnitude\n",
    "# 7: result\n",
    "# 8: PGD\n",
    "# 9: SNR N\n",
    "# 10: SNR E\n",
    "# 11: SNR Z\n",
    "# 12: mean SNR"
   ]
  },
  {
   "cell_type": "code",
   "execution_count": 34,
   "id": "c0bd0d24-7a70-49e6-b090-949c49b39895",
   "metadata": {},
   "outputs": [],
   "source": [
    "mags = []\n",
    "pgds = []\n",
    "mean_snrs = []\n",
    "only_good_ones = []\n",
    "\n",
    "for idx in range(len(real_data)):\n",
    "    \n",
    "    mag = real_data[idx,6]\n",
    "    pgd = real_data[idx,8]\n",
    "    mean_snr = real_data[idx,12]\n",
    "    \n",
    "    if mag != 'nan':\n",
    "        mags.append(mag)\n",
    "    \n",
    "    if pgd != 'nan':\n",
    "        pgds.append(pgd)\n",
    "    \n",
    "    if mean_snr == 'nan' or float(mean_snr) == 0:\n",
    "        mean_snrs.append('nan')\n",
    "    \n",
    "    else:\n",
    "        mean_snr = mean_snr.astype(float)\n",
    "        mean_snrs.append(mean_snr)\n",
    "        only_good_ones.append(mean_snr)\n",
    "        \n",
    "mags = np.array(mags).astype(float)\n",
    "pgds = np.array(pgds).astype(float)\n",
    "mean_snrs = np.array(mean_snrs).astype(float)\n",
    "mean_snrs_nonan = np.array(only_good_ones).astype(float)"
   ]
  },
  {
   "cell_type": "code",
   "execution_count": 35,
   "id": "5a3a7939-85ef-4369-b293-9cd70abe5ada",
   "metadata": {},
   "outputs": [
    {
     "name": "stdout",
     "output_type": "stream",
     "text": [
      "(2123,)\n",
      "(2123,)\n",
      "(994155,)\n",
      "(1842,)\n"
     ]
    }
   ],
   "source": [
    "print(mags.shape)\n",
    "print(pgds.shape)\n",
    "print(mean_snrs.shape)\n",
    "print(mean_snrs_nonan.shape)"
   ]
  },
  {
   "cell_type": "code",
   "execution_count": 36,
   "id": "4d89ae64-1fe1-4267-9a82-2463d27a2744",
   "metadata": {},
   "outputs": [
    {
     "name": "stdout",
     "output_type": "stream",
     "text": [
      "0.01460197833254828\n",
      "0.07112576542628356\n",
      "0.019543973941368076\n"
     ]
    }
   ],
   "source": [
    "n = np.where(mags > 6.5)[0]\n",
    "print(len(n)/len(mags))\n",
    "\n",
    "l = np.where(pgds > 0.05)[0]\n",
    "print(len(l)/len(pgds))\n",
    "\n",
    "o = np.where(mean_snrs_nonan > 2)[0]\n",
    "print(len(o)/len(mean_snrs_nonan))"
   ]
  },
  {
   "cell_type": "code",
   "execution_count": null,
   "id": "cf51e5f4-5812-488b-85e4-06b08b7ba378",
   "metadata": {},
   "outputs": [],
   "source": []
  }
 ],
 "metadata": {
  "kernelspec": {
   "display_name": "Python 3 (ipykernel)",
   "language": "python",
   "name": "python3"
  },
  "language_info": {
   "codemirror_mode": {
    "name": "ipython",
    "version": 3
   },
   "file_extension": ".py",
   "mimetype": "text/x-python",
   "name": "python",
   "nbconvert_exporter": "python",
   "pygments_lexer": "ipython3",
   "version": "3.8.8"
  }
 },
 "nbformat": 4,
 "nbformat_minor": 5
}
