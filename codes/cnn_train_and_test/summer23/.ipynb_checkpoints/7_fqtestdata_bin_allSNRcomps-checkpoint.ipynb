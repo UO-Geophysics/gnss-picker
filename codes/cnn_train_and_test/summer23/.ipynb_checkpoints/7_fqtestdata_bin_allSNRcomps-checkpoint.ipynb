{
 "cells": [
  {
   "cell_type": "code",
   "execution_count": 1,
   "id": "6c35f4a5",
   "metadata": {},
   "outputs": [],
   "source": [
    "import numpy as np\n",
    "import matplotlib.pyplot as plt\n",
    "\n",
    "project = 'july6'\n",
    "traindate = '2023-07-27'\n",
    "testdate = '2023-07-28'\n",
    "traindate_path = '/Users/sydneydybing/gnss-picker/cnn_models_outputs/' + project + '_fq_train/models/traindate_' + traindate + '/'\n",
    "test_outputs_path = traindate_path + 'data/'\n",
    "figure_save_dir = traindate_path + 'figures/'\n",
    "best_thresh = 0.13 # From code 2\n",
    "\n",
    "N_barpos = np.loadtxt(test_outputs_path + 'fqtest_data_SNRN_accuracy_hist_barpositions.txt')\n",
    "N_accper = np.loadtxt(test_outputs_path + 'fqtest_data_SNRN_accuracy_hist_accuracypercents.txt')\n",
    "E_barpos = np.loadtxt(test_outputs_path + 'fqtest_data_SNRE_accuracy_hist_barpositions.txt')\n",
    "E_accper = np.loadtxt(test_outputs_path + 'fqtest_data_SNRE_accuracy_hist_accuracypercents.txt')\n",
    "Z_barpos = np.loadtxt(test_outputs_path + 'fqtest_data_SNRZ_accuracy_hist_barpositions.txt')\n",
    "Z_accper = np.loadtxt(test_outputs_path + 'fqtest_data_SNRZ_accuracy_hist_accuracypercents.txt')"
   ]
  },
  {
   "cell_type": "code",
   "execution_count": 6,
   "id": "73a2d0d9",
   "metadata": {},
   "outputs": [],
   "source": [
    "width = 0.12\n",
    "\n",
    "plt.figure(figsize = (10,7), dpi=300)\n",
    "# plt.figure(figsize = (9,5))\n",
    "plt.grid(axis = 'y', zorder = 0)\n",
    "plt.bar(N_barpos - width, N_accper, width, color = '#2DADB4', align = 'center', edgecolor = 'black', zorder = 3, label = 'N')\n",
    "plt.bar(E_barpos, E_accper, width, color = '#001528', align = 'center', edgecolor = 'black', zorder = 3, label = 'E')\n",
    "plt.bar(Z_barpos + width, Z_accper, width, color = '#E9072D', align = 'center', edgecolor = 'black', zorder = 3, label = 'Z')\n",
    "# plt.axvline(x = np.log10(0.02), color = 'darkorange', linewidth = 3)\n",
    "plt.xlim(-3,2.18)\n",
    "plt.ylim(0,100)\n",
    "plt.ylabel('Accuracy (%)', fontsize = 16)\n",
    "plt.xlabel('Log SNR', fontsize = 16)\n",
    "plt.xticks([-3, -2.5, -2, -1.5, -1, -0.5, 0, 0.5, 1, 1.5, 2], fontsize = 14)\n",
    "plt.yticks(fontsize = 14)\n",
    "plt.title('Algorithm accuracy (threshold = ' + str(best_thresh) + ')', fontsize = 15)\n",
    "plt.suptitle('Log signal to noise ratio by component', fontsize = 19)\n",
    "plt.legend(fontsize = 16)\n",
    "\n",
    "# plt.show();\n",
    "plt.savefig(figure_save_dir + '11_fqtestdata_binned_logSNRacc_allcomps.png', format='PNG')\n",
    "plt.close();\n"
   ]
  },
  {
   "cell_type": "code",
   "execution_count": null,
   "id": "a74412ea",
   "metadata": {},
   "outputs": [],
   "source": []
  }
 ],
 "metadata": {
  "kernelspec": {
   "display_name": "Python 3 (ipykernel)",
   "language": "python",
   "name": "python3"
  },
  "language_info": {
   "codemirror_mode": {
    "name": "ipython",
    "version": 3
   },
   "file_extension": ".py",
   "mimetype": "text/x-python",
   "name": "python",
   "nbconvert_exporter": "python",
   "pygments_lexer": "ipython3",
   "version": "3.8.3"
  }
 },
 "nbformat": 4,
 "nbformat_minor": 5
}
