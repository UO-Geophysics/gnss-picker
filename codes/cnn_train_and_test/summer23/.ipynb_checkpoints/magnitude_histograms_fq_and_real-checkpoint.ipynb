{
 "cells": [
  {
   "cell_type": "code",
   "execution_count": 1,
   "id": "3b50322f-5a4d-4e23-8d01-82bccef53352",
   "metadata": {},
   "outputs": [],
   "source": [
    "import matplotlib.pyplot as plt\n",
    "import numpy as np\n",
    "import h5py"
   ]
  },
  {
   "cell_type": "code",
   "execution_count": 2,
   "id": "218dabbe-8607-4255-a928-144ceda4767f",
   "metadata": {},
   "outputs": [],
   "source": [
    "project_name = 'newfault' # Based on the name of the FakeQuakes project\n",
    "fq_dir = '/hdd/rc_fq/fall24/' # Where are the FakeQuakes stored? (The final .hdf5 file)\n",
    "noise_dir = '/home/sdybing/gnss-picker/data/noisedata/' # Where is the noise data stored?\n",
    "realdata_dir = '/home/sdybing/gnss-picker/data/realdata/summer23/' # Where is the real data stored?"
   ]
  },
  {
   "cell_type": "code",
   "execution_count": 3,
   "id": "ca09a524-8615-42a6-8b3a-d51ffd3c3660",
   "metadata": {},
   "outputs": [
    {
     "name": "stdout",
     "output_type": "stream",
     "text": [
      "Loading FakeQuakes...\n",
      "Loading FakeQuakes metadata...\n",
      "Loading noise...\n",
      "Loading real data...\n",
      "Loading real metadata...\n",
      "FakeQuakes shape: (917400, 768)\n",
      "Noise data shape: (917400, 768)\n",
      "Real data shape: (994155, 384)\n"
     ]
    }
   ],
   "source": [
    "# FakeQuakes waveform data\n",
    "print('Loading FakeQuakes...')\n",
    "fq_data = h5py.File(fq_dir + 'newfault_fq_wvfm_data_formatted.hdf5', 'r')\n",
    "fq_data = fq_data['data'][:,:]\n",
    "# old_fq_data = h5py.File(fq_dir + 'july6_128samps_fq_wvfm_data_formatted.hdf5', 'r')\n",
    "# old_fq_data = old_fq_data['data'][:,:]\n",
    "\n",
    "# FakeQuakes metadata\n",
    "print('Loading FakeQuakes metadata...')\n",
    "fq_metadata = np.load(fq_dir + 'newfault_fq_wvfm_info.npy')\n",
    "\n",
    "# Noise data\n",
    "print('Loading noise...')\n",
    "all_noise_data = h5py.File(noise_dir + 'summer23_128samps_all_noise_samples.hdf5', 'r')\n",
    "all_noise_data = all_noise_data['all_noise_samples'][:,:]\n",
    "\n",
    "# Demeaned real waveform data\n",
    "print('Loading real data...')\n",
    "real_data = h5py.File(realdata_dir + 'demean_realdata_rembad.hdf5', 'r')\n",
    "real_data = real_data['demean_realdata_rembad'][:,:]\n",
    "\n",
    "# Real metadata\n",
    "print('Loading real metadata...')\n",
    "real_metadata = np.load(realdata_dir + 'real_metadata_rembad_w_gauss_pos_mag.npy')\n",
    "\n",
    "# Columns:\n",
    "# 0: station name\n",
    "# 1: date sample came from\n",
    "# 2: sample start time\n",
    "# 3: sample end time\n",
    "# 4: random n counter\n",
    "# 5: sample P-wave arrives at (gauss pos)\n",
    "# 6: earthquake magnitude\n",
    "\n",
    "# Trim noise data to match length of FakeQuakes data\n",
    "noise_data = all_noise_data[:len(fq_data)]\n",
    "\n",
    "# Array of NaNs to use to match added noise in concatenation later\n",
    "nan_array = np.empty((len(fq_data), 3))\n",
    "nan_array[:] = np.NaN\n",
    "\n",
    "# Real data\n",
    "\n",
    "# Check shapes\n",
    "print('FakeQuakes shape: ' + str(fq_data.shape))\n",
    "print('Noise data shape: ' + str(noise_data.shape))\n",
    "print('Real data shape: ' + str(real_data.shape))\n"
   ]
  },
  {
   "cell_type": "code",
   "execution_count": 4,
   "id": "77725f8c-cecd-4e34-8a45-458290ff5abe",
   "metadata": {},
   "outputs": [],
   "source": [
    "real_rows_w_eqs = np.load(realdata_dir + 'real_metadata_rembad_rows_w_eqs.npy')"
   ]
  },
  {
   "cell_type": "code",
   "execution_count": 5,
   "id": "89d18cbc-daf2-4f2d-a785-dd5ebfc1168d",
   "metadata": {},
   "outputs": [
    {
     "name": "stdout",
     "output_type": "stream",
     "text": [
      "3.6167\n",
      "7.7934\n"
     ]
    }
   ],
   "source": [
    "print(min(fq_metadata[:,2].astype(float)))\n",
    "print(max(fq_metadata[:,2].astype(float)))"
   ]
  },
  {
   "cell_type": "code",
   "execution_count": 6,
   "id": "2c5136c0-64fe-4802-ab53-7f4488555b48",
   "metadata": {},
   "outputs": [
    {
     "data": {
      "text/plain": [
       "array([3.65, 3.75, 3.85, 3.95, 4.05, 4.15, 4.25, 4.35, 4.45, 4.55, 4.65,\n",
       "       4.75, 4.85, 4.95, 5.05, 5.15, 5.25, 5.35, 5.45, 5.55, 5.65, 5.75,\n",
       "       5.85, 5.95, 6.05, 6.15, 6.25, 6.35, 6.45, 6.55, 6.65, 6.75, 6.85,\n",
       "       6.95, 7.05, 7.15, 7.25, 7.35, 7.45, 7.55, 7.65, 7.75])"
      ]
     },
     "execution_count": 6,
     "metadata": {},
     "output_type": "execute_result"
    }
   ],
   "source": [
    "bins = np.arange(3.65,7.85,0.1)\n",
    "bins"
   ]
  },
  {
   "cell_type": "code",
   "execution_count": 7,
   "id": "e004df1a-7de7-4f19-8fcc-3f2981356d22",
   "metadata": {},
   "outputs": [
    {
     "data": {
      "text/plain": [
       "array([4.85, 4.74, 6.4 , ..., 4.47, 4.74, 5.51])"
      ]
     },
     "execution_count": 7,
     "metadata": {},
     "output_type": "execute_result"
    }
   ],
   "source": [
    "real_metadata[:,6][real_rows_w_eqs].astype(float)"
   ]
  },
  {
   "cell_type": "code",
   "execution_count": 8,
   "id": "e7407324-e243-402c-a381-37b0bc62202d",
   "metadata": {},
   "outputs": [],
   "source": [
    "plt.figure(figsize = (6,6), dpi = 400)\n",
    "\n",
    "plt.subplot(211)\n",
    "plt.text(x = 2.2, y = 600, s = '(a)', fontsize = 22)\n",
    "plt.grid(lw = 0.5, zorder = 0)\n",
    "plt.hist(real_metadata[:,6][real_rows_w_eqs].astype(float), bins = bins, color = '#f01f42', edgecolor = 'black', lw = 0.5, zorder = 3)\n",
    "plt.xlabel(\"Real earthquake waveforms' magnitudes\", fontsize = 12)\n",
    "plt.ylabel('Count', fontsize = 12)\n",
    "plt.tick_params(labelsize = 11)\n",
    "plt.xlim(3.2,8.2)\n",
    "\n",
    "plt.subplot(212)\n",
    "plt.text(x = 2.2, y = 33000, s = '(b)', fontsize = 22)\n",
    "plt.grid(lw = 0.5, zorder = 0)\n",
    "plt.hist(fq_metadata[:,2].astype(float), bins = bins, color = '#2DADB4', edgecolor = 'black', lw = 0.5, zorder = 3)\n",
    "plt.xlabel(\"FakeQuakes waveforms' magnitudes\", fontsize = 12)\n",
    "plt.ylabel('Count', fontsize = 12)\n",
    "plt.tick_params(labelsize = 11)\n",
    "plt.xlim(3.2,8.2)\n",
    "\n",
    "plt.subplots_adjust(hspace = 0.28, left = 0.2)\n",
    "\n",
    "# plt.show()\n",
    "\n",
    "# plt.savefig('/home/sdybing/gnss-picker/manuscript_figures/FigS1_fq_and_real_eq_mags_hist.jpg', format = 'JPG')\n",
    "plt.savefig('/home/sdybing/gnss-picker/manuscript_figures/Figure_S1.png', format = 'PNG')\n",
    "plt.close();"
   ]
  },
  {
   "cell_type": "code",
   "execution_count": null,
   "id": "ec542650-86fe-43e7-a9eb-6c7ab091d147",
   "metadata": {},
   "outputs": [],
   "source": []
  },
  {
   "cell_type": "code",
   "execution_count": null,
   "id": "aebbf662-d32d-45db-9b2b-563e45f869e9",
   "metadata": {},
   "outputs": [],
   "source": []
  },
  {
   "cell_type": "code",
   "execution_count": null,
   "id": "cd7ff63c-4e97-49f6-8ad0-482583327743",
   "metadata": {},
   "outputs": [],
   "source": []
  }
 ],
 "metadata": {
  "kernelspec": {
   "display_name": "Python 3 (ipykernel)",
   "language": "python",
   "name": "python3"
  },
  "language_info": {
   "codemirror_mode": {
    "name": "ipython",
    "version": 3
   },
   "file_extension": ".py",
   "mimetype": "text/x-python",
   "name": "python",
   "nbconvert_exporter": "python",
   "pygments_lexer": "ipython3",
   "version": "3.8.8"
  }
 },
 "nbformat": 4,
 "nbformat_minor": 5
}
