{
 "cells": [
  {
   "cell_type": "code",
   "execution_count": 1,
   "metadata": {},
   "outputs": [],
   "source": [
    "import numpy as np\n",
    "from parallelized_random_noise_picker_fnctn import noise_picker\n",
    "import multiprocessing as mp"
   ]
  },
  {
   "cell_type": "code",
   "execution_count": 2,
   "metadata": {},
   "outputs": [],
   "source": [
    "ncpus = 40\n",
    "# ncpus = 2\n",
    "num_samples = 917400 * 2 # minimum is length of fakequakes data x 2 for the noise part\n",
    "# num_samples = 1000\n",
    "samples_per_cpu = num_samples / ncpus\n",
    "\n",
    "# Set up for Tunguska currently\n",
    "\n",
    "stas = np.genfromtxt('/home/sdybing/gnss-picker/GNSS_stas.txt', usecols=[2], dtype=str) # Stations the GNSS data came from\n",
    "dates = np.genfromtxt('/home/sdybing/gnss-picker/GNSS_dates.txt', dtype=str) # List of the days in the GNSS file format\n",
    "\n",
    "noise_data_path = '/hdd/Ridgecrest/mseeds/'\n",
    "write_sample_path = '/home/sdybing/gnss-picker/noise_samples/mseeds/'\n",
    "save_npy_path = '/home/sdybing/gnss-picker/noise_samples/npys/'\n",
    "progress_report_path = '/home/sdybing/gnss-picker/noise_samples/prog_reps/'\n",
    "\n",
    "save_npy_name = 'summer23_noise_samples.npy'"
   ]
  },
  {
   "cell_type": "code",
   "execution_count": 3,
   "metadata": {},
   "outputs": [],
   "source": [
    "if __name__ ==  '__main__':\n",
    "\n",
    "    jobs = []\n",
    "    for cpu_number in range(ncpus):\n",
    "        p = mp.Process(target = noise_picker, args = (stas, dates, samples_per_cpu, noise_data_path, write_sample_path, cpu_number, save_npy_path, save_npy_name, progress_report_path))\n",
    "        jobs.append(p)\n",
    "        p.start()"
   ]
  },
  {
   "cell_type": "code",
   "execution_count": null,
   "metadata": {},
   "outputs": [],
   "source": []
  }
 ],
 "metadata": {
  "kernelspec": {
   "display_name": "Python 3",
   "language": "python",
   "name": "python3"
  },
  "language_info": {
   "codemirror_mode": {
    "name": "ipython",
    "version": 3
   },
   "file_extension": ".py",
   "mimetype": "text/x-python",
   "name": "python",
   "nbconvert_exporter": "python",
   "pygments_lexer": "ipython3",
   "version": "3.8.5"
  }
 },
 "nbformat": 4,
 "nbformat_minor": 4
}
