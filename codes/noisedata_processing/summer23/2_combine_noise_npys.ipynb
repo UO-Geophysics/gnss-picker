{
 "cells": [
  {
   "cell_type": "code",
   "execution_count": 5,
   "metadata": {},
   "outputs": [],
   "source": [
    "import numpy as np\n",
    "import h5py"
   ]
  },
  {
   "cell_type": "code",
   "execution_count": 9,
   "metadata": {},
   "outputs": [],
   "source": [
    "ncpus = 40 # Number of cpus used in picking noise samples code\n",
    "cpus = np.arange(0,ncpus,1)\n",
    "test_cpus = np.arange(0,2,1)\n",
    "npy_path = '/home/sdybing/gnss-picker/noise_samples/npys/'\n",
    "save_big_array_path = '/home/sdybing/gnss-picker/noise_samples/'\n",
    "project = 'summer23'\n",
    "\n",
    "i = 0\n",
    "array = np.load(npy_path + 'CPU_' + str(i) + '_' + project + '_128samp_noise_samples.npy', allow_pickle = True)"
   ]
  },
  {
   "cell_type": "code",
   "execution_count": 10,
   "metadata": {},
   "outputs": [
    {
     "name": "stdout",
     "output_type": "stream",
     "text": [
      "1\n",
      "2\n",
      "3\n",
      "4\n",
      "5\n",
      "6\n",
      "7\n",
      "8\n",
      "9\n",
      "10\n",
      "11\n",
      "12\n",
      "13\n",
      "14\n",
      "15\n",
      "16\n",
      "17\n",
      "18\n",
      "19\n",
      "20\n",
      "21\n",
      "22\n",
      "23\n",
      "24\n",
      "25\n",
      "26\n",
      "27\n",
      "28\n",
      "29\n",
      "30\n",
      "31\n",
      "32\n",
      "33\n",
      "34\n",
      "35\n",
      "36\n",
      "37\n",
      "38\n",
      "39\n",
      "(1834800, 768)\n"
     ]
    }
   ],
   "source": [
    "for cpu in cpus:\n",
    "    \n",
    "    i += 1\n",
    "    if i == ncpus:\n",
    "        break\n",
    "    \n",
    "    print(i)\n",
    "    new_array = np.load(npy_path + 'CPU_' + str(i) + '_' + project + '_128samp_noise_samples.npy', allow_pickle = True)\n",
    "    \n",
    "    appended = np.r_[array, new_array] # puts rows on top of rows\n",
    "    # appended = np.append(array, new_array)\n",
    "    \n",
    "    array = appended\n",
    "#     print(array.shape)\n",
    "    # print(array.dtype)\n",
    "    # print(array[0])\n",
    "\n",
    "# array.astype(np.float64)\n",
    "# print(array.dtype)\n",
    "# print(array[0])    \n",
    "print(array.shape)"
   ]
  },
  {
   "cell_type": "code",
   "execution_count": 11,
   "metadata": {},
   "outputs": [],
   "source": [
    "h5f = h5py.File(save_big_array_path + project + '_128samp_all_noise_samples.hdf5', 'w')  \n",
    "h5f.create_dataset('all_noise_samples', data = array)\n",
    "h5f.close()"
   ]
  },
  {
   "cell_type": "code",
   "execution_count": 12,
   "metadata": {},
   "outputs": [],
   "source": [
    "del array # clear memory"
   ]
  },
  {
   "cell_type": "code",
   "execution_count": null,
   "metadata": {},
   "outputs": [],
   "source": []
  }
 ],
 "metadata": {
  "kernelspec": {
   "display_name": "Python 3",
   "language": "python",
   "name": "python3"
  },
  "language_info": {
   "codemirror_mode": {
    "name": "ipython",
    "version": 3
   },
   "file_extension": ".py",
   "mimetype": "text/x-python",
   "name": "python",
   "nbconvert_exporter": "python",
   "pygments_lexer": "ipython3",
   "version": "3.8.5"
  }
 },
 "nbformat": 4,
 "nbformat_minor": 4
}
